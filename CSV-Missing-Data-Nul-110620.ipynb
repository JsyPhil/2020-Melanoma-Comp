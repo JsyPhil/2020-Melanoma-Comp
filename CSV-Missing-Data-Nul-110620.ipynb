{
 "cells": [
  {
   "cell_type": "markdown",
   "metadata": {},
   "source": [
    "## Check and Resolve Missing Data - Univariate Imputation"
   ]
  },
  {
   "cell_type": "code",
   "execution_count": 1,
   "metadata": {},
   "outputs": [],
   "source": [
    "import pandas as pd\n",
    "from sklearn.impute import SimpleImputer"
   ]
  },
  {
   "cell_type": "code",
   "execution_count": 2,
   "metadata": {},
   "outputs": [],
   "source": [
    "csv_train_file = pd.read_csv('./siim-isic-melanoma-classification/train.csv')\n",
    "csv_test_file = pd.read_csv('./siim-isic-melanoma-classification/test.csv')\n",
    "\n",
    "csv_train_file.name = 'Training Set'\n",
    "csv_test_file.name = 'Test Set'"
   ]
  },
  {
   "cell_type": "code",
   "execution_count": 3,
   "metadata": {},
   "outputs": [
    {
     "name": "stdout",
     "output_type": "stream",
     "text": [
      "<class 'pandas.core.frame.DataFrame'>\n",
      "RangeIndex: 33126 entries, 0 to 33125\n",
      "Data columns (total 8 columns):\n",
      " #   Column                         Non-Null Count  Dtype  \n",
      "---  ------                         --------------  -----  \n",
      " 0   image_name                     33126 non-null  object \n",
      " 1   patient_id                     33126 non-null  object \n",
      " 2   sex                            33061 non-null  object \n",
      " 3   age_approx                     33058 non-null  float64\n",
      " 4   anatom_site_general_challenge  32599 non-null  object \n",
      " 5   diagnosis                      33126 non-null  object \n",
      " 6   benign_malignant               33126 non-null  object \n",
      " 7   target                         33126 non-null  int64  \n",
      "dtypes: float64(1), int64(1), object(6)\n",
      "memory usage: 2.0+ MB\n",
      "None\n"
     ]
    }
   ],
   "source": [
    "print(csv_train_file.info())"
   ]
  },
  {
   "cell_type": "code",
   "execution_count": 4,
   "metadata": {},
   "outputs": [
    {
     "name": "stdout",
     "output_type": "stream",
     "text": [
      "<class 'pandas.core.frame.DataFrame'>\n",
      "RangeIndex: 10982 entries, 0 to 10981\n",
      "Data columns (total 5 columns):\n",
      " #   Column                         Non-Null Count  Dtype  \n",
      "---  ------                         --------------  -----  \n",
      " 0   image_name                     10982 non-null  object \n",
      " 1   patient_id                     10982 non-null  object \n",
      " 2   sex                            10982 non-null  object \n",
      " 3   age_approx                     10982 non-null  float64\n",
      " 4   anatom_site_general_challenge  10631 non-null  object \n",
      "dtypes: float64(1), object(4)\n",
      "memory usage: 429.1+ KB\n",
      "None\n"
     ]
    }
   ],
   "source": [
    "print(csv_test_file.info())"
   ]
  },
  {
   "cell_type": "markdown",
   "metadata": {},
   "source": [
    "### Training Data"
   ]
  },
  {
   "cell_type": "code",
   "execution_count": 5,
   "metadata": {},
   "outputs": [],
   "source": [
    "categorical_cols = ['sex', 'anatom_site_general_challenge']\n",
    "numerical_cols = ['age_approx']\n",
    "all_cols = categorical_cols + numerical_cols\n",
    "\n",
    "cat_cols = csv_train_file[categorical_cols].copy()\n",
    "num_cols = csv_train_file[numerical_cols].copy()"
   ]
  },
  {
   "cell_type": "code",
   "execution_count": 6,
   "metadata": {},
   "outputs": [],
   "source": [
    "# Imputation of categorical data\n",
    "imputer_cat_train = SimpleImputer(strategy='constant', fill_value='none')\n",
    "imputed_cat_train = pd.DataFrame(imputer_cat_train.fit_transform(cat_cols))\n",
    "imputed_cat_train.columns = cat_cols.columns"
   ]
  },
  {
   "cell_type": "code",
   "execution_count": 7,
   "metadata": {},
   "outputs": [],
   "source": [
    "# Imputation of numerical data\n",
    "imputer_num_train = SimpleImputer(strategy='constant', fill_value=0)\n",
    "imputed_num_train = pd.DataFrame(imputer_num_train.fit_transform(num_cols))\n",
    "imputed_num_train.columns = num_cols.columns"
   ]
  },
  {
   "cell_type": "code",
   "execution_count": 8,
   "metadata": {},
   "outputs": [],
   "source": [
    "csv_train_file = csv_train_file.drop(all_cols, axis=1)\n",
    "csv_train_file = pd.concat([csv_train_file, imputed_cat_train, imputed_num_train], axis=1)"
   ]
  },
  {
   "cell_type": "code",
   "execution_count": 9,
   "metadata": {
    "scrolled": true
   },
   "outputs": [
    {
     "name": "stdout",
     "output_type": "stream",
     "text": [
      "<class 'pandas.core.frame.DataFrame'>\n",
      "RangeIndex: 33126 entries, 0 to 33125\n",
      "Data columns (total 8 columns):\n",
      " #   Column                         Non-Null Count  Dtype  \n",
      "---  ------                         --------------  -----  \n",
      " 0   image_name                     33126 non-null  object \n",
      " 1   patient_id                     33126 non-null  object \n",
      " 2   diagnosis                      33126 non-null  object \n",
      " 3   benign_malignant               33126 non-null  object \n",
      " 4   target                         33126 non-null  int64  \n",
      " 5   sex                            33126 non-null  object \n",
      " 6   anatom_site_general_challenge  33126 non-null  object \n",
      " 7   age_approx                     33126 non-null  float64\n",
      "dtypes: float64(1), int64(1), object(6)\n",
      "memory usage: 2.0+ MB\n",
      "None\n"
     ]
    }
   ],
   "source": [
    "print(csv_train_file.info())"
   ]
  },
  {
   "cell_type": "markdown",
   "metadata": {},
   "source": [
    "### Test Data"
   ]
  },
  {
   "cell_type": "code",
   "execution_count": 10,
   "metadata": {},
   "outputs": [
    {
     "name": "stdout",
     "output_type": "stream",
     "text": [
      "<class 'pandas.core.frame.DataFrame'>\n",
      "RangeIndex: 10982 entries, 0 to 10981\n",
      "Data columns (total 5 columns):\n",
      " #   Column                         Non-Null Count  Dtype  \n",
      "---  ------                         --------------  -----  \n",
      " 0   image_name                     10982 non-null  object \n",
      " 1   patient_id                     10982 non-null  object \n",
      " 2   sex                            10982 non-null  object \n",
      " 3   age_approx                     10982 non-null  float64\n",
      " 4   anatom_site_general_challenge  10982 non-null  object \n",
      "dtypes: float64(1), object(4)\n",
      "memory usage: 429.1+ KB\n",
      "None\n"
     ]
    }
   ],
   "source": [
    "categorical_cols = ['anatom_site_general_challenge']\n",
    "\n",
    "cat_cols = csv_test_file[categorical_cols].copy()\n",
    "\n",
    "# Imputation of categorical data\n",
    "imputer_cat_test = SimpleImputer(strategy='constant', fill_value='none')\n",
    "imputed_cat_test = pd.DataFrame(imputer_cat_test.fit_transform(cat_cols))\n",
    "imputed_cat_test.columns = cat_cols.columns\n",
    "\n",
    "csv_test_file = csv_test_file.drop(cat_cols, axis=1)\n",
    "csv_test_file = pd.concat([csv_test_file, imputed_cat_test], axis=1)\n",
    "\n",
    "print(csv_test_file.info())"
   ]
  },
  {
   "cell_type": "markdown",
   "metadata": {},
   "source": [
    "#### Check Again For Missing Data"
   ]
  },
  {
   "cell_type": "code",
   "execution_count": 11,
   "metadata": {},
   "outputs": [
    {
     "name": "stdout",
     "output_type": "stream",
     "text": [
      "Training Set\n",
      "image_name column missing values: 0\n",
      "patient_id column missing values: 0\n",
      "diagnosis column missing values: 0\n",
      "benign_malignant column missing values: 0\n",
      "target column missing values: 0\n",
      "sex column missing values: 0\n",
      "anatom_site_general_challenge column missing values: 0\n",
      "age_approx column missing values: 0\n",
      "\n",
      "\n",
      "Test Set\n",
      "image_name column missing values: 0\n",
      "patient_id column missing values: 0\n",
      "sex column missing values: 0\n",
      "age_approx column missing values: 0\n",
      "anatom_site_general_challenge column missing values: 0\n",
      "\n",
      "\n"
     ]
    }
   ],
   "source": [
    "csv_train_file.name = 'Training Set'\n",
    "csv_test_file.name = 'Test Set'\n",
    "\n",
    "dfs = [csv_train_file, csv_test_file]\n",
    "\n",
    "def display_missing(df):    \n",
    "    for col in df.columns.tolist():          \n",
    "        print('{} column missing values: {}'.format(col, df[col].isnull().sum()))\n",
    "    print('\\n')\n",
    "    \n",
    "for df in dfs:\n",
    "    print('{}'.format(df.name))\n",
    "    display_missing(df)"
   ]
  },
  {
   "cell_type": "code",
   "execution_count": 12,
   "metadata": {},
   "outputs": [],
   "source": [
    "# Save the files\n",
    "csv_train_file.to_csv('./cleaned_csvs/train_clean_nul.csv', index=False)\n",
    "csv_test_file.to_csv('./cleaned_csvs/test_clean_nul.csv', index=False)"
   ]
  },
  {
   "cell_type": "code",
   "execution_count": null,
   "metadata": {},
   "outputs": [],
   "source": []
  }
 ],
 "metadata": {
  "kernelspec": {
   "display_name": "Python 3",
   "language": "python",
   "name": "python3"
  },
  "language_info": {
   "codemirror_mode": {
    "name": "ipython",
    "version": 3
   },
   "file_extension": ".py",
   "mimetype": "text/x-python",
   "name": "python",
   "nbconvert_exporter": "python",
   "pygments_lexer": "ipython3",
   "version": "3.7.4"
  }
 },
 "nbformat": 4,
 "nbformat_minor": 4
}
