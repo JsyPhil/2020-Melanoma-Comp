{
 "cells": [
  {
   "cell_type": "code",
   "execution_count": 1,
   "metadata": {},
   "outputs": [],
   "source": [
    "import cv2\n",
    "import numpy as np\n",
    "import matplotlib.pyplot as plt\n",
    "import pandas as pd\n",
    "import torch\n",
    "import torch.nn as nn\n",
    "import torch.nn.functional as F\n",
    "import torchvision.transforms as transforms\n",
    "from sklearn.preprocessing import MinMaxScaler\n",
    "from datetime import datetime\n",
    "from tqdm import tqdm\n",
    "from sklearn.metrics import roc_curve\n",
    "from sklearn.metrics import roc_auc_score\n",
    "from sklearn.metrics import auc"
   ]
  },
  {
   "cell_type": "code",
   "execution_count": 2,
   "metadata": {},
   "outputs": [],
   "source": [
    "# load CSV's\n",
    "df_train = pd.read_csv('/home/malmason/datasets/siim-isic-melanoma-classification/cleaned_csv/train_pp.csv')\n",
    "df_test = pd.read_csv('/home/malmason/datasets/siim-isic-melanoma-classification/cleaned_csv/test_pp.csv')"
   ]
  },
  {
   "cell_type": "code",
   "execution_count": 3,
   "metadata": {},
   "outputs": [],
   "source": [
    "# Point to image folders\n",
    "img_train_folder = '/home/malmason/datasets/siim-isic-melanoma-classification/ycbcr/norm/train/'\n",
    "img_test_folder = '/home/malmason/datasets/siim-isic-melanoma-classification/ycbcr/norm/test/'"
   ]
  },
  {
   "cell_type": "code",
   "execution_count": 4,
   "metadata": {},
   "outputs": [],
   "source": [
    "df_train_csv = df_train[:26000]\n",
    "df_val_csv   = df_train[26000:]"
   ]
  },
  {
   "cell_type": "code",
   "execution_count": 5,
   "metadata": {},
   "outputs": [],
   "source": [
    "df_train_csv = df_train_csv.append(df_train_csv.loc[df_train_csv['target'] == 1])\n",
    "df_train_csv = df_train_csv.append(df_train_csv.loc[df_train_csv['target'] == 1])\n",
    "df_train_csv = df_train_csv.append(df_train_csv.loc[df_train_csv['target'] == 1])"
   ]
  },
  {
   "cell_type": "code",
   "execution_count": 6,
   "metadata": {},
   "outputs": [],
   "source": [
    "df_train_csv = df_train_csv.sample(frac=1).reset_index(drop=True)"
   ]
  },
  {
   "cell_type": "code",
   "execution_count": 7,
   "metadata": {},
   "outputs": [
    {
     "data": {
      "text/plain": [
       "(29185, 17)"
      ]
     },
     "execution_count": 7,
     "metadata": {},
     "output_type": "execute_result"
    }
   ],
   "source": [
    "df_train_csv.shape"
   ]
  },
  {
   "cell_type": "code",
   "execution_count": 8,
   "metadata": {},
   "outputs": [],
   "source": [
    "# Used for looping through image columns\n",
    "X_train_img = df_train_csv['image_name']\n",
    "X_val_img = df_val_csv['image_name']"
   ]
  },
  {
   "cell_type": "code",
   "execution_count": 9,
   "metadata": {},
   "outputs": [],
   "source": [
    "X_train_csv = df_train_csv.drop(['target', 'image_name'], axis=1).values\n",
    "y_train_csv = df_train_csv['target'].values\n",
    "X_val_csv = df_val_csv.drop(['target', 'image_name'], axis=1).values\n",
    "y_val_csv = df_val_csv['target'].values"
   ]
  },
  {
   "cell_type": "code",
   "execution_count": 10,
   "metadata": {},
   "outputs": [
    {
     "name": "stdout",
     "output_type": "stream",
     "text": [
      "(29185, 15) (29185,) (7126, 15) (7126,)\n"
     ]
    }
   ],
   "source": [
    "print(X_train_csv.shape, y_train_csv.shape, X_val_csv.shape, y_val_csv.shape)"
   ]
  },
  {
   "cell_type": "code",
   "execution_count": 11,
   "metadata": {},
   "outputs": [
    {
     "name": "stdout",
     "output_type": "stream",
     "text": [
      "8192\n"
     ]
    }
   ],
   "source": [
    "sizing = 224 - 2            # conv1\n",
    "sizing = (sizing - 2) / 2   # conv2  \n",
    "sizing = (sizing - 2)       # conv3\n",
    "sizing = (sizing - 2) / 2   # conv4\n",
    "sizing = (sizing - 2)       # conv5\n",
    "sizing = (sizing - 2) / 2   # conv6\n",
    "sizing = (sizing - 2)       # conv7\n",
    "sizing = (sizing - 2) / 2   # conv8\n",
    "sizing = (sizing - 2) /2    # conv9\n",
    "print(512*(int(sizing)*int(sizing)))"
   ]
  },
  {
   "cell_type": "code",
   "execution_count": 12,
   "metadata": {},
   "outputs": [
    {
     "name": "stdout",
     "output_type": "stream",
     "text": [
      "4608\n"
     ]
    }
   ],
   "source": [
    "sizing = 224 - 4            # conv1\n",
    "sizing = (sizing - 4) / 2   # conv2  \n",
    "sizing = (sizing - 4) / 2   # conv4\n",
    "sizing = (sizing - 4) / 2   # conv6\n",
    "sizing = (sizing - 4) / 2   # conv8\n",
    "sizing = (sizing - 4) / 2   # conv9\n",
    "print(512*(int(sizing)*int(sizing)))"
   ]
  },
  {
   "cell_type": "code",
   "execution_count": 13,
   "metadata": {},
   "outputs": [],
   "source": [
    "class CNN(nn.Module):\n",
    "  def __init__(self, n_output_neurons):\n",
    "    super(CNN, self).__init__()\n",
    "\n",
    "    self.conv1 = nn.Conv2d(3 , 32,   kernel_size=3, stride=1)\n",
    "    self.conv2 = nn.Conv2d(32, 32,   kernel_size=3, stride=1)\n",
    "    self.bn1   = nn.BatchNorm2d(32)\n",
    "    self.conv3 = nn.Conv2d(32 , 64,  kernel_size=3, stride=1)\n",
    "    self.conv4 = nn.Conv2d(64 , 64,  kernel_size=3, stride=1)\n",
    "\n",
    "    self.conv5 = nn.Conv2d(64 , 128, kernel_size=3, stride=1)\n",
    "    self.conv6 = nn.Conv2d(128 ,128, kernel_size=3, stride=1)\n",
    "\n",
    "    self.conv7 = nn.Conv2d(128, 256, kernel_size=3, stride=1)\n",
    "    self.conv8 = nn.Conv2d(256 ,256, kernel_size=3, stride=1)\n",
    "    self.bn4   = nn.BatchNorm2d(256)\n",
    "    self.conv9 = nn.Conv2d(256, 512, kernel_size=3, stride=1)\n",
    "\n",
    "\n",
    "    self.conv11 = nn.Conv2d(3 , 32,   kernel_size=5, stride=1)\n",
    "    self.bn11   = nn.BatchNorm2d(32)\n",
    "    self.conv21 = nn.Conv2d(32 , 64,  kernel_size=5, stride=1)\n",
    "\n",
    "    self.conv31 = nn.Conv2d(64 , 128, kernel_size=5, stride=1)\n",
    "\n",
    "    self.conv41 = nn.Conv2d(128, 256, kernel_size=5, stride=1)\n",
    "\n",
    "    self.conv51 = nn.Conv2d(256, 512, kernel_size=5, stride=1)\n",
    "    self.bn51   = nn.BatchNorm2d(512)\n",
    "    \n",
    "    self.data1 = nn.Linear(15, 128)\n",
    "    self.data2 = nn.Linear(128, 16)\n",
    "    \n",
    "    self.img_fc1   = nn.Linear(8192+4608,128)\n",
    "    self.img_fc2   = nn.Linear(128,32)\n",
    "    self.img_fc3   = nn.Linear(32,16)\n",
    "    \n",
    "    self.fc1_conc  = nn.Linear(32,n_output_neurons)\n",
    "\n",
    "  def forward(self, x, xd):\n",
    "    \n",
    "    xa = F.relu(self.conv1(x),2)\n",
    "    xa = F.relu(F.max_pool2d(self.conv2(xa),2))\n",
    "    xa = self.bn1(xa)\n",
    "    xa = F.relu(self.conv3(xa),2)\n",
    "    xa = F.relu(F.max_pool2d(self.conv4(xa),2))\n",
    "\n",
    "    xa = F.relu(self.conv5(xa),2)\n",
    "    xa = F.relu(F.max_pool2d(self.conv6(xa),2))\n",
    "\n",
    "    xa = F.relu(self.conv7(xa),2)\n",
    "    xa = F.relu(F.max_pool2d(self.conv8(xa),2))\n",
    "    xa = self.bn4(xa)\n",
    "    xa = F.relu(F.max_pool2d(self.conv9(xa),2))\n",
    "\n",
    "\n",
    "    xb = F.relu(F.max_pool2d(self.conv11(x),2))\n",
    "    xb = self.bn11(xb)\n",
    "    xb = F.relu(F.max_pool2d(self.conv21(xb),2))\n",
    "\n",
    "    xb = F.relu(F.max_pool2d(self.conv31(xb),2))\n",
    "\n",
    "    xb = F.relu(F.max_pool2d(self.conv41(xb),2))\n",
    "\n",
    "    xb = F.relu(F.max_pool2d(self.conv51(xb),2))\n",
    "    xb = self.bn51(xb)\n",
    "    \n",
    "    xa = xa.view(xa.size(0), -1)\n",
    "    xb = xb.view(xb.size(0), -1)\n",
    "    \n",
    "    xi = torch.cat((xa, xb), dim=1)\n",
    "    \n",
    "    xi = F.leaky_relu(self.img_fc1(xi))\n",
    "    xi = F.dropout(xi, p=0.3)\n",
    "    \n",
    "    xi = F.leaky_relu(self.img_fc2(xi))\n",
    "    xi = F.dropout(xi, p=0.2)\n",
    "    xi = F.leaky_relu(self.img_fc3(xi))\n",
    "    \n",
    "    xd = F.leaky_relu(self.data1(xd))\n",
    "    xd = F.dropout(xd, p=0.2)\n",
    "    xd = F.leaky_relu(self.data2(xd))\n",
    "    \n",
    "    x = torch.cat((xi, xd), dim=1)\n",
    "    \n",
    "    x = self.fc1_conc(x)\n",
    "\n",
    "    return x"
   ]
  },
  {
   "cell_type": "code",
   "execution_count": 14,
   "metadata": {},
   "outputs": [],
   "source": [
    "n_output_neurons = 1"
   ]
  },
  {
   "cell_type": "code",
   "execution_count": 15,
   "metadata": {},
   "outputs": [],
   "source": [
    "model = CNN(n_output_neurons)"
   ]
  },
  {
   "cell_type": "code",
   "execution_count": 16,
   "metadata": {},
   "outputs": [
    {
     "name": "stdout",
     "output_type": "stream",
     "text": [
      "cuda:0\n"
     ]
    },
    {
     "data": {
      "text/plain": [
       "CNN(\n",
       "  (conv1): Conv2d(3, 32, kernel_size=(3, 3), stride=(1, 1))\n",
       "  (conv2): Conv2d(32, 32, kernel_size=(3, 3), stride=(1, 1))\n",
       "  (bn1): BatchNorm2d(32, eps=1e-05, momentum=0.1, affine=True, track_running_stats=True)\n",
       "  (conv3): Conv2d(32, 64, kernel_size=(3, 3), stride=(1, 1))\n",
       "  (conv4): Conv2d(64, 64, kernel_size=(3, 3), stride=(1, 1))\n",
       "  (conv5): Conv2d(64, 128, kernel_size=(3, 3), stride=(1, 1))\n",
       "  (conv6): Conv2d(128, 128, kernel_size=(3, 3), stride=(1, 1))\n",
       "  (conv7): Conv2d(128, 256, kernel_size=(3, 3), stride=(1, 1))\n",
       "  (conv8): Conv2d(256, 256, kernel_size=(3, 3), stride=(1, 1))\n",
       "  (bn4): BatchNorm2d(256, eps=1e-05, momentum=0.1, affine=True, track_running_stats=True)\n",
       "  (conv9): Conv2d(256, 512, kernel_size=(3, 3), stride=(1, 1))\n",
       "  (conv11): Conv2d(3, 32, kernel_size=(5, 5), stride=(1, 1))\n",
       "  (bn11): BatchNorm2d(32, eps=1e-05, momentum=0.1, affine=True, track_running_stats=True)\n",
       "  (conv21): Conv2d(32, 64, kernel_size=(5, 5), stride=(1, 1))\n",
       "  (conv31): Conv2d(64, 128, kernel_size=(5, 5), stride=(1, 1))\n",
       "  (conv41): Conv2d(128, 256, kernel_size=(5, 5), stride=(1, 1))\n",
       "  (conv51): Conv2d(256, 512, kernel_size=(5, 5), stride=(1, 1))\n",
       "  (bn51): BatchNorm2d(512, eps=1e-05, momentum=0.1, affine=True, track_running_stats=True)\n",
       "  (data1): Linear(in_features=15, out_features=128, bias=True)\n",
       "  (data2): Linear(in_features=128, out_features=16, bias=True)\n",
       "  (img_fc1): Linear(in_features=12800, out_features=128, bias=True)\n",
       "  (img_fc2): Linear(in_features=128, out_features=32, bias=True)\n",
       "  (img_fc3): Linear(in_features=32, out_features=16, bias=True)\n",
       "  (fc1_conc): Linear(in_features=32, out_features=1, bias=True)\n",
       ")"
      ]
     },
     "execution_count": 16,
     "metadata": {},
     "output_type": "execute_result"
    }
   ],
   "source": [
    "device = torch.device(\"cuda:0\" if torch.cuda.is_available() else \"cpu\")\n",
    "print(device)\n",
    "model.to(device)"
   ]
  },
  {
   "cell_type": "code",
   "execution_count": 17,
   "metadata": {},
   "outputs": [],
   "source": [
    "X_train_image = []\n",
    "for image_get in X_train_img:\n",
    "    img_train = cv2.imread(img_train_folder + '{}.jpg'.format(image_get))\n",
    "    '''\n",
    "    rand_num = np.random.uniform(low=1, high=1.2)\n",
    "    M = cv2.resize(img_train, None, fx= rand_num, fy= rand_num, interpolation= cv2.INTER_LINEAR)\n",
    "    \n",
    "    H_crop = ((224*rand_num)-224)/2\n",
    "    V_crop = ((224*rand_num)-224)/2\n",
    "    \n",
    "    C = M[np.int(H_crop):np.int(M.shape[0]-H_crop),np.int(V_crop):np.int(M.shape[1]-np.int(V_crop))]\n",
    "    img_train= cv2.resize(C,(224,224))\n",
    "    '''\n",
    "    X_train_image.append(img_train)"
   ]
  },
  {
   "cell_type": "code",
   "execution_count": 18,
   "metadata": {},
   "outputs": [],
   "source": [
    "X_val_image = []\n",
    "for image_get in X_val_img:\n",
    "    img_val = cv2.imread(img_train_folder + '{}.jpg'.format(image_get))\n",
    "    \n",
    "    X_val_image.append(img_val)"
   ]
  },
  {
   "cell_type": "code",
   "execution_count": 19,
   "metadata": {},
   "outputs": [],
   "source": [
    "X_train_image = np.array(X_train_image)\n",
    "X_train_image = X_train_image.astype(np.float32)"
   ]
  },
  {
   "cell_type": "code",
   "execution_count": 20,
   "metadata": {},
   "outputs": [],
   "source": [
    "X_val_image = np.array(X_val_image)\n",
    "X_val_image = X_val_image.astype(np.float32)"
   ]
  },
  {
   "cell_type": "code",
   "execution_count": 21,
   "metadata": {},
   "outputs": [],
   "source": [
    "Y_train = np.array(y_train_csv)\n",
    "Y_val = np.array(y_val_csv)"
   ]
  },
  {
   "cell_type": "code",
   "execution_count": 22,
   "metadata": {},
   "outputs": [],
   "source": [
    "X_train_image = X_train_image / 255\n",
    "X_val_image = X_val_image / 255"
   ]
  },
  {
   "cell_type": "code",
   "execution_count": 23,
   "metadata": {},
   "outputs": [
    {
     "name": "stdout",
     "output_type": "stream",
     "text": [
      "Train shape: (29185, 224, 224, 3), Vl shape: (7126, 224, 224, 3)\n"
     ]
    }
   ],
   "source": [
    "print(f'Train shape: {X_train_image.shape}, Vl shape: {X_val_image.shape}')"
   ]
  },
  {
   "cell_type": "code",
   "execution_count": 24,
   "metadata": {},
   "outputs": [],
   "source": [
    "X_train_image_t = np.transpose(X_train_image, (0,3,1,2))"
   ]
  },
  {
   "cell_type": "code",
   "execution_count": 25,
   "metadata": {},
   "outputs": [],
   "source": [
    "input_train = torch.from_numpy(X_train_image_t)"
   ]
  },
  {
   "cell_type": "code",
   "execution_count": 26,
   "metadata": {},
   "outputs": [],
   "source": [
    "target_train = torch.from_numpy(Y_train).reshape(-1,1).float()"
   ]
  },
  {
   "cell_type": "code",
   "execution_count": 27,
   "metadata": {},
   "outputs": [],
   "source": [
    "X_val_image_t = np.transpose(X_val_image, (0,3,1,2))"
   ]
  },
  {
   "cell_type": "code",
   "execution_count": 28,
   "metadata": {},
   "outputs": [],
   "source": [
    "input_val = torch.from_numpy(X_val_image_t)"
   ]
  },
  {
   "cell_type": "code",
   "execution_count": 29,
   "metadata": {},
   "outputs": [],
   "source": [
    "target_val = torch.from_numpy(Y_val).reshape(-1,1).float()"
   ]
  },
  {
   "cell_type": "code",
   "execution_count": 30,
   "metadata": {},
   "outputs": [],
   "source": [
    "X_train_csv = X_train_csv.astype(np.float32)\n",
    "X_val_csv   = X_val_csv.astype(np.float32)"
   ]
  },
  {
   "cell_type": "code",
   "execution_count": 31,
   "metadata": {},
   "outputs": [],
   "source": [
    "input_train_data = torch.from_numpy(X_train_csv)\n",
    "input_val_data   = torch.from_numpy(X_val_csv)"
   ]
  },
  {
   "cell_type": "code",
   "execution_count": 32,
   "metadata": {},
   "outputs": [],
   "source": [
    "n_epochs = 10\n",
    "train_losses = []\n",
    "val_losses = []"
   ]
  },
  {
   "cell_type": "code",
   "execution_count": 33,
   "metadata": {},
   "outputs": [],
   "source": [
    "criterion = nn.BCEWithLogitsLoss()\n",
    "optimizer = torch.optim.Adam(model.parameters(), lr=0.0002)"
   ]
  },
  {
   "cell_type": "code",
   "execution_count": 34,
   "metadata": {},
   "outputs": [],
   "source": [
    "batch_size = 64\n",
    "training_set = torch.utils.data.TensorDataset(input_train, input_train_data, target_train)\n",
    "train_loader = torch.utils.data.DataLoader(dataset=training_set, \n",
    "                                           batch_size=batch_size,\n",
    "                                           num_workers=2,\n",
    "                                           shuffle=True)\n",
    "val_set = torch.utils.data.TensorDataset(input_val, input_val_data, target_val)\n",
    "val_loader = torch.utils.data.DataLoader(dataset=val_set, \n",
    "                                           batch_size=batch_size,\n",
    "                                         num_workers=2,\n",
    "                                           shuffle=False)"
   ]
  },
  {
   "cell_type": "code",
   "execution_count": 35,
   "metadata": {},
   "outputs": [],
   "source": [
    "def binary_acc(output_pred, target):\n",
    "    output_pred_tag = torch.round(torch.sigmoid(output_pred))\n",
    "\n",
    "    correct_results_sum = (output_pred_tag == target).sum().float()\n",
    "    acc = correct_results_sum/target.shape[0]\n",
    "    acc = torch.round(acc * 100)\n",
    "    \n",
    "    return acc"
   ]
  },
  {
   "cell_type": "code",
   "execution_count": 36,
   "metadata": {},
   "outputs": [],
   "source": [
    "def batch_gd(model, criterion, optimizer, train_loader, val_loader, n_epochs):\n",
    "    train_losses = np.zeros(n_epochs)\n",
    "    val_losses = np.zeros(n_epochs)\n",
    "    train_accuracy = np.zeros(n_epochs)\n",
    "    val_accuracy = np.zeros(n_epochs)\n",
    "    \n",
    "    \n",
    "    for it in range(n_epochs):\n",
    "        t0 = datetime.now()\n",
    "        \n",
    "        train_loss = []\n",
    "        train_acc = []\n",
    "        \n",
    "        for inputs, inputs_data, targets in tqdm(train_loader):\n",
    "            inputs, inputs_data, targets = inputs.to(device), inputs_data.to(device), targets.to(device)\n",
    "            \n",
    "            optimizer.zero_grad()\n",
    "            outputs = model(inputs, inputs_data)\n",
    "\n",
    "            loss = criterion(outputs, targets)\n",
    "            acc = binary_acc(outputs, targets)\n",
    "            \n",
    "            loss.backward()\n",
    "            optimizer.step()\n",
    "            \n",
    "            train_loss.append(loss.item())\n",
    "            train_acc.append(acc.item())\n",
    "            \n",
    "        train_loss = np.mean(train_loss)\n",
    "        train_acc = np.mean(train_acc)\n",
    "        \n",
    "        val_loss = []\n",
    "        val_acc = []\n",
    "        \n",
    "        for inputs, inputs_data, targets in tqdm(val_loader):\n",
    "            inputs, inputs_data, targets = inputs.to(device), inputs_data.to(device), targets.to(device)\n",
    "            outputs = model(inputs, inputs_data)\n",
    "\n",
    "            loss = criterion(outputs, targets)\n",
    "            acc = binary_acc(outputs, targets)\n",
    "            \n",
    "            val_loss.append(loss.item())\n",
    "            val_acc.append(acc.item())\n",
    "\n",
    "            \n",
    "        val_loss = np.mean(val_loss)\n",
    "        val_acc = np.mean(val_acc)\n",
    "        \n",
    "        train_losses[it] = train_loss\n",
    "        val_losses[it] = val_loss\n",
    "        train_accuracy[it] = train_acc\n",
    "        val_accuracy[it] = val_acc\n",
    "\n",
    "        dt = datetime.now() -t0\n",
    "\n",
    "        print(f'Epoch {it+1}/{n_epochs}, Time: {dt}, Train Loss: {train_loss:.4f}, Train_acc: {train_acc}, Val Loss: {val_loss:.4f}, Val acc: {val_acc}')\n",
    "    \n",
    "    return train_losses, val_losses, train_accuracy, val_accuracy"
   ]
  },
  {
   "cell_type": "code",
   "execution_count": 37,
   "metadata": {},
   "outputs": [
    {
     "name": "stderr",
     "output_type": "stream",
     "text": [
      "100%|██████████| 457/457 [01:52<00:00,  4.08it/s]\n",
      "100%|██████████| 112/112 [00:08<00:00, 12.70it/s]\n",
      "  0%|          | 0/457 [00:00<?, ?it/s]"
     ]
    },
    {
     "name": "stdout",
     "output_type": "stream",
     "text": [
      "Epoch 1/10, Time: 0:02:00.897012, Train Loss: 0.3021, Train_acc: 88.06126914660831, Val Loss: 0.1557, Val acc: 96.19642857142857\n"
     ]
    },
    {
     "name": "stderr",
     "output_type": "stream",
     "text": [
      "100%|██████████| 457/457 [01:52<00:00,  4.06it/s]\n",
      "100%|██████████| 112/112 [00:08<00:00, 12.70it/s]\n",
      "  0%|          | 0/457 [00:00<?, ?it/s]"
     ]
    },
    {
     "name": "stdout",
     "output_type": "stream",
     "text": [
      "Epoch 2/10, Time: 0:02:01.429191, Train Loss: 0.2653, Train_acc: 89.03719912472647, Val Loss: 0.1286, Val acc: 96.6875\n"
     ]
    },
    {
     "name": "stderr",
     "output_type": "stream",
     "text": [
      "100%|██████████| 457/457 [01:51<00:00,  4.10it/s]\n",
      "100%|██████████| 112/112 [00:09<00:00, 12.38it/s]\n",
      "  0%|          | 0/457 [00:00<?, ?it/s]"
     ]
    },
    {
     "name": "stdout",
     "output_type": "stream",
     "text": [
      "Epoch 3/10, Time: 0:02:00.537828, Train Loss: 0.2454, Train_acc: 89.70021881838075, Val Loss: 0.1189, Val acc: 96.67857142857143\n"
     ]
    },
    {
     "name": "stderr",
     "output_type": "stream",
     "text": [
      "100%|██████████| 457/457 [01:51<00:00,  4.10it/s]\n",
      "100%|██████████| 112/112 [00:08<00:00, 12.65it/s]\n",
      "  0%|          | 0/457 [00:00<?, ?it/s]"
     ]
    },
    {
     "name": "stdout",
     "output_type": "stream",
     "text": [
      "Epoch 4/10, Time: 0:02:00.258444, Train Loss: 0.2270, Train_acc: 90.25382932166302, Val Loss: 0.1208, Val acc: 96.33035714285714\n"
     ]
    },
    {
     "name": "stderr",
     "output_type": "stream",
     "text": [
      "100%|██████████| 457/457 [01:51<00:00,  4.10it/s]\n",
      "100%|██████████| 112/112 [00:09<00:00, 12.23it/s]\n",
      "  0%|          | 0/457 [00:00<?, ?it/s]"
     ]
    },
    {
     "name": "stdout",
     "output_type": "stream",
     "text": [
      "Epoch 5/10, Time: 0:02:00.685029, Train Loss: 0.1967, Train_acc: 91.38949671772428, Val Loss: 0.1303, Val acc: 95.40178571428571\n"
     ]
    },
    {
     "name": "stderr",
     "output_type": "stream",
     "text": [
      " 67%|██████▋   | 308/457 [01:15<00:36,  4.08it/s]\n"
     ]
    },
    {
     "ename": "KeyboardInterrupt",
     "evalue": "",
     "output_type": "error",
     "traceback": [
      "\u001b[0;31m---------------------------------------------------------------------------\u001b[0m",
      "\u001b[0;31mKeyboardInterrupt\u001b[0m                         Traceback (most recent call last)",
      "\u001b[0;32m<ipython-input-37-8e517e70fdb4>\u001b[0m in \u001b[0;36m<module>\u001b[0;34m\u001b[0m\n\u001b[1;32m      1\u001b[0m train_losses, val_losses, train_accuracy, val_accuracy = batch_gd(\n\u001b[0;32m----> 2\u001b[0;31m     model, criterion, optimizer, train_loader, val_loader, n_epochs)\n\u001b[0m",
      "\u001b[0;32m<ipython-input-36-fdb364d9f231>\u001b[0m in \u001b[0;36mbatch_gd\u001b[0;34m(model, criterion, optimizer, train_loader, val_loader, n_epochs)\u001b[0m\n\u001b[1;32m     22\u001b[0m \u001b[0;34m\u001b[0m\u001b[0m\n\u001b[1;32m     23\u001b[0m             \u001b[0mloss\u001b[0m\u001b[0;34m.\u001b[0m\u001b[0mbackward\u001b[0m\u001b[0;34m(\u001b[0m\u001b[0;34m)\u001b[0m\u001b[0;34m\u001b[0m\u001b[0;34m\u001b[0m\u001b[0m\n\u001b[0;32m---> 24\u001b[0;31m             \u001b[0moptimizer\u001b[0m\u001b[0;34m.\u001b[0m\u001b[0mstep\u001b[0m\u001b[0;34m(\u001b[0m\u001b[0;34m)\u001b[0m\u001b[0;34m\u001b[0m\u001b[0;34m\u001b[0m\u001b[0m\n\u001b[0m\u001b[1;32m     25\u001b[0m \u001b[0;34m\u001b[0m\u001b[0m\n\u001b[1;32m     26\u001b[0m             \u001b[0mtrain_loss\u001b[0m\u001b[0;34m.\u001b[0m\u001b[0mappend\u001b[0m\u001b[0;34m(\u001b[0m\u001b[0mloss\u001b[0m\u001b[0;34m.\u001b[0m\u001b[0mitem\u001b[0m\u001b[0;34m(\u001b[0m\u001b[0;34m)\u001b[0m\u001b[0;34m)\u001b[0m\u001b[0;34m\u001b[0m\u001b[0;34m\u001b[0m\u001b[0m\n",
      "\u001b[0;32m~/.local/lib/python3.6/site-packages/torch/autograd/grad_mode.py\u001b[0m in \u001b[0;36mdecorate_context\u001b[0;34m(*args, **kwargs)\u001b[0m\n\u001b[1;32m     13\u001b[0m         \u001b[0;32mdef\u001b[0m \u001b[0mdecorate_context\u001b[0m\u001b[0;34m(\u001b[0m\u001b[0;34m*\u001b[0m\u001b[0margs\u001b[0m\u001b[0;34m,\u001b[0m \u001b[0;34m**\u001b[0m\u001b[0mkwargs\u001b[0m\u001b[0;34m)\u001b[0m\u001b[0;34m:\u001b[0m\u001b[0;34m\u001b[0m\u001b[0;34m\u001b[0m\u001b[0m\n\u001b[1;32m     14\u001b[0m             \u001b[0;32mwith\u001b[0m \u001b[0mself\u001b[0m\u001b[0;34m:\u001b[0m\u001b[0;34m\u001b[0m\u001b[0;34m\u001b[0m\u001b[0m\n\u001b[0;32m---> 15\u001b[0;31m                 \u001b[0;32mreturn\u001b[0m \u001b[0mfunc\u001b[0m\u001b[0;34m(\u001b[0m\u001b[0;34m*\u001b[0m\u001b[0margs\u001b[0m\u001b[0;34m,\u001b[0m \u001b[0;34m**\u001b[0m\u001b[0mkwargs\u001b[0m\u001b[0;34m)\u001b[0m\u001b[0;34m\u001b[0m\u001b[0;34m\u001b[0m\u001b[0m\n\u001b[0m\u001b[1;32m     16\u001b[0m         \u001b[0;32mreturn\u001b[0m \u001b[0mdecorate_context\u001b[0m\u001b[0;34m\u001b[0m\u001b[0;34m\u001b[0m\u001b[0m\n\u001b[1;32m     17\u001b[0m \u001b[0;34m\u001b[0m\u001b[0m\n",
      "\u001b[0;32m~/.local/lib/python3.6/site-packages/torch/optim/adam.py\u001b[0m in \u001b[0;36mstep\u001b[0;34m(self, closure)\u001b[0m\n\u001b[1;32m     98\u001b[0m                 \u001b[0;31m# Decay the first and second moment running average coefficient\u001b[0m\u001b[0;34m\u001b[0m\u001b[0;34m\u001b[0m\u001b[0;34m\u001b[0m\u001b[0m\n\u001b[1;32m     99\u001b[0m                 \u001b[0mexp_avg\u001b[0m\u001b[0;34m.\u001b[0m\u001b[0mmul_\u001b[0m\u001b[0;34m(\u001b[0m\u001b[0mbeta1\u001b[0m\u001b[0;34m)\u001b[0m\u001b[0;34m.\u001b[0m\u001b[0madd_\u001b[0m\u001b[0;34m(\u001b[0m\u001b[0mgrad\u001b[0m\u001b[0;34m,\u001b[0m \u001b[0malpha\u001b[0m\u001b[0;34m=\u001b[0m\u001b[0;36m1\u001b[0m \u001b[0;34m-\u001b[0m \u001b[0mbeta1\u001b[0m\u001b[0;34m)\u001b[0m\u001b[0;34m\u001b[0m\u001b[0;34m\u001b[0m\u001b[0m\n\u001b[0;32m--> 100\u001b[0;31m                 \u001b[0mexp_avg_sq\u001b[0m\u001b[0;34m.\u001b[0m\u001b[0mmul_\u001b[0m\u001b[0;34m(\u001b[0m\u001b[0mbeta2\u001b[0m\u001b[0;34m)\u001b[0m\u001b[0;34m.\u001b[0m\u001b[0maddcmul_\u001b[0m\u001b[0;34m(\u001b[0m\u001b[0mgrad\u001b[0m\u001b[0;34m,\u001b[0m \u001b[0mgrad\u001b[0m\u001b[0;34m,\u001b[0m \u001b[0mvalue\u001b[0m\u001b[0;34m=\u001b[0m\u001b[0;36m1\u001b[0m \u001b[0;34m-\u001b[0m \u001b[0mbeta2\u001b[0m\u001b[0;34m)\u001b[0m\u001b[0;34m\u001b[0m\u001b[0;34m\u001b[0m\u001b[0m\n\u001b[0m\u001b[1;32m    101\u001b[0m                 \u001b[0;32mif\u001b[0m \u001b[0mamsgrad\u001b[0m\u001b[0;34m:\u001b[0m\u001b[0;34m\u001b[0m\u001b[0;34m\u001b[0m\u001b[0m\n\u001b[1;32m    102\u001b[0m                     \u001b[0;31m# Maintains the maximum of all 2nd moment running avg. till now\u001b[0m\u001b[0;34m\u001b[0m\u001b[0;34m\u001b[0m\u001b[0;34m\u001b[0m\u001b[0m\n",
      "\u001b[0;31mKeyboardInterrupt\u001b[0m: "
     ]
    }
   ],
   "source": [
    "train_losses, val_losses, train_accuracy, val_accuracy = batch_gd(\n",
    "    model, criterion, optimizer, train_loader, val_loader, n_epochs)"
   ]
  },
  {
   "cell_type": "code",
   "execution_count": null,
   "metadata": {},
   "outputs": [],
   "source": [
    "plt.plot(train_losses, label='train loss')\n",
    "plt.plot(val_losses, label='val loss')\n",
    "plt.legend()\n",
    "plt.show()"
   ]
  },
  {
   "cell_type": "code",
   "execution_count": null,
   "metadata": {},
   "outputs": [],
   "source": [
    "plt.plot(train_accuracy, label='train accuracy')\n",
    "plt.plot(val_accuracy, label='val accuracy')\n",
    "plt.legend()\n",
    "plt.show()"
   ]
  },
  {
   "cell_type": "code",
   "execution_count": null,
   "metadata": {},
   "outputs": [],
   "source": [
    "\n",
    "n_correct_train = 0.\n",
    "n_total_train = 0.\n",
    "train_predictions_all = []\n",
    "train_predictions_all_value = []\n",
    "train_targets_all = []\n",
    "\n",
    "for inputs, inputs_data, targets in train_loader:\n",
    "    \n",
    "    train_targets_np = targets.numpy()\n",
    "    train_targets_all.append(train_targets_np)\n",
    "    \n",
    "    inputs, inputs_data, targets = inputs.to(device), inputs_data.to(device), targets.to(device)\n",
    "    train_outputs = model(inputs, inputs_data)\n",
    "    train_outputs = torch.sigmoid(train_outputs)\n",
    "    \n",
    "    _, train_predictions = torch.max(train_outputs, 1)\n",
    "    train_predictions_np = train_predictions.cpu().numpy()\n",
    "    train_predictions_all.append(train_predictions_np)\n",
    "    \n",
    "    train_predictions_np_value = train_outputs.cpu().detach().numpy()\n",
    "    train_predictions_all_value.append(train_predictions_np_value)\n",
    "\n",
    "train_predictions_np_out = []\n",
    "train_predictions_np_out_value = []\n",
    "train_targets_np_out = []\n",
    "\n",
    "train_count = len(train_predictions_all)\n",
    "\n",
    "for z in range(train_count):\n",
    "    \n",
    "    for a in train_predictions_all[z]:\n",
    "        train_predictions_np_out.append(a)\n",
    "\n",
    "    for a in train_predictions_all_value[z]:\n",
    "        train_predictions_np_out_value.append(a)\n",
    "        \n",
    "    for a in train_targets_all[z]:\n",
    "        train_targets_np_out.append(a)    \n",
    "\n",
    "train_predictions_np_out = np.asarray(train_predictions_np_out)\n",
    "train_predictions_np_out_value = np.asarray(train_predictions_np_out_value)\n",
    "train_targets_np_out = np.asarray(train_targets_np_out)\n",
    "\n",
    "train_count = len(train_predictions_np_out)\n",
    "\n",
    "for z in range(train_count):\n",
    "    if train_predictions_np_out[z] == np.int(train_targets_np_out[z]):\n",
    "        n_correct_train += 1\n",
    "\n",
    "train_acc = n_correct_train / train_count\n",
    "# --------------------------------------------------------------------------------        \n",
    "n_correct_val = 0.\n",
    "n_total_val = 0.\n",
    "val_predictions_all = []\n",
    "val_predictions_all_value = []\n",
    "val_targets_all = []\n",
    "                    \n",
    "for inputs, inputs_data, targets in val_loader:\n",
    "    \n",
    "    val_targets_np = targets.numpy()\n",
    "    val_targets_all.append(val_targets_np)\n",
    "    \n",
    "    inputs, inputs_data, targets = inputs.to(device), inputs_data.to(device), targets.to(device)\n",
    "    val_outputs = model(inputs, inputs_data)\n",
    "    val_outputs = torch.sigmoid(val_outputs)\n",
    "    _, val_predictions = torch.max(val_outputs, 1)\n",
    "    val_predictions_np = val_predictions.cpu().numpy()\n",
    "    val_predictions_all.append(val_predictions_np)\n",
    "\n",
    "    val_predictions_np_value = val_outputs.cpu().detach().numpy()\n",
    "    val_predictions_all_value.append(val_predictions_np_value)\n",
    " \n",
    "val_predictions_np_out = []\n",
    "val_predictions_np_out_value = []\n",
    "val_targets_np_out = []\n",
    "val_count = len(val_predictions_all)\n",
    "\n",
    "for z in range(val_count):\n",
    "    \n",
    "    for a in val_predictions_all[z]:\n",
    "        val_predictions_np_out.append(a)\n",
    "\n",
    "    for a in val_predictions_all_value[z]:\n",
    "        val_predictions_np_out_value.append(a)\n",
    "        \n",
    "    for a in val_targets_all[z]:\n",
    "        val_targets_np_out.append(a)\n",
    "\n",
    "val_predictions_np_out = np.asarray(val_predictions_np_out)\n",
    "val_targets_np_out = np.asarray(val_targets_np_out)\n",
    "\n",
    "val_count = len(val_predictions_np_out)\n",
    "\n",
    "for z in range(val_count):\n",
    "    if val_predictions_np_out[z] == np.int(val_targets_np_out[z]):\n",
    "        n_correct_val += 1\n",
    "\n",
    "val_acc = n_correct_val / val_count\n",
    "      \n",
    "print(f\"Train acc: {train_acc:.4f}, Val acc: {val_acc:.4f}\")"
   ]
  },
  {
   "cell_type": "code",
   "execution_count": null,
   "metadata": {},
   "outputs": [],
   "source": [
    "fpr_train, tpr_train, _ = roc_curve(train_targets_np_out, train_predictions_np_out_value)\n",
    "fpr_val, tpr_val, _ = roc_curve(val_targets_np_out, val_predictions_np_out_value)"
   ]
  },
  {
   "cell_type": "code",
   "execution_count": null,
   "metadata": {},
   "outputs": [],
   "source": [
    "auc_pred_train = auc(fpr_train, tpr_train) \n",
    "auc_pred_val = auc(fpr_val, tpr_val) "
   ]
  },
  {
   "cell_type": "code",
   "execution_count": null,
   "metadata": {},
   "outputs": [],
   "source": [
    "plt.plot(fpr_train, tpr_train, label = auc_pred_train)\n",
    "plt.legend()"
   ]
  },
  {
   "cell_type": "code",
   "execution_count": null,
   "metadata": {},
   "outputs": [],
   "source": [
    "plt.plot(fpr_val, tpr_val, label = auc_pred_val)\n",
    "plt.legend()"
   ]
  },
  {
   "cell_type": "code",
   "execution_count": null,
   "metadata": {},
   "outputs": [],
   "source": []
  }
 ],
 "metadata": {
  "kernelspec": {
   "display_name": "Python 3",
   "language": "python",
   "name": "python3"
  },
  "language_info": {
   "codemirror_mode": {
    "name": "ipython",
    "version": 3
   },
   "file_extension": ".py",
   "mimetype": "text/x-python",
   "name": "python",
   "nbconvert_exporter": "python",
   "pygments_lexer": "ipython3",
   "version": "3.6.9"
  }
 },
 "nbformat": 4,
 "nbformat_minor": 4
}
