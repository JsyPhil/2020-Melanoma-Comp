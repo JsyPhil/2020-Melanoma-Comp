{
 "cells": [
  {
   "cell_type": "code",
   "execution_count": null,
   "metadata": {},
   "outputs": [],
   "source": [
    "import cv2\n",
    "import numpy as np\n",
    "import matplotlib.pyplot as plt\n",
    "from matplotlib.colors import hsv_to_rgb\n",
    "import pandas as pd\n",
    "import colorsys"
   ]
  },
  {
   "cell_type": "code",
   "execution_count": null,
   "metadata": {},
   "outputs": [],
   "source": [
    "# load CSV's\n",
    "csv_train_file = pd.read_csv('/home/malmason/datasets/siim-isic-melanoma-classification/train.csv')\n",
    "csv_test_file = pd.read_csv('/home/malmason/datasets/siim-isic-melanoma-classification/test.csv')"
   ]
  },
  {
   "cell_type": "code",
   "execution_count": null,
   "metadata": {},
   "outputs": [],
   "source": [
    "# Point to image folders\n",
    "img_train_folder = '/home/malmason/datasets/siim-isic-melanoma-classification/jpeg/train/'\n",
    "img_test_folder = '/home/malmason/datasets/siim-isic-melanoma-classification/jpeg/test/'"
   ]
  },
  {
   "cell_type": "code",
   "execution_count": null,
   "metadata": {},
   "outputs": [],
   "source": [
    "# Used for looping through image columns\n",
    "X_train_img = csv_train_file['image_name']\n",
    "X_test_img = csv_test_file['image_name']"
   ]
  },
  {
   "cell_type": "code",
   "execution_count": null,
   "metadata": {},
   "outputs": [],
   "source": [
    "# Min file size is 480, 640, 3 in CV2, or 640, 480, 3 in normal format\n",
    "# Placeholder to:\n",
    "# 1 - isolate lesion\n",
    "# 2 - rescale inages to 640, 480, 3\n",
    "# Change format to HSV F \n",
    "\n",
    "for image_train_get in X_train_img:\n",
    "    pass\n",
    "for image_test_get in X_test_img:\n",
    "    pass"
   ]
  },
  {
   "cell_type": "code",
   "execution_count": null,
   "metadata": {},
   "outputs": [],
   "source": [
    "csv_train_file.head(2)"
   ]
  },
  {
   "cell_type": "code",
   "execution_count": null,
   "metadata": {},
   "outputs": [],
   "source": [
    "csv_train_file.tail(2)"
   ]
  },
  {
   "cell_type": "code",
   "execution_count": null,
   "metadata": {},
   "outputs": [],
   "source": [
    "csv_test_file.head(5)\n"
   ]
  },
  {
   "cell_type": "code",
   "execution_count": null,
   "metadata": {},
   "outputs": [],
   "source": [
    "head_neck = csv_train_file.loc[csv_train_file['anatom_site_general_challenge'] == 'head/neck']\n",
    "upper_extremity = csv_train_file.loc[csv_train_file['anatom_site_general_challenge'] == 'upper extremity']\n",
    "lower_extremity = csv_train_file.loc[csv_train_file['anatom_site_general_challenge'] == 'lower extremity']\n",
    "oral_genital = csv_train_file.loc[csv_train_file['anatom_site_general_challenge'] == 'oral/genital']\n",
    "palms_soles = csv_train_file.loc[csv_train_file['anatom_site_general_challenge'] == 'palms/soles']\n",
    "torso = csv_train_file.loc[csv_train_file['anatom_site_general_challenge'] == 'torso']\n",
    "\n",
    "zero, one = csv_train_file['target'].value_counts()\n",
    "print(f'\\nTotal train set: {zero+one}\\tNormal: {zero}\\tMelanoma: {one}\\tPercent: {np.round(one / zero,4)*100}%')\n",
    "\n",
    "print(\"\\nTrain set breakdown\\n-------------------\")\n",
    "zero , one = head_neck.groupby('target').target.count()\n",
    "print(f\"Head neck melanoma\\tTotal: {zero+one}\\tNormal: {zero}\\tMelanoma: {one}\\tPercent: {np.round(100*(one / zero),2)}%\")\n",
    "zero , one = lower_extremity.groupby('target').target.count()\n",
    "print(f\"lower_extremity   \\tTotal: {zero+one}\\tNormal: {zero}\\tMelanoma: {one}\\tPercent: {np.round(100*(one / zero),2)}%\")\n",
    "zero , one = oral_genital.groupby('target').target.count()\n",
    "print(f\"oral_genital      \\tTotal: {zero+one}\\tNormal: {zero}\\tMelanoma: {one}\\tPercent: {np.round(100*(one / zero),2)}%\")\n",
    "zero , one = palms_soles.groupby('target').target.count()\n",
    "print(f\"palms_soles       \\tTotal: {zero+one}\\tNormal: {zero}\\tMelanoma: {one}\\tPercent: {np.round(100*(one / zero),2)}%\")\n",
    "zero , one = torso.groupby('target').target.count()\n",
    "print(f\"torso             \\tTotal: {zero+one}\\tNormal: {zero}\\tMelanoma: {one}\\tPercent: {np.round(100*(one / zero),2)}%\")\n",
    "zero , one = upper_extremity.groupby('target').target.count()\n",
    "print(f\"upper_extremity   \\tTotal: {zero+one}\\tNormal: {zero}\\tMelanoma: {one}\\tPercent: {np.round(100*(one / zero),2)}%\")\n",
    "print(f\"\\nNull values for location: {csv_train_file['anatom_site_general_challenge'].isnull().sum()}\")"
   ]
  },
  {
   "cell_type": "code",
   "execution_count": null,
   "metadata": {},
   "outputs": [],
   "source": [
    "# Load a couple of images\n",
    "image = cv2.imread('/home/malmason/datasets/siim-isic-melanoma-classification/jpeg/train/ISIC_0015719.jpg')\n",
    "image_m = cv2.imread('/home/malmason/datasets/siim-isic-melanoma-classification/jpeg/train/ISIC_0149568.jpg')"
   ]
  },
  {
   "cell_type": "code",
   "execution_count": null,
   "metadata": {},
   "outputs": [],
   "source": [
    "# transpose non-melanoma and melanoma images to rgb, hsvf and gray to examine\n",
    "image_rgb = cv2.cvtColor(image,cv2.COLOR_BGR2RGB)\n",
    "image_hsvf = cv2.cvtColor(image_rgb,cv2.COLOR_RGB2HSV_FULL)\n",
    "image_gray = cv2.cvtColor(image, cv2.COLOR_BGR2GRAY)\n",
    "image_ycrcb = cv2.cvtColor(image_rgb, cv2.COLOR_RGB2YCrCb)\n",
    "image_rgb_m = cv2.cvtColor(image_m, cv2.COLOR_BGR2RGB)\n",
    "image_hsvf_m = cv2.cvtColor(image_rgb_m,cv2.COLOR_RGB2HSV_FULL)\n",
    "image_gray_m = cv2.cvtColor(image_m, cv2.COLOR_BGR2GRAY)\n",
    "image_ycrcb_m = cv2.cvtColor(image_rgb_m, cv2.COLOR_RGB2YCrCb)"
   ]
  },
  {
   "cell_type": "code",
   "execution_count": null,
   "metadata": {},
   "outputs": [],
   "source": [
    "count = 0\n",
    "while count < 25:\n",
    "    image = cv2.imread('/home/malmason/datasets/siim-isic-melanoma-classification/jpeg/train/' + X_train_img[count]+ '.jpg')\n",
    "    image_rgb = cv2.cvtColor(image, cv2.COLOR_BGR2RGB)\n",
    "    plt.imshow(image_rgb)\n",
    "    plt.show()\n",
    "    count += 1\n",
    "    "
   ]
  },
  {
   "cell_type": "code",
   "execution_count": null,
   "metadata": {},
   "outputs": [],
   "source": [
    "# Get shape of image loaded (all images range from CV2 shape 4000, 6000, 3 down to 480, 640, 3)\n",
    "print(f'image_rgb shape {image_rgb.shape}, image_rgb_m shape {image_rgb_m.shape}')"
   ]
  },
  {
   "cell_type": "code",
   "execution_count": null,
   "metadata": {},
   "outputs": [],
   "source": [
    "# Plot non-melanoma and melanoma images using rgb format\n",
    "print(\"Normal rgb\")\n",
    "plt.imshow(image_rgb)\n",
    "plt.show()\n",
    "print(\"Melonoma rgb\")\n",
    "plt.imshow(image_rgb_m)\n",
    "plt.show()\n",
    "# Images will need manipulating"
   ]
  },
  {
   "cell_type": "code",
   "execution_count": null,
   "metadata": {},
   "outputs": [],
   "source": [
    "# Plot non-melanoma and melanoma images using hsvf format\n",
    "print(\"Normal hsvf\")\n",
    "plt.imshow(hsv_to_rgb(image_hsvf/255))\n",
    "plt.show()\n",
    "print(\"Menonoma hsvf\")\n",
    "plt.imshow(hsv_to_rgb(image_hsvf_m/255))\n",
    "plt.show()\n",
    "# Images will need manipulating"
   ]
  },
  {
   "cell_type": "code",
   "execution_count": null,
   "metadata": {},
   "outputs": [],
   "source": [
    "# Plot non-melanoma and melanoma images using grayscale format\n",
    "print(\"Normal gray\")\n",
    "plt.imshow(image_gray, cmap='gray')\n",
    "plt.show()\n",
    "print(\"Melonoma gray\")\n",
    "plt.imshow(image_gray_m, cmap='gray')\n",
    "plt.show()\n",
    "# Images will need manipulating"
   ]
  },
  {
   "cell_type": "code",
   "execution_count": null,
   "metadata": {},
   "outputs": [],
   "source": [
    "# Show min and max for rgb channels\n",
    "print (f'rgb: R_max: {np.max(image_rgb[:,:,0])} R_min: {np.min(image_rgb[:,:,0])}',\n",
    "      f'\\nrgb: G_max: {np.max(image_rgb[:,:,1])} G_min: {np.min(image_rgb[:,:,1])}'\n",
    "      f'\\nrgb: B_max: {np.max(image_rgb[:,:,2])} B_min: {np.min(image_rgb[:,:,2])}')\n",
    "\n",
    "print (f'rgb_m: R_max: {np.max(image_rgb_m[:,:,0])} R_min: {np.min(image_rgb_m[:,:,0])}',\n",
    "      f'\\nrgb_m: G_max: {np.max(image_rgb_m[:,:,1])} G_min: {np.min(image_rgb_m[:,:,1])}'\n",
    "      f'\\nrgb_m: B_max: {np.max(image_rgb_m[:,:,2])} B_min: {np.min(image_rgb_m[:,:,2])}')\n",
    "# Not going to get the resolution in rgb format"
   ]
  },
  {
   "cell_type": "code",
   "execution_count": null,
   "metadata": {},
   "outputs": [],
   "source": [
    "# Show min and max for hsvf channels\n",
    "print (f'hsvf: H_max: {np.max(image_hsvf[:,:,0])} H_min: {np.min(image_hsvf[:,:,0])}',\n",
    "      f'\\nhsvf: S_max: {np.max(image_hsvf[:,:,1])} S_min: {np.min(image_hsvf[:,:,1])}'\n",
    "      f'\\nhsvf: V_max: {np.max(image_hsvf[:,:,2])} V_min: {np.min(image_hsvf[:,:,2])}')\n",
    "\n",
    "print (f'hsvf_m: H_max: {np.max(image_hsvf_m[:,:,0])} H_min: {np.min(image_hsvf_m[:,:,0])}',\n",
    "      f'\\nhsvf_m: S_max: {np.max(image_hsvf_m[:,:,1])} S_min: {np.min(image_hsvf_m[:,:,1])}'\n",
    "      f'\\nhsvf_m: V_max: {np.max(image_hsvf_m[:,:,2])} V_min: {np.min(image_hsvf_m[:,:,2])}')\n",
    "# Going to need to work out how to adjust this, as not much scope to change either"
   ]
  },
  {
   "cell_type": "code",
   "execution_count": null,
   "metadata": {},
   "outputs": [],
   "source": [
    "# Show min and max for hsvf channels\n",
    "print (f'ycrcb: HY_max: {np.max(image_ycrcb[:,:,0])} Y_min: {np.min(image_ycrcb[:,:,0])}',\n",
    "      f'\\nycrcb: Cr_max: {np.max(image_ycrcb[:,:,1])} Cr_min: {np.min(image_ycrcb[:,:,1])}'\n",
    "      f'\\nycrcb: Cb_max: {np.max(image_ycrcb[:,:,2])} Cb_min: {np.min(image_ycrcb[:,:,2])}')\n",
    "\n",
    "print (f'ycrcb_m: Y_max: {np.max(image_ycrcb_m[:,:,0])} Y_min: {np.min(image_ycrcb_m[:,:,0])}',\n",
    "      f'\\nycrcb_m: Cr_max: {np.max(image_ycrcb_m[:,:,1])} Cr_min: {np.min(image_ycrcb_m[:,:,1])}'\n",
    "      f'\\nycrcb_m: Cb_max: {np.max(image_ycrcb_m[:,:,2])} Cb_min: {np.min(image_ycrcb_m[:,:,2])}')\n",
    "# Going to need to work out how to adjust this, as not much scope to change either"
   ]
  },
  {
   "cell_type": "code",
   "execution_count": null,
   "metadata": {},
   "outputs": [],
   "source": [
    "# Attempt to normalize hsvf images\n",
    "H, S, V = cv2.split(image_hsvf)\n",
    "\n",
    "s_min = np.min(S)\n",
    "s_max = np.max(S)\n",
    "s_range = np.max(S) - np.min(S)\n",
    "S = np.subtract(S, s_min)\n",
    "S = np.divide(S, s_range)\n",
    "S = np.multiply(S, 255)\n",
    "\n",
    "v_min = np.min(V)\n",
    "v_max = np.max(V)\n",
    "v_range = np.max(V) - np.min(V)\n",
    "V = np.subtract(V, v_min)\n",
    "V = np.divide(V, v_range)\n",
    "V = np.multiply(V, 255)\n",
    "\n",
    "image_hsvf_norm = np.zeros((4000,6000, 3), dtype=np.uint8)\n",
    "image_hsvf_norm[:,:,0] = H\n",
    "image_hsvf_norm[:,:,1] = S\n",
    "image_hsvf_norm[:,:,2] = V\n",
    "print (f'H_min: {np.min(image_hsvf_norm[:,:,0])} \\tH_max: {np.max(image_hsvf_norm[:,:,0])}',\n",
    "      f'\\nS_min: {np.min(image_hsvf_norm[:,:,1])} \\tS_max: {np.max(image_hsvf_norm[:,:,1])}'\n",
    "      f'\\nV_min: {np.min(image_hsvf_norm[:,:,2])} \\tV_max: {np.max(image_hsvf_norm[:,:,2])}\\n')\n",
    "\n",
    "H_m, S_m, V_m = cv2.split(image_hsvf_m)\n",
    "\n",
    "s_m_min = np.min(S_m)\n",
    "s_m_max = np.max(S_m)\n",
    "s_m_range = np.max(S_m) - np.min(S_m)\n",
    "S_m = np.subtract(S_m, s_m_min)\n",
    "S_m = np.divide(S_m, s_m_range)\n",
    "S_m = np.multiply(S_m, 255)\n",
    "\n",
    "v_m_min = np.min(V_m)\n",
    "v_m_max = np.max(V_m)\n",
    "v_m_range = np.max(V_m) - np.min(V_m)\n",
    "V_m = np.subtract(V_m, v_m_min)\n",
    "V_m = np.divide(V_m, v_m_range)\n",
    "V_m = np.multiply(V_m, 255)\n",
    "\n",
    "image_hsvf_norm_m = np.zeros((4000,6000, 3), dtype=np.uint8)\n",
    "image_hsvf_norm_m[:,:,0] = H_m\n",
    "image_hsvf_norm_m[:,:,1] = S_m\n",
    "image_hsvf_norm_m[:,:,2] = V_m\n",
    "print (f'H_m_min: {np.min(image_hsvf_norm_m[:,:,0])} \\tH_m_max: {np.max(image_hsvf_norm_m[:,:,0])}',\n",
    "      f'\\nS_m_min: {np.min(image_hsvf_norm_m[:,:,1])} \\tS_m_max: {np.max(image_hsvf_norm_m[:,:,1])}'\n",
    "      f'\\nV_m_min: {np.min(image_hsvf_norm_m[:,:,2])} \\tV_m_max: {np.max(image_hsvf_norm_m[:,:,2])}\\n')"
   ]
  },
  {
   "cell_type": "code",
   "execution_count": null,
   "metadata": {},
   "outputs": [],
   "source": [
    "# Compare standard hsvf versus normalized\n",
    "print(\"Standard hsvf\")\n",
    "plt.imshow(hsv_to_rgb(image_hsvf/255))\n",
    "plt.show()\n",
    "print(\"Normalized hsvf\")\n",
    "plt.imshow(hsv_to_rgb(image_hsvf_norm/255))\n",
    "plt.show()\n",
    "print(\"Standard Melanoma hsvf\")\n",
    "plt.imshow(hsv_to_rgb(image_hsvf_m/255))\n",
    "plt.show()\n",
    "print(\"Normalized Melonoma hsvf\")\n",
    "plt.imshow(hsv_to_rgb(image_hsvf_norm_m/255))\n",
    "plt.show()\n",
    "# Not enough resolution to help"
   ]
  },
  {
   "cell_type": "code",
   "execution_count": null,
   "metadata": {},
   "outputs": [],
   "source": [
    "# Plot histograms for HUE\n",
    "h_hist = cv2.calcHist(H, [0], None, [256],[0,256])\n",
    "plt.xlim(0, 255)\n",
    "plt.ylim(0, 1)\n",
    "plt.plot(h_hist)\n",
    "plt.show()\n",
    "\n",
    "h_hist_m = cv2.calcHist(H_m, [0], None, [256],[0,256])\n",
    "plt.xlim(0, 255)\n",
    "plt.ylim(0, 1)\n",
    "plt.plot(h_hist_m)\n",
    "plt.show()\n",
    "# Results are loads of dead space"
   ]
  },
  {
   "cell_type": "code",
   "execution_count": null,
   "metadata": {},
   "outputs": [],
   "source": [
    "# Quick check on unique elements as above\n",
    "unique_elements_H, counts_elements_H = np.unique(H, return_counts=True)\n",
    "unique_elements_S, counts_elements_S = np.unique(S, return_counts=True)\n",
    "unique_elements_V, counts_elements_V = np.unique(V, return_counts=True)\n",
    "\n",
    "unique_elements_H_m, counts_elements_H_m = np.unique(H_m, return_counts=True)\n",
    "unique_elements_S_m, counts_elements_S_m = np.unique(S_m, return_counts=True)\n",
    "unique_elements_V_m, counts_elements_V_m = np.unique(V_m, return_counts=True)"
   ]
  },
  {
   "cell_type": "code",
   "execution_count": null,
   "metadata": {},
   "outputs": [],
   "source": [
    "print(np.asarray((unique_elements_H, counts_elements_H)))"
   ]
  },
  {
   "cell_type": "code",
   "execution_count": null,
   "metadata": {},
   "outputs": [],
   "source": [
    "print(np.asarray((unique_elements_H_m, counts_elements_H_m)))"
   ]
  },
  {
   "cell_type": "code",
   "execution_count": null,
   "metadata": {},
   "outputs": [],
   "source": [
    "# Take a look at hsvf images which are in normal state\n",
    "plt.plot(unique_elements_H, counts_elements_H, color='r', label = 'H')\n",
    "plt.plot(unique_elements_S, counts_elements_S, color='b', label = 'S')\n",
    "plt.plot(unique_elements_V, counts_elements_V, color='g', label = 'V')\n",
    "plt.legend()\n",
    "plt.show()\n",
    "plt.plot(unique_elements_H, counts_elements_H, color='r', label = 'H')\n",
    "plt.legend()\n",
    "plt.show()\n",
    "plt.plot(unique_elements_S, counts_elements_S, color='b', label = 'S')\n",
    "plt.legend()\n",
    "plt.show()\n",
    "plt.plot(unique_elements_V, counts_elements_V, color='g', label = 'V')\n",
    "plt.legend()\n",
    "plt.show()\n",
    "\n",
    "plt.plot(unique_elements_H_m, counts_elements_H_m, color='r', label = 'H_m')\n",
    "plt.plot(unique_elements_S_m, counts_elements_S_m, color='b', label = 'S_m')\n",
    "plt.plot(unique_elements_V_m, counts_elements_V_m, color='g', label = 'V_m')\n",
    "plt.legend()\n",
    "plt.show()\n",
    "plt.plot(unique_elements_H_m, counts_elements_H_m, color='r', label = 'H_m')\n",
    "plt.legend()\n",
    "plt.show()\n",
    "plt.plot(unique_elements_S_m, counts_elements_S_m, color='b', label = 'S_m')\n",
    "plt.legend()\n",
    "plt.show()\n",
    "plt.plot(unique_elements_V_m, counts_elements_V_m, color='g', label = 'V_m')\n",
    "plt.legend()\n",
    "plt.show()"
   ]
  },
  {
   "cell_type": "code",
   "execution_count": null,
   "metadata": {},
   "outputs": [],
   "source": [
    "# Useless check against hsvf HUE range, to ensure it captures full 360 deg\n",
    "H_demo = np.arange(0,255,1)\n",
    "S_demo = np.ones(255) * 255\n",
    "V_demo = np.ones(255) * 255\n",
    "\n",
    "demo = np.zeros((3,255,3), dtype=np.uint8)\n",
    "\n",
    "demo[0,:,0] = H_demo\n",
    "demo[1,:,0] = H_demo\n",
    "demo[2,:,0] = H_demo\n",
    "demo[0,:,1] = S_demo\n",
    "demo[1,:,1] = S_demo\n",
    "demo[2,:,1] = S_demo\n",
    "demo[0,:,2] = V_demo\n",
    "demo[1,:,2] = V_demo\n",
    "demo[2,:,2] = V_demo\n",
    "\n",
    "print(demo.shape)\n",
    "\n",
    "demo = np.divide(demo, 255) \n",
    "plt.imshow(hsv_to_rgb(demo))"
   ]
  },
  {
   "cell_type": "code",
   "execution_count": null,
   "metadata": {},
   "outputs": [],
   "source": [
    "# Check if we can get more resolution by introducing non-linear saturation and value using  **2\n",
    "H_p, S_p, V_p = cv2.split(image_hsvf)\n",
    "H_p = np.float32(H_p)\n",
    "\n",
    "sp_min = np.min(S_p)\n",
    "sp_max = np.max(S_p)\n",
    "sp_range = np.max(S_p) - np.min(S_p)\n",
    "S_p = np.subtract(S_p, sp_min)\n",
    "S_p = np.divide(S_p, sp_range)\n",
    "S_p = np.multiply(S_p, 15.9)\n",
    "S_p = np.power(S_p, 2)\n",
    "\n",
    "\n",
    "vp_min = np.min(V_p)\n",
    "vp_max = np.max(V_p)\n",
    "vp_range = np.max(V_p) - np.min(V_p)\n",
    "V_p = np.subtract(V_p, vp_min)\n",
    "V_p = np.divide(V_p, vp_range)\n",
    "V_p = np.multiply(V_p, 15.9)\n",
    "V_p = np.power(V_p,2)\n",
    "\n",
    "print(np.min(H_p), np.max(H_p))\n",
    "print(np.min(S_p), np.max(S_p))\n",
    "print(np.min(V_p), np.max(V_p))\n",
    "\n",
    "image_hsvf_norm_p = np.zeros((4000,6000, 3), dtype=np.float32)\n",
    "\n",
    "H_l_p = H_p / 255\n",
    "S_l_p = S_p / np.max(S_p)\n",
    "V_l_p = V_p / np.max(V_p)\n",
    "\n",
    "image_hsvf_norm_p[:,:,0] = H_l_p\n",
    "image_hsvf_norm_p[:,:,1] = S_l_p\n",
    "image_hsvf_norm_p[:,:,2] = V_l_p\n",
    "\n",
    "print (f'H_min: {np.min(H_l_p)} \\tH_max: {np.max(H_l_p)}',\n",
    "      f'\\nS_min: {np.min(S_l_p)} \\tS_max: {np.max(S_l_p)}'\n",
    "      f'\\nV_min: {np.min(V_l_p)} \\tV_max: {np.max(V_l_p)}\\n')"
   ]
  },
  {
   "cell_type": "code",
   "execution_count": null,
   "metadata": {},
   "outputs": [],
   "source": [
    "image_hsvf_norm_p_f = np.float32(image_hsvf_norm_p)\n",
    "print(f'Type: {image_hsvf_norm_p_f.dtype}')"
   ]
  },
  {
   "cell_type": "code",
   "execution_count": null,
   "metadata": {},
   "outputs": [],
   "source": [
    "# Quick plot to check if we get better resolution with **2\n",
    "print(\"\\tHSVF with S and V ^ 2\")\n",
    "plt.imshow(hsv_to_rgb(image_hsvf_norm_p_f), label=\"S and V ^ 2\")\n",
    "plt.show()\n",
    "print(\"\\n\\tGrayscale\")\n",
    "plt.imshow(image_gray, cmap='gray', label = \"Standard grayscale\")\n",
    "plt.show()\n",
    "# Result is yes we do get a higher resolution"
   ]
  },
  {
   "cell_type": "code",
   "execution_count": null,
   "metadata": {},
   "outputs": [],
   "source": [
    "# Same as above but for the melanoma image\n",
    "H_p_m, S_p_m, V_p_m = cv2.split(image_hsvf_m)\n",
    "H_p_m = np.float32(H_p_m)\n",
    "\n",
    "sp_min_m = np.min(S_p_m)\n",
    "sp_max_m = np.max(S_p_m)\n",
    "sp_range_m = np.max(S_p_m) - np.min(S_p_m)\n",
    "S_p_m = np.subtract(S_p_m, sp_min_m)\n",
    "S_p_m = np.divide(S_p_m, sp_range_m)\n",
    "S_p_m = np.multiply(S_p_m, 15.9)\n",
    "S_p_m = np.power(S_p_m, 2)\n",
    "\n",
    "\n",
    "vp_min_m = np.min(V_p_m)\n",
    "vp_max_m = np.max(V_p_m)\n",
    "vp_range_m = np.max(V_p_m) - np.min(V_p_m)\n",
    "V_p_m = np.subtract(V_p_m, vp_min_m)\n",
    "V_p_m = np.divide(V_p_m, vp_range_m)\n",
    "V_p_m = np.multiply(V_p_m, 15.9)\n",
    "V_p_m = np.power(V_p_m,2)\n",
    "\n",
    "print(np.min(H_p_m), np.max(H_p_m))\n",
    "print(np.min(S_p_m), np.max(S_p_m))\n",
    "print(np.min(V_p_m), np.max(V_p_m))\n",
    "\n",
    "image_hsvf_norm_p_m = np.zeros((4000,6000, 3), dtype=np.float32)\n",
    "\n",
    "H_l_p_m = H_p_m / 255\n",
    "S_l_p_m = S_p_m / np.max(S_p_m)\n",
    "V_l_p_m = V_p_m / np.max(V_p_m)\n",
    "\n",
    "image_hsvf_norm_p_m[:,:,0] = H_l_p_m\n",
    "image_hsvf_norm_p_m[:,:,1] = S_l_p_m\n",
    "image_hsvf_norm_p_m[:,:,2] = V_l_p_m\n",
    "\n",
    "print (f'H_min_m: {np.min(H_l_p_m)} \\tH_max_m: {np.max(H_l_p_m)}',\n",
    "      f'\\nS_min_m: {np.min(S_l_p_m)} \\tS_max_m: {np.max(S_l_p_m)}'\n",
    "      f'\\nV_min_m: {np.min(V_l_p_m)} \\tV_max_m: {np.max(V_l_p_m)}\\n')"
   ]
  },
  {
   "cell_type": "code",
   "execution_count": null,
   "metadata": {},
   "outputs": [],
   "source": [
    "image_hsvf_norm_p_f_m = np.float32(image_hsvf_norm_p_m)\n",
    "print(f'Type: {image_hsvf_norm_p_f_m.dtype}')"
   ]
  },
  {
   "cell_type": "code",
   "execution_count": null,
   "metadata": {},
   "outputs": [],
   "source": [
    "# Plot to check if we get a better resolution with **2 on melanoma image\n",
    "print(\"\\tHSVF_m with S and V ^ 2\")\n",
    "plt.imshow(hsv_to_rgb(image_hsvf_norm_p_f_m), label=\"S and V ^ 2\")\n",
    "plt.show()\n",
    "print(\"\\n\\tGrayscale\")\n",
    "plt.imshow(image_gray_m, cmap='gray', label = \"Standard grayscale\")\n",
    "plt.show()\n",
    "# Looks better, but now way to improve using power method\n",
    "# Danger of false readings with S and V mean + std, so not trying now"
   ]
  },
  {
   "cell_type": "code",
   "execution_count": null,
   "metadata": {},
   "outputs": [],
   "source": [
    "# Proof that the mean for saturation is shocking. Ideally, we would want close to 0,5\n",
    "print(f'Min:{np.min(image_hsvf_norm_p_f_m[:,:,1])}, Max: {np.max(image_hsvf_norm_p_f_m[:,:,1])}, Mean: {np.mean(image_hsvf_norm_p_f_m[:,:,1])}')"
   ]
  },
  {
   "cell_type": "code",
   "execution_count": null,
   "metadata": {},
   "outputs": [],
   "source": [
    "unique_elements_H_p, counts_elements_H_p = np.unique(H_p, return_counts=True)\n",
    "unique_elements_S_p, counts_elements_S_p = np.unique(S_p, return_counts=True)\n",
    "unique_elements_V_p, counts_elements_V_p = np.unique(V_p, return_counts=True)\n",
    "\n",
    "unique_elements_H_p_m, counts_elements_H_p_m = np.unique(H_p_m, return_counts=True)\n",
    "unique_elements_S_p_m, counts_elements_S_p_m = np.unique(S_p_m, return_counts=True)\n",
    "unique_elements_V_p_m, counts_elements_V_p_m = np.unique(V_p_m, return_counts=True)"
   ]
  },
  {
   "cell_type": "code",
   "execution_count": null,
   "metadata": {},
   "outputs": [],
   "source": [
    "# Attempt to normalize YCrCb images\n",
    "Y, Cr, Cb = cv2.split(image_ycrcb)\n",
    "\n",
    "Cr_min = np.min(Cr)\n",
    "Cr_max = np.max(Cr)\n",
    "Cr_range = np.max(Cr) - np.min(Cr)\n",
    "Cr = np.subtract(Cr, Cr_min)\n",
    "Cr = np.divide(Cr, Cr_range)\n",
    "Cr = np.multiply(Cr, 255)\n",
    "\n",
    "Cb_min = np.min(Cb)\n",
    "Cb_max = np.max(Cb)\n",
    "Cb_range = np.max(Cb) - np.min(Cb)\n",
    "Cb = np.subtract(Cb, Cb_min)\n",
    "Cb = np.divide(Cb, Cb_range)\n",
    "Cb = np.multiply(Cb, 255)\n",
    "\n",
    "image_ycrcb_norm = np.zeros((4000,6000, 3), dtype=np.uint8)\n",
    "image_ycrcb_norm[:,:,0] = Y\n",
    "image_ycrcb_norm[:,:,1] = Cr\n",
    "image_ycrcb_norm[:,:,2] = Cb\n",
    "print (f'Y_min: {np.min(image_ycrcb_norm[:,:,0])} \\tY_max: {np.max(image_ycrcb_norm[:,:,0])}',\n",
    "      f'\\nCr_min: {np.min(image_ycrcb_norm[:,:,1])} \\tCr_max: {np.max(image_ycrcb_norm[:,:,1])}'\n",
    "      f'\\nCb_min: {np.min(image_ycrcb_norm[:,:,2])} \\tCb_max: {np.max(image_ycrcb_norm[:,:,2])}\\n')\n",
    "\n",
    "Y_m, Cr_m, Cb_m = cv2.split(image_ycrcb_m)\n",
    "\n",
    "Cr_m_min = np.min(Cr_m)\n",
    "Cr_m_max = np.max(Cr_m)\n",
    "Cr_m_range = np.max(Cr_m) - np.min(Cr_m)\n",
    "Cr_m = np.subtract(Cr_m, Cr_m_min)\n",
    "Cr_m = np.divide(Cr_m, Cr_m_range)\n",
    "Cr_m = np.multiply(Cr_m, 255)\n",
    "\n",
    "Cb_m_min = np.min(Cb_m)\n",
    "Cb_m_max = np.max(Cb_m)\n",
    "Cb_m_range = np.max(Cb_m) - np.min(Cb_m)\n",
    "Cb_m = np.subtract(Cb_m, Cb_m_min)\n",
    "Cb_m = np.divide(Cb_m, Cb_m_range)\n",
    "Cb_m = np.multiply(Cb_m, 255)\n",
    "\n",
    "image_ycrcb_norm_m = np.zeros((4000,6000, 3), dtype=np.uint8)\n",
    "image_ycrcb_norm_m[:,:,0] = Y_m\n",
    "image_ycrcb_norm_m[:,:,1] = Cr_m\n",
    "image_ycrcb_norm_m[:,:,2] = Cb_m\n",
    "print (f'Y_m_min: {np.min(image_ycrcb_norm_m[:,:,0])} \\tY_m_max: {np.max(image_ycrcb_norm_m[:,:,0])}',\n",
    "      f'\\nCr_m_min: {np.min(image_ycrcb_norm_m[:,:,1])} \\tCr_m_max: {np.max(image_ycrcb_norm_m[:,:,1])}'\n",
    "      f'\\nCb_m_min: {np.min(image_ycrcb_norm_m[:,:,2])} \\tCb_m_max: {np.max(image_ycrcb_norm_m[:,:,2])}\\n')\n",
    "# Looks even better than HSVF for locating contrasts in lesions"
   ]
  },
  {
   "cell_type": "code",
   "execution_count": null,
   "metadata": {},
   "outputs": [],
   "source": [
    "plt.imshow(image_ycrcb_norm)\n",
    "plt.show()\n",
    "plt.imshow(image_ycrcb_norm_m)\n",
    "plt.show()"
   ]
  },
  {
   "cell_type": "code",
   "execution_count": null,
   "metadata": {},
   "outputs": [],
   "source": [
    "# Same as above but for the melanoma image\n",
    "Y_p_m, Cr_p_m, Cb_p_m = cv2.split(image_ycrcb_m)\n",
    "Y_p_m = np.float32(Y_p_m)\n",
    "\n",
    "Crp_min_m = np.min(Cr_p_m)\n",
    "Crp_max_m = np.max(Cr_p_m)\n",
    "Crp_range_m = np.max(Cr_p_m) - np.min(Cr_p_m)\n",
    "Cr_p_m = np.subtract(Cr_p_m, Crp_min_m)\n",
    "Cr_p_m = np.divide(Cr_p_m, Crp_range_m)\n",
    "Cr_p_m = np.multiply(Cr_p_m, 15.9)\n",
    "Cr_p_m = np.power(Cr_p_m, 2)\n",
    "\n",
    "\n",
    "Cbp_min_m = np.min(Cb_p_m)\n",
    "Cbp_max_m = np.max(Cb_p_m)\n",
    "Cbp_range_m = np.max(Cb_p_m) - np.min(Cb_p_m)\n",
    "V_p_m = np.subtract(Cb_p_m, Cbp_min_m)\n",
    "V_p_m = np.divide(Cb_p_m, Cbp_range_m)\n",
    "V_p_m = np.multiply(Cb_p_m, 15.9)\n",
    "V_p_m = np.power(Cb_p_m,2)\n",
    "\n",
    "print(np.min(Y_p_m), np.max(Y_p_m))\n",
    "print(np.min(Cr_p_m), np.max(Cr_p_m))\n",
    "print(np.min(Cb_p_m), np.max(Cb_p_m))\n",
    "\n",
    "image_ycrcb_norm_p_m = np.zeros((4000,6000, 3), dtype=np.float32)\n",
    "\n",
    "Y_l_p_m = Y_p_m / 255\n",
    "Cr_l_p_m = Cr_p_m / np.max(Cr_p_m)\n",
    "Cb_l_p_m = Cb_p_m / np.max(Cb_p_m)\n",
    "\n",
    "image_ycrcb_norm_p_m[:,:,0] = Y_l_p_m\n",
    "image_ycrcb_norm_p_m[:,:,1] = Cr_l_p_m\n",
    "image_ycrcb_norm_p_m[:,:,2] = Cb_l_p_m\n",
    "\n",
    "print (f'Y_min_m: {np.min(Y_l_p_m)} \\tY_max_m: {np.max(Y_l_p_m)}',\n",
    "      f'\\nCr_min_m: {np.min(Cr_l_p_m)} \\tCr_max_m: {np.max(Cr_l_p_m)}'\n",
    "      f'\\nCb_min_m: {np.min(Cb_l_p_m)} \\tCb_max_m: {np.max(Cb_l_p_m)}\\n')"
   ]
  },
  {
   "cell_type": "code",
   "execution_count": null,
   "metadata": {},
   "outputs": [],
   "source": [
    "# Comparison with boosting power for YCrCb\n",
    "plt.imshow(image_ycrcb_norm_m)\n",
    "plt.show()\n",
    "plt.imshow(image_ycrcb_norm_p_m)\n",
    "plt.show()\n",
    "# Visually rhis cleans up well in htis example"
   ]
  },
  {
   "cell_type": "code",
   "execution_count": null,
   "metadata": {},
   "outputs": [],
   "source": []
  }
 ],
 "metadata": {
  "kernelspec": {
   "display_name": "Python 3",
   "language": "python",
   "name": "python3"
  },
  "language_info": {
   "codemirror_mode": {
    "name": "ipython",
    "version": 3
   },
   "file_extension": ".py",
   "mimetype": "text/x-python",
   "name": "python",
   "nbconvert_exporter": "python",
   "pygments_lexer": "ipython3",
   "version": "3.6.9"
  }
 },
 "nbformat": 4,
 "nbformat_minor": 4
}
