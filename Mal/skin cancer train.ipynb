{
 "cells": [
  {
   "cell_type": "code",
   "execution_count": null,
   "metadata": {},
   "outputs": [],
   "source": [
    "import cv2\n",
    "import numpy as np\n",
    "import matplotlib.pyplot as plt\n",
    "import pandas as pd\n",
    "import torch\n",
    "import torch.nn as nn\n",
    "import torch.nn.functional as F\n",
    "import torchvision.transforms as transforms\n",
    "import matplotlib.pylab as pltlab\n",
    "import pydicom\n",
    "from datetime import datetime"
   ]
  },
  {
   "cell_type": "code",
   "execution_count": null,
   "metadata": {},
   "outputs": [],
   "source": [
    "# load CSV's\n",
    "csv_train_file = pd.read_csv('/home/malmason/datasets/siim-isic-melanoma-classification/train.csv')"
   ]
  },
  {
   "cell_type": "code",
   "execution_count": null,
   "metadata": {},
   "outputs": [],
   "source": [
    "csv_train_file = csv_train_file.append(csv_train_file.loc[csv_train_file['target'] == 1])\n",
    "csv_train_file = csv_train_file.append(csv_train_file.loc[csv_train_file['target'] == 1])\n",
    "csv_train_file = csv_train_file.append(csv_train_file.loc[csv_train_file['target'] == 1])"
   ]
  },
  {
   "cell_type": "code",
   "execution_count": null,
   "metadata": {},
   "outputs": [],
   "source": [
    "csv_train_file = csv_train_file.sample(frac=1).reset_index(drop=True)"
   ]
  },
  {
   "cell_type": "code",
   "execution_count": null,
   "metadata": {},
   "outputs": [],
   "source": [
    "# Point to image folders\n",
    "img_train_folder = '/home/malmason/datasets/siim-isic-melanoma-classification/ycbcr/norm/train/'"
   ]
  },
  {
   "cell_type": "code",
   "execution_count": null,
   "metadata": {},
   "outputs": [],
   "source": [
    "# Used for looping through image columns\n",
    "X_train_img = csv_train_file['image_name']"
   ]
  },
  {
   "cell_type": "code",
   "execution_count": null,
   "metadata": {},
   "outputs": [],
   "source": [
    "csv_train_file.head(2)"
   ]
  },
  {
   "cell_type": "code",
   "execution_count": null,
   "metadata": {},
   "outputs": [],
   "source": [
    "print(f\"Train set size: {len(csv_train_file)}, \\tUnique patients: {len(csv_train_file['patient_id'].value_counts())}\")"
   ]
  },
  {
   "cell_type": "code",
   "execution_count": null,
   "metadata": {},
   "outputs": [],
   "source": [
    "# Fill missing values\n",
    "csv_train_file[\"anatom_site_general_challenge\"].fillna(\"Unknown\", inplace = True)\n",
    "csv_train_file[\"sex\"].fillna(\"Unknown\", inplace = True)"
   ]
  },
  {
   "cell_type": "code",
   "execution_count": null,
   "metadata": {},
   "outputs": [],
   "source": [
    "head_neck = csv_train_file.loc[csv_train_file['anatom_site_general_challenge'] == 'head/neck']\n",
    "upper_extremity = csv_train_file.loc[csv_train_file['anatom_site_general_challenge'] == 'upper extremity']\n",
    "lower_extremity = csv_train_file.loc[csv_train_file['anatom_site_general_challenge'] == 'lower extremity']\n",
    "oral_genital = csv_train_file.loc[csv_train_file['anatom_site_general_challenge'] == 'oral/genital']\n",
    "palms_soles = csv_train_file.loc[csv_train_file['anatom_site_general_challenge'] == 'palms/soles']\n",
    "torso = csv_train_file.loc[csv_train_file['anatom_site_general_challenge'] == 'torso']\n",
    "none = csv_train_file.loc[csv_train_file['anatom_site_general_challenge'] == 'Unknown']\n",
    "\n",
    "zero, one = csv_train_file['target'].value_counts()\n",
    "print(f'\\nTotal train set: {zero+one}\\tNormal: {zero}\\tMelanoma: {one}\\tPercent: {np.round(one / zero,4)*100}%')\n",
    "\n",
    "print(\"\\nTrain set breakdown\\n-------------------\")\n",
    "zero , one = head_neck.groupby('target').target.count()\n",
    "print(f\"Head neck melanoma\\tTotal: {zero+one}\\tNormal: {zero}\\tMelanoma: {one}\\tPercent: {np.round(100*(one / zero),2)}%\")\n",
    "zero , one = lower_extremity.groupby('target').target.count()\n",
    "print(f\"lower_extremity   \\tTotal: {zero+one}\\tNormal: {zero}\\tMelanoma: {one}\\tPercent: {np.round(100*(one / zero),2)}%\")\n",
    "zero , one = oral_genital.groupby('target').target.count()\n",
    "print(f\"oral_genital      \\tTotal: {zero+one}\\tNormal: {zero}\\tMelanoma: {one}\\tPercent: {np.round(100*(one / zero),2)}%\")\n",
    "zero , one = palms_soles.groupby('target').target.count()\n",
    "print(f\"palms_soles       \\tTotal: {zero+one}\\tNormal: {zero}\\tMelanoma: {one}\\tPercent: {np.round(100*(one / zero),2)}%\")\n",
    "zero , one = torso.groupby('target').target.count()\n",
    "print(f\"torso             \\tTotal: {zero+one}\\tNormal: {zero}\\tMelanoma: {one}\\tPercent: {np.round(100*(one / zero),2)}%\")\n",
    "zero , one = upper_extremity.groupby('target').target.count()\n",
    "print(f\"upper_extremity   \\tTotal: {zero+one}\\tNormal: {zero}\\tMelanoma: {one}\\tPercent: {np.round(100*(one / zero),2)}%\")\n",
    "zero , one =  none.groupby('target').target.count()\n",
    "print(f\"Unknown           \\tTotal: {zero+one}\\tNormal: {zero}\\tMelanoma: {one}\\tPercent: {np.round(100*(one / zero),2)}%\")\n",
    "print(f\"\\nNull values for location: {csv_train_file['anatom_site_general_challenge'].isnull().sum()}\")\n",
    "\n",
    "# User to order 0 to 1 for anatom_site_general_challenge categorization"
   ]
  },
  {
   "cell_type": "code",
   "execution_count": null,
   "metadata": {},
   "outputs": [],
   "source": [
    "age_range = csv_train_file['age_approx'].dropna().unique()\n",
    "age_range.sort()\n",
    "for some_var in age_range:\n",
    "    age = csv_train_file.loc[csv_train_file['age_approx'] == some_var]\n",
    "    try:\n",
    "        zero , one =  age.groupby('target').target.count()\n",
    "        print(f\"Age approx:  {some_var}\\tNormal: {zero}\\tMelanoma: {one}\\tPercent: {np.round(100*(one / zero),2)}%\")\n",
    "    except:\n",
    "        print(f'{some_var} is missing either 0 or 1')\n",
    "# Ages classified 0 to 1 in order of age, as older more likely to gain skin cancer"
   ]
  },
  {
   "cell_type": "code",
   "execution_count": null,
   "metadata": {},
   "outputs": [],
   "source": [
    "male = csv_train_file.loc[csv_train_file['sex'] == 'male']\n",
    "female = csv_train_file.loc[csv_train_file['sex'] == 'female']\n",
    "unknown = csv_train_file.loc[csv_train_file['sex'] == 'Unknown']\n",
    "zero , one = male.groupby('target').target.count()\n",
    "print(f\"male     \\tTotal: {zero+one}\\tNormal: {zero}\\tMelanoma: {one}\\tPercent: {np.round(100*(one / zero),2)}%\")\n",
    "zero , one = female.groupby('target').target.count()\n",
    "print(f\"female   \\tTotal: {zero+one}\\tNormal: {zero}\\tMelanoma: {one}\\tPercent: {np.round(100*(one / zero),2)}%\")\n",
    "\n",
    "try:\n",
    "    zero , one =  unknown.groupby('target').target.count()\n",
    "    print(f\"unknown:  \\tTotal: {zero+one}\\tNormal: {zero}\\tMelanoma: {one}\\tPercent: {np.round(100*(one / zero),2)}%\")\n",
    "except:\n",
    "    print(f'missing either 0 or 1')"
   ]
  },
  {
   "cell_type": "code",
   "execution_count": null,
   "metadata": {},
   "outputs": [],
   "source": [
    "# Grfeater risk has higher value\n",
    "malignent_cat = {'benign':0, 'melanoma':1}\n",
    "sex_cat = {'female':0, 'male':1, 'unknown':2}\n",
    "localization_cat = {'palms/soles':0, 'lower extremity':1, 'torso':2, 'Unknown':3, 'upper extremity':4, 'oral/genital':5, 'head/neck':6}\n",
    "\n",
    "age_cat = {0.0:0, 10.0:1, 40.0:2, 35.0:3, 20:4, 30.0:5, 25.0:6, 45.0:7, 50.0:8, 15.0:9, 55.0:10,\n",
    "                            60.0:11, 65.0:12, 70.0:13, 85.0:14, 75.0:15, 80.0:16, 90.0:17}\n",
    "\n",
    "csv_train_file.benign_malignant = csv_train_file.benign_malignant.map(malignent_cat).astype(float)\n",
    "csv_train_file.sex = csv_train_file.sex.map(sex_cat).astype(float)\n",
    "csv_train_file.age_approx = csv_train_file.age_approx.map(age_cat).astype(float)\n",
    "csv_train_file.anatom_site_general_challenge = csv_train_file.anatom_site_general_challenge.map(localization_cat).astype(float)"
   ]
  },
  {
   "cell_type": "code",
   "execution_count": null,
   "metadata": {},
   "outputs": [],
   "source": [
    "csv_train_file_train = csv_train_file[:25000]\n",
    "csv_train_file_val = csv_train_file[25000:]"
   ]
  },
  {
   "cell_type": "code",
   "execution_count": null,
   "metadata": {},
   "outputs": [],
   "source": [
    "X_train_data = csv_train_file_train.drop(['image_name', 'patient_id', 'diagnosis', 'benign_malignant', 'target'], axis=1)\n",
    "X_val_data = csv_train_file_val.drop(['image_name', 'patient_id', 'diagnosis', 'benign_malignant', 'target'], axis=1)\n",
    "Y_train = csv_train_file_train['target']\n",
    "Y_val = csv_train_file_val['target']"
   ]
  },
  {
   "cell_type": "code",
   "execution_count": null,
   "metadata": {},
   "outputs": [],
   "source": [
    "print(X_train_data.shape, Y_train.shape, X_val_data.shape, Y_val.shape)"
   ]
  },
  {
   "cell_type": "code",
   "execution_count": null,
   "metadata": {},
   "outputs": [],
   "source": [
    "X_train_img = csv_train_file_train['image_name']\n",
    "X_val_img = csv_train_file_val['image_name']"
   ]
  },
  {
   "cell_type": "code",
   "execution_count": null,
   "metadata": {},
   "outputs": [],
   "source": [
    "sizing = 224 - 2            # conv1\n",
    "sizing = (sizing - 2) / 2   # conv2  \n",
    "sizing = (sizing - 2)       # conv3\n",
    "sizing = (sizing - 2) / 2   # conv4\n",
    "sizing = (sizing - 2)       # conv5\n",
    "sizing = (sizing - 2) / 2   # conv6\n",
    "sizing = (sizing - 2)       # conv7\n",
    "sizing = (sizing - 2) / 2   # conv8\n",
    "sizing = (sizing - 2) /2    # conv9\n",
    "print(512*(int(sizing)*int(sizing)))"
   ]
  },
  {
   "cell_type": "code",
   "execution_count": null,
   "metadata": {},
   "outputs": [],
   "source": [
    "class CNN(nn.Module):\n",
    "  def __init__(self, n_output_neurons):\n",
    "    super(CNN, self).__init__()\n",
    "\n",
    "    self.conv1 = nn.Conv2d(3 , 32,   kernel_size=3, stride=1)\n",
    "    self.conv2 = nn.Conv2d(32, 32,   kernel_size=3, stride=1)\n",
    "    self.bn1   = nn.BatchNorm2d(32)\n",
    "    self.conv3 = nn.Conv2d(32 , 64,  kernel_size=3, stride=1)\n",
    "    self.conv4 = nn.Conv2d(64 , 64,  kernel_size=3, stride=1)\n",
    "    self.bn2   = nn.BatchNorm2d(64)\n",
    "    self.conv5 = nn.Conv2d(64 , 128, kernel_size=3, stride=1)\n",
    "    self.conv6 = nn.Conv2d(128 ,128, kernel_size=3, stride=1)\n",
    "    self.bn3   = nn.BatchNorm2d(128)\n",
    "    self.conv7 = nn.Conv2d(128, 256, kernel_size=3, stride=1)\n",
    "    self.conv8 = nn.Conv2d(256 ,256, kernel_size=3, stride=1)\n",
    "    self.bn4   = nn.BatchNorm2d(256)\n",
    "    self.conv9 = nn.Conv2d(256, 512, kernel_size=3, stride=1)\n",
    "    self.bn5   = nn.BatchNorm2d(512)\n",
    "    self.conv10= nn.Conv2d(512, 512, kernel_size=3, stride=1)\n",
    "\n",
    "    self.fc1   = nn.Linear(8192,32)\n",
    "    self.fc2   = nn.Linear(32, n_output_neurons)\n",
    "\n",
    "  def forward(self, x):\n",
    "    x = F.relu(self.conv1(x),2)\n",
    "    x = F.relu(F.max_pool2d(self.conv2(x),2))\n",
    "    x = self.bn1(x)\n",
    "    x = F.relu(self.conv3(x),2)\n",
    "    x = F.relu(F.max_pool2d(self.conv4(x),2))\n",
    "    #x = self.bn2(x)\n",
    "    x = F.relu(self.conv5(x),2)\n",
    "    x = F.relu(F.max_pool2d(self.conv6(x),2))\n",
    "    x = self.bn3(x)\n",
    "    x = F.relu(self.conv7(x),2)\n",
    "    x = F.relu(F.max_pool2d(self.conv8(x),2))\n",
    "    #x = self.bn4(x)\n",
    "    x = F.relu(F.max_pool2d(self.conv9(x),2))\n",
    "    x = self.bn5(x)\n",
    "    #x = F.relu(F.max_pool2d(self.conv10(x),2))\n",
    "    \n",
    "    x = x.view(x.size(0), -1)\n",
    "    \n",
    "    x = F.relu(self.fc1(x))\n",
    "    x = F.dropout(x, p=0.5)\n",
    "    x = self.fc2(x)\n",
    "\n",
    "    return x"
   ]
  },
  {
   "cell_type": "code",
   "execution_count": null,
   "metadata": {},
   "outputs": [],
   "source": [
    "csv_train_file.head(2)"
   ]
  },
  {
   "cell_type": "code",
   "execution_count": null,
   "metadata": {},
   "outputs": [],
   "source": [
    "X_train_image = []\n",
    "for image_get in X_train_img:\n",
    "    img_train = cv2.imread(img_train_folder + '{}.jpg'.format(image_get))\n",
    "    X_train_image.append(img_train)"
   ]
  },
  {
   "cell_type": "code",
   "execution_count": null,
   "metadata": {},
   "outputs": [],
   "source": [
    "X_val_image = []\n",
    "for image_get in X_val_img:\n",
    "    img_val = cv2.imread(img_train_folder + '{}.jpg'.format(image_get))\n",
    "    X_val_image.append(img_val)"
   ]
  },
  {
   "cell_type": "code",
   "execution_count": null,
   "metadata": {},
   "outputs": [],
   "source": [
    "X_train_image = np.array(X_train_image)\n",
    "X_train_image = X_train_image.astype(np.float32)\n",
    "X_val_image = np.array(X_val_image)\n",
    "X_val_image = X_val_image.astype(np.float32)"
   ]
  },
  {
   "cell_type": "code",
   "execution_count": null,
   "metadata": {},
   "outputs": [],
   "source": [
    "Y_train = np.array(Y_train)\n",
    "Y_val = np.array(Y_val)"
   ]
  },
  {
   "cell_type": "code",
   "execution_count": null,
   "metadata": {},
   "outputs": [],
   "source": [
    "X_train_image = X_train_image / 255\n",
    "X_val_image = X_val_image / 255"
   ]
  },
  {
   "cell_type": "code",
   "execution_count": null,
   "metadata": {},
   "outputs": [],
   "source": [
    "print(f'Train shape: {X_train_image.shape}, Vl shape: {X_val_image.shape}')"
   ]
  },
  {
   "cell_type": "code",
   "execution_count": null,
   "metadata": {},
   "outputs": [],
   "source": [
    "X_train_image.dtype"
   ]
  },
  {
   "cell_type": "code",
   "execution_count": null,
   "metadata": {},
   "outputs": [],
   "source": [
    "n_channels = 3\n",
    "n_output_neurons = 1"
   ]
  },
  {
   "cell_type": "code",
   "execution_count": null,
   "metadata": {},
   "outputs": [],
   "source": [
    "model = CNN(n_output_neurons)"
   ]
  },
  {
   "cell_type": "code",
   "execution_count": null,
   "metadata": {},
   "outputs": [],
   "source": [
    "device = torch.device(\"cuda:0\" if torch.cuda.is_available() else \"cpu\")\n",
    "print(device)\n",
    "model.to(device)"
   ]
  },
  {
   "cell_type": "code",
   "execution_count": null,
   "metadata": {},
   "outputs": [],
   "source": [
    "criterion = nn.BCEWithLogitsLoss()\n",
    "optimizer = torch.optim.Adam(model.parameters(), lr=0.001)"
   ]
  },
  {
   "cell_type": "code",
   "execution_count": null,
   "metadata": {},
   "outputs": [],
   "source": [
    "X_train_image_t = np.transpose(X_train_image, (0,3,1,2))"
   ]
  },
  {
   "cell_type": "code",
   "execution_count": null,
   "metadata": {},
   "outputs": [],
   "source": [
    "input_train = torch.from_numpy(X_train_image_t)\n",
    "target_train = torch.from_numpy(Y_train).reshape(-1,1).float()"
   ]
  },
  {
   "cell_type": "code",
   "execution_count": null,
   "metadata": {},
   "outputs": [],
   "source": [
    "X_val_image_t = np.transpose(X_val_image, (0,3,1,2))"
   ]
  },
  {
   "cell_type": "code",
   "execution_count": null,
   "metadata": {},
   "outputs": [],
   "source": [
    "input_val = torch.from_numpy(X_val_image_t)\n",
    "target_val = torch.from_numpy(Y_val).reshape(-1,1).float()"
   ]
  },
  {
   "cell_type": "code",
   "execution_count": null,
   "metadata": {},
   "outputs": [],
   "source": [
    "n_epochs = 25\n",
    "train_losses = []\n",
    "val_losses = []"
   ]
  },
  {
   "cell_type": "code",
   "execution_count": null,
   "metadata": {},
   "outputs": [],
   "source": [
    "batch_size = 64\n",
    "training_set = torch.utils.data.TensorDataset(input_train, target_train)\n",
    "train_loader = torch.utils.data.DataLoader(dataset=training_set, \n",
    "                                           batch_size=batch_size,\n",
    "                                           num_workers=2,\n",
    "                                           shuffle=True)\n",
    "val_set = torch.utils.data.TensorDataset(input_val, target_val)\n",
    "val_loader = torch.utils.data.DataLoader(dataset=val_set, \n",
    "                                           batch_size=batch_size,\n",
    "                                         num_workers=2,\n",
    "                                           shuffle=False)"
   ]
  },
  {
   "cell_type": "code",
   "execution_count": null,
   "metadata": {},
   "outputs": [],
   "source": [
    "def batch_gd(model, criterion, optimizer, train_loader, val_loader, n_epochs):\n",
    "    train_losses = np.zeros(n_epochs)\n",
    "    val_losses = np.zeros(n_epochs)\n",
    "    \n",
    "    for it in range(n_epochs):\n",
    "        t0 = datetime.now()\n",
    "        \n",
    "        train_loss = []\n",
    "        \n",
    "        for inputs, targets in train_loader:\n",
    "            inputs, targets = inputs.to(device), targets.to(device)\n",
    "            \n",
    "            optimizer.zero_grad()\n",
    "            outputs = model(inputs)\n",
    "            \n",
    "            loss = criterion(outputs, targets)\n",
    "            \n",
    "            loss.backward()\n",
    "            optimizer.step()\n",
    "            \n",
    "            train_loss.append(loss.item())\n",
    "            \n",
    "        train_loss = np.mean(train_loss)\n",
    "        \n",
    "        val_loss = []\n",
    "        \n",
    "        for inputs, targets in val_loader:\n",
    "            inputs, targets = inputs.to(device), targets.to(device)\n",
    "            outputs = model(inputs)\n",
    "            loss = criterion(outputs, targets)\n",
    "            \n",
    "            val_loss.append(loss.item())\n",
    "            \n",
    "        val_loss = np.mean(val_loss)\n",
    "        \n",
    "        train_losses[it] = train_loss\n",
    "        val_losses[it] = val_loss\n",
    "\n",
    "        dt = datetime.now() -t0\n",
    "\n",
    "        print(f'Epoch {it+1}/{n_epochs}, Time: {dt}, Train Loss: {train_loss:.4f}, Validation Loss: {val_loss:.4f}')\n",
    "    \n",
    "    return train_losses, val_losses"
   ]
  },
  {
   "cell_type": "code",
   "execution_count": null,
   "metadata": {},
   "outputs": [],
   "source": [
    "train_losses, test_losses = batch_gd(\n",
    "    model, criterion, optimizer, train_loader, val_loader, n_epochs)"
   ]
  },
  {
   "cell_type": "markdown",
   "metadata": {},
   "source": [
    "## Start of test data"
   ]
  },
  {
   "cell_type": "code",
   "execution_count": null,
   "metadata": {},
   "outputs": [],
   "source": [
    "csv_test_file = pd.read_csv('/home/malmason/datasets/siim-isic-melanoma-classification/test.csv')"
   ]
  },
  {
   "cell_type": "code",
   "execution_count": null,
   "metadata": {},
   "outputs": [],
   "source": [
    "img_test_folder = '/home/malmason/datasets/siim-isic-melanoma-classification/ycbcr/norm/test/'"
   ]
  },
  {
   "cell_type": "code",
   "execution_count": null,
   "metadata": {},
   "outputs": [],
   "source": [
    "X_test_img = csv_test_file['image_name']"
   ]
  },
  {
   "cell_type": "code",
   "execution_count": null,
   "metadata": {},
   "outputs": [],
   "source": [
    "csv_test_file[\"anatom_site_general_challenge\"].fillna(\"Unknown\", inplace = True)\n",
    "csv_test_file[\"sex\"].fillna(\"Unknown\", inplace = True) "
   ]
  },
  {
   "cell_type": "code",
   "execution_count": null,
   "metadata": {},
   "outputs": [],
   "source": [
    "csv_test_file.sex = csv_test_file.sex.map(sex_cat).astype(float)\n",
    "csv_test_file.age_approx = csv_test_file.age_approx.map(age_cat).astype(float)\n",
    "csv_test_file.anatom_site_general_challenge = csv_test_file.anatom_site_general_challenge.map(localization_cat).astype(float)"
   ]
  },
  {
   "cell_type": "code",
   "execution_count": null,
   "metadata": {},
   "outputs": [],
   "source": [
    "X_test_data = csv_train_file.drop(['image_name', 'patient_id'], axis=1)"
   ]
  },
  {
   "cell_type": "code",
   "execution_count": null,
   "metadata": {},
   "outputs": [],
   "source": [
    "X_test_img = csv_test_file['image_name']"
   ]
  },
  {
   "cell_type": "code",
   "execution_count": null,
   "metadata": {},
   "outputs": [],
   "source": [
    "csv_test_file.head()"
   ]
  },
  {
   "cell_type": "code",
   "execution_count": null,
   "metadata": {},
   "outputs": [],
   "source": [
    "X_test_image = []\n",
    "for image_get in X_test_img:\n",
    "    img_test = cv2.imread(img_test_folder + '{}.jpg'.format(image_get))\n",
    "    X_test_image.append(img_test)"
   ]
  },
  {
   "cell_type": "code",
   "execution_count": null,
   "metadata": {},
   "outputs": [],
   "source": [
    "X_test_image = np.array(X_test_image.astype(np.float32))"
   ]
  },
  {
   "cell_type": "code",
   "execution_count": null,
   "metadata": {},
   "outputs": [],
   "source": [
    "X_test_image = X_test_image / 255"
   ]
  },
  {
   "cell_type": "code",
   "execution_count": null,
   "metadata": {},
   "outputs": [],
   "source": []
  }
 ],
 "metadata": {
  "kernelspec": {
   "display_name": "Python 3",
   "language": "python",
   "name": "python3"
  },
  "language_info": {
   "codemirror_mode": {
    "name": "ipython",
    "version": 3
   },
   "file_extension": ".py",
   "mimetype": "text/x-python",
   "name": "python",
   "nbconvert_exporter": "python",
   "pygments_lexer": "ipython3",
   "version": "3.6.9"
  }
 },
 "nbformat": 4,
 "nbformat_minor": 4
}
