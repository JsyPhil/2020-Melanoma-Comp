{
 "cells": [
  {
   "cell_type": "markdown",
   "metadata": {},
   "source": [
    "## Final Predictions Workflow Notebook v1"
   ]
  },
  {
   "cell_type": "markdown",
   "metadata": {},
   "source": [
    "#### Sources of information, code and discussions"
   ]
  },
  {
   "cell_type": "markdown",
   "metadata": {},
   "source": [
    "1. This notebook follows the 5 step process presented in the Chris Deotte \"How to compete with GPUs Workshop\" [here][1].\n",
    "2. Triple stratified KFold TFRecords used for image data is explained [here][2].\n",
    "3. Some code sections have been reused from AgentAuers' notebook [here][3]\n",
    "4. The advantage of using different input sizes is discussed [here][4]\n",
    "5. Use external data by changing the variables `INC2019` and `INC2018`.These variables respectively indicate whether to load last year 2019 data and/or year 2018 + 2017 data. These datasets are discussed [here][5]\n",
    "\n",
    "[1]: https://www.kaggle.com/cdeotte/how-to-compete-with-gpus-workshop\n",
    "[2]: https://www.kaggle.com/c/siim-isic-melanoma-classification/discussion/165526\n",
    "[3]: https://www.kaggle.com/agentauers/incredible-tpus-finetune-effnetb0-b6-at-once\n",
    "[4]: https://www.kaggle.com/c/siim-isic-melanoma-classification/discussion/160147\n",
    "[5]: https://www.kaggle.com/c/siim-isic-melanoma-classification/discussion/164910"
   ]
  },
  {
   "cell_type": "markdown",
   "metadata": {},
   "source": [
    "####  Initiatialise environment and import necessary libraries"
   ]
  },
  {
   "cell_type": "markdown",
   "metadata": {},
   "source": [
    "# Initialize Environment"
   ]
  },
  {
   "cell_type": "code",
   "execution_count": 1,
   "metadata": {
    "_cell_guid": "b1076dfc-b9ad-4769-8c92-a6c4dae69d19",
    "_uuid": "8f2839f25d086af736a60e9eeb907d3b93b6e0e5"
   },
   "outputs": [],
   "source": [
    "# Use if running in Kaggle environment\n",
    "#!pip install -q efficientnet >> /dev/null"
   ]
  },
  {
   "cell_type": "code",
   "execution_count": 2,
   "metadata": {},
   "outputs": [],
   "source": [
    "# import KaggleDatasets if running in Kaggle environment\n",
    "#from kaggle_datasets import KaggleDatasets\n",
    "\n",
    "import os, re, math\n",
    "\n",
    "import pandas as pd\n",
    "import numpy as np\n",
    "import matplotlib.pyplot as plt\n",
    "\n",
    "import tensorflow as tf\n",
    "import tensorflow.keras.backend as K\n",
    "\n",
    "import efficientnet.tfkeras as efn\n",
    "\n",
    "from sklearn.model_selection import KFold\n",
    "from sklearn.metrics import roc_auc_score \n",
    "from sklearn.utils import class_weight"
   ]
  },
  {
   "cell_type": "markdown",
   "metadata": {},
   "source": [
    "## Configuration\n",
    "\n",
    "* DEVICE - is GPU or TPU\n",
    "* SEED - a different seed produces a different triple stratified kfold split.\n",
    "* FOLDS - number of folds. Best set to 3, 5, or 15 for conistent number of train and validation samples across folds\n",
    "* IMG_SIZES - These are the image sizes to use each fold\n",
    "* INC2019 - This includes the new half of the 2019 competition data. The second half of the 2019 data is the comp data from 2018 plus 2017\n",
    "* INC2018 - This includes the second half of the 2019 competition data which is the comp data from 2018 plus 2017\n",
    "* BATCH_SIZES - These are batch sizes for each fold. For maximum speed, it is best to use the largest batch size your GPU or TPU allows.\n",
    "* EPOCHS - These are maximum epochs. Note that each fold, the best epoch model is saved and used. So if epochs is too large, it won't matter. Consider early stopping in Callbacks.\n",
    "* EFF_NETS - These are the EfficientNets to use each fold. The number refers to the B. So a number of `0` refers to EfficientNetB0, and `1` refers to EfficientNetB1, etc.\n",
    "* WGTS - this should be `1/FOLDS` for each fold. This is the weight when ensembling the folds to predict the test set. If you want a weird ensemble, you can use different weights.\n",
    "* TTA - test time augmentation. Each test image is randomly augmented and predicted TTA times and the average prediction is used. TTA is also applied to OOF during validation."
   ]
  },
  {
   "cell_type": "markdown",
   "metadata": {},
   "source": [
    "Image sizes used in the Efficientnet model:\n",
    "\n",
    "- efficientnet-b0-224 -cv train with 192\n",
    "- efficientnet-b1-240 -cv train with 256\n",
    "- efficientnet-b2-260 -cv train with 256\n",
    "- efficientnet-b3-300 -cv train with 384\n",
    "- efficientnet-b4-380 -cv train with 384\n",
    "- efficientnet-b5-456 -cv train with 512\n",
    "- efficientnet-b6-528 -cv train with 512\n",
    "- efficientnet-b7-600 -cv train with 768\n",
    "\n",
    "Better to train with a larger size and let the model scale down rather than up."
   ]
  },
  {
   "cell_type": "code",
   "execution_count": 3,
   "metadata": {
    "_cell_guid": "79c7e3d0-c299-4dcb-8224-4455121ee9b0",
    "_uuid": "d629ff2d2480ee46fbb7e2d37f6b5fab8052498a"
   },
   "outputs": [],
   "source": [
    "ENV = \"LOCAL\" #or \"KAGGLE\"\n",
    "\n",
    "# DEFAULT TO TPU TO ENSURE KAGGLE TPU COMPATIABILITY\n",
    "# https://www.kaggle.com/docs/tpu\n",
    "DEVICE = \"TPU\" #or \"GPU\"\n",
    "\n",
    "# WHICH IMAGE SIZES TO LOAD EACH FOLD\n",
    "# CHOOSE 128, 192, 256, 384, 512, 768 \n",
    "IMG_SIZES = 512\n",
    "\n",
    "# META DATA? YES=1 NO=0\n",
    "META = 1\n",
    "\n",
    "# INCLUDE OLD COMP DATA? YES=1 NO=0\n",
    "INC2019 = 0\n",
    "INC2018 = 1\n",
    "\n",
    "# UPSAMPLE MALIGNANT\n",
    "M1 = 1 #2020 malig\n",
    "M2 = 0 #ISIC malig\n",
    "M3 = 0 #2019 good malig\n",
    "M4 = 1 #2018 2017 malig - Malignant only images from HAM10000\n",
    "\n",
    "# COARSE DROPOUT\n",
    "DROP_FREQ = 0.75 # 0.75 # between 0 and 1\n",
    "DROP_CT = 8 # 8 # may slow training if CT>16\n",
    "DROP_SIZE = 0.2 # 0.2 # between 0 and 1\n",
    "\n",
    "# BATCH SIZE AND EPOCHS\n",
    "# TRY 8, 16, 32, 64, 128, 256. REDUCE IF OOM ERROR, HIGHER FOR TPUS\n",
    "BATCH_SIZES = 4\n",
    "EPOCHS = 16\n",
    "\n",
    "# METADATA ENSEMBLE\n",
    "META_ENSEMBLE = 1 # 1 = Yes, 0 = No\n",
    "META_WEIGHT = 0.1 # Optimal weight to use in Ensemble\n",
    "\n",
    "# WHICH EFFICIENTNET B? TO USE\n",
    "EFF_NETS = 6\n",
    "\n",
    "# TEST TIME AUGMENTATION STEPS\n",
    "TTA = 25"
   ]
  },
  {
   "cell_type": "markdown",
   "metadata": {},
   "source": [
    "#### Configure environment to use TPUs, Multiple GPUs, Single GPU or just CPU"
   ]
  },
  {
   "cell_type": "code",
   "execution_count": 4,
   "metadata": {},
   "outputs": [
    {
     "name": "stdout",
     "output_type": "stream",
     "text": [
      "connecting to TPU...\n",
      "Could not connect to TPU\n",
      "Using default strategy for CPU and GPU\n",
      "Num GPUs Available:  2\n",
      "INFO:tensorflow:Using MirroredStrategy with devices ('/job:localhost/replica:0/task:0/device:GPU:0', '/job:localhost/replica:0/task:0/device:GPU:1')\n",
      "REPLICAS: 2\n"
     ]
    }
   ],
   "source": [
    "if DEVICE == \"TPU\":\n",
    "    print(\"connecting to TPU...\")\n",
    "    try:\n",
    "        tpu = tf.distribute.cluster_resolver.TPUClusterResolver()\n",
    "        print('Running on TPU ', tpu.master())\n",
    "    except ValueError:\n",
    "        print(\"Could not connect to TPU\")\n",
    "        tpu = None\n",
    "\n",
    "    if tpu:\n",
    "        try:\n",
    "            print(\"initializing  TPU ...\")\n",
    "            tf.config.experimental_connect_to_cluster(tpu)\n",
    "            tf.tpu.experimental.initialize_tpu_system(tpu)\n",
    "            strategy = tf.distribute.experimental.TPUStrategy(tpu)\n",
    "            print(\"TPU initialized\")\n",
    "        except _:\n",
    "            print(\"failed to initialize TPU\")\n",
    "    else:\n",
    "        DEVICE = \"GPU\"\n",
    "\n",
    "if DEVICE != \"TPU\":\n",
    "    print(\"Using default strategy for CPU and GPU\")\n",
    "    \n",
    "\n",
    "if DEVICE == \"GPU\":\n",
    "    print(\"Num GPUs Available: \", len(tf.config.experimental.list_physical_devices('GPU')))\n",
    "    if len(tf.config.experimental.list_physical_devices('GPU')) > 1:\n",
    "        strategy = tf.distribute.MirroredStrategy()\n",
    "    else:\n",
    "        strategy = tf.distribute.get_strategy()\n",
    "    \n",
    "\n",
    "AUTO     = tf.data.experimental.AUTOTUNE\n",
    "REPLICAS = strategy.num_replicas_in_sync\n",
    "\n",
    "print(f'REPLICAS: {REPLICAS}')"
   ]
  },
  {
   "cell_type": "markdown",
   "metadata": {},
   "source": [
    "### Step 1: Preprocess and file handling\n",
    "Preprocess has already been done and saved to TFRecords. Here we choose which size to load. We can use either 128x128, 192x192, 256x256, 384x384, 512x512, 768x768 by changing the `IMG_SIZES` variable in the preceeding code section."
   ]
  },
  {
   "cell_type": "code",
   "execution_count": 5,
   "metadata": {},
   "outputs": [],
   "source": [
    "# Load file locations\n",
    "# / means the root of the current drive;\n",
    "# ./ means the current directory;\n",
    "# ../ means the parent of the current directory.\n",
    "\n",
    "if ENV == 'KAGGLE':\n",
    "    #Use GCS if running in Kaggle environment\n",
    "    PATH = KaggleDatasets().get_gcs_path('melanoma-%ix%i'%(IMG_SIZES,IMG_SIZES))\n",
    "    PATH2 = KaggleDatasets().get_gcs_path('isic2019-%ix%i'%(IMG_SIZES,IMG_SIZES))\n",
    "    PATH3 = KaggleDatasets().get_gcs_path('malignant-v2-%ix%i'%(IMG_SIZES,IMG_SIZES))\n",
    "    files_train = np.sort(np.array(tf.io.gfile.glob(PATH + '/train*.tfrec')))\n",
    "    files_test  = np.sort(np.array(tf.io.gfile.glob(PATH + '/test*.tfrec')))\n",
    "       \n",
    "if ENV == 'LOCAL':  \n",
    "    # Use LDS if running in local environment\n",
    "    PATH = None; PATH2 = None; PATH3 = None\n",
    "    PATH = f\"../siim-isic-melanoma-classification/tfrecords{IMG_SIZES}\"\n",
    "    PATH2 = f\"../siim-isic-melanoma-classification/tfrecords{IMG_SIZES}Ext\"\n",
    "    PATH3 = f\"../siim-isic-melanoma-classification/tfrecords{IMG_SIZES}Mal\"\n",
    "    files_train = np.sort(np.array(tf.io.gfile.glob(PATH + '/train*.tfrec')))\n",
    "    files_test  = np.sort(np.array(tf.io.gfile.glob(PATH + '/test*.tfrec')))"
   ]
  },
  {
   "cell_type": "code",
   "execution_count": 6,
   "metadata": {},
   "outputs": [
    {
     "data": {
      "text/plain": [
       "array(['../siim-isic-melanoma-classification/tfrecords512/train00-2182.tfrec',\n",
       "       '../siim-isic-melanoma-classification/tfrecords512/train01-2185.tfrec',\n",
       "       '../siim-isic-melanoma-classification/tfrecords512/train02-2193.tfrec',\n",
       "       '../siim-isic-melanoma-classification/tfrecords512/train03-2182.tfrec',\n",
       "       '../siim-isic-melanoma-classification/tfrecords512/train04-2167.tfrec',\n",
       "       '../siim-isic-melanoma-classification/tfrecords512/train05-2171.tfrec',\n",
       "       '../siim-isic-melanoma-classification/tfrecords512/train06-2175.tfrec',\n",
       "       '../siim-isic-melanoma-classification/tfrecords512/train07-2174.tfrec',\n",
       "       '../siim-isic-melanoma-classification/tfrecords512/train08-2177.tfrec',\n",
       "       '../siim-isic-melanoma-classification/tfrecords512/train09-2178.tfrec',\n",
       "       '../siim-isic-melanoma-classification/tfrecords512/train10-2174.tfrec',\n",
       "       '../siim-isic-melanoma-classification/tfrecords512/train11-2176.tfrec',\n",
       "       '../siim-isic-melanoma-classification/tfrecords512/train12-2198.tfrec',\n",
       "       '../siim-isic-melanoma-classification/tfrecords512/train13-2186.tfrec',\n",
       "       '../siim-isic-melanoma-classification/tfrecords512/train14-2174.tfrec'],\n",
       "      dtype='<U68')"
      ]
     },
     "execution_count": 6,
     "metadata": {},
     "output_type": "execute_result"
    }
   ],
   "source": [
    "files_train"
   ]
  },
  {
   "cell_type": "code",
   "execution_count": 7,
   "metadata": {},
   "outputs": [
    {
     "data": {
      "text/plain": [
       "array(['../siim-isic-melanoma-classification/tfrecords512/test00-687.tfrec',\n",
       "       '../siim-isic-melanoma-classification/tfrecords512/test01-687.tfrec',\n",
       "       '../siim-isic-melanoma-classification/tfrecords512/test02-687.tfrec',\n",
       "       '../siim-isic-melanoma-classification/tfrecords512/test03-687.tfrec',\n",
       "       '../siim-isic-melanoma-classification/tfrecords512/test04-687.tfrec',\n",
       "       '../siim-isic-melanoma-classification/tfrecords512/test05-687.tfrec',\n",
       "       '../siim-isic-melanoma-classification/tfrecords512/test06-687.tfrec',\n",
       "       '../siim-isic-melanoma-classification/tfrecords512/test07-687.tfrec',\n",
       "       '../siim-isic-melanoma-classification/tfrecords512/test08-687.tfrec',\n",
       "       '../siim-isic-melanoma-classification/tfrecords512/test09-687.tfrec',\n",
       "       '../siim-isic-melanoma-classification/tfrecords512/test10-687.tfrec',\n",
       "       '../siim-isic-melanoma-classification/tfrecords512/test11-687.tfrec',\n",
       "       '../siim-isic-melanoma-classification/tfrecords512/test12-687.tfrec',\n",
       "       '../siim-isic-melanoma-classification/tfrecords512/test13-687.tfrec',\n",
       "       '../siim-isic-melanoma-classification/tfrecords512/test14-687.tfrec',\n",
       "       '../siim-isic-melanoma-classification/tfrecords512/test15-677.tfrec'],\n",
       "      dtype='<U66')"
      ]
     },
     "execution_count": 7,
     "metadata": {},
     "output_type": "execute_result"
    }
   ],
   "source": [
    "files_test"
   ]
  },
  {
   "cell_type": "code",
   "execution_count": 8,
   "metadata": {},
   "outputs": [],
   "source": [
    "# Save file locations\n",
    "if ENV == 'KAGGLE':\n",
    "    LOG_PATH = ''\n",
    "    CV_OOF_PREDS_PATH = ''\n",
    "    CV_TEST_PREDS_PATH = ''\n",
    "    CV_FOLDS_PATH = ''\n",
    "\n",
    "if ENV == 'LOCAL':\n",
    "    LOG_PATH = './logs/'\n",
    "    CV_TEST_PREDS_PATH = './test_preds/'\n",
    "    CV_FOLDS_PATH = './weights/'"
   ]
  },
  {
   "cell_type": "code",
   "execution_count": 9,
   "metadata": {},
   "outputs": [],
   "source": [
    "# File handling functions\n",
    "def read_labeled_tfrecord(example):\n",
    "    tfrec_format = {\n",
    "        'image'                        : tf.io.FixedLenFeature([], tf.string),\n",
    "        'image_name'                   : tf.io.FixedLenFeature([], tf.string),\n",
    "        'patient_id'                   : tf.io.FixedLenFeature([], tf.int64),\n",
    "        'sex'                          : tf.io.FixedLenFeature([], tf.int64),\n",
    "        'age_approx'                   : tf.io.FixedLenFeature([], tf.int64),\n",
    "        'anatom_site_general_challenge': tf.io.FixedLenFeature([], tf.int64),\n",
    "        'diagnosis'                    : tf.io.FixedLenFeature([], tf.int64),\n",
    "        'target'                       : tf.io.FixedLenFeature([], tf.int64)\n",
    "    }           \n",
    "    example = tf.io.parse_single_example(example, tfrec_format)\n",
    "    return example['image'], example['target']\n",
    "\n",
    "def read_meta_tfrecord(example):\n",
    "    tfrec_format = {\n",
    "        'image'                        : tf.io.FixedLenFeature([], tf.string),\n",
    "        'image_name'                   : tf.io.FixedLenFeature([], tf.string),\n",
    "        'patient_id'                   : tf.io.FixedLenFeature([], tf.int64),\n",
    "        'sex'                          : tf.io.FixedLenFeature([], tf.int64),\n",
    "        'age_approx'                   : tf.io.FixedLenFeature([], tf.int64),\n",
    "        'anatom_site_general_challenge': tf.io.FixedLenFeature([], tf.int64),\n",
    "        'diagnosis'                    : tf.io.FixedLenFeature([], tf.int64),\n",
    "        'target'                       : tf.io.FixedLenFeature([], tf.int64)\n",
    "    }           \n",
    "    example = tf.io.parse_single_example(example, tfrec_format)\n",
    "    return example['image_name'], example['sex'], example['age_approx'], example['anatom_site_general_challenge'], example['target']\n",
    "\n",
    "def read_meta_tfrecord_test(example):\n",
    "    tfrec_format = {\n",
    "        'image'                        : tf.io.FixedLenFeature([], tf.string),\n",
    "        'image_name'                   : tf.io.FixedLenFeature([], tf.string),\n",
    "        'patient_id'                   : tf.io.FixedLenFeature([], tf.int64),\n",
    "        'sex'                          : tf.io.FixedLenFeature([], tf.int64),\n",
    "        'age_approx'                   : tf.io.FixedLenFeature([], tf.int64),\n",
    "        'anatom_site_general_challenge': tf.io.FixedLenFeature([], tf.int64),\n",
    "    }           \n",
    "    example = tf.io.parse_single_example(example, tfrec_format)\n",
    "    return example['image_name'], example['sex'], example['age_approx'], example['anatom_site_general_challenge']\n",
    "\n",
    "def read_unlabeled_tfrecord(example, return_image_name):\n",
    "    tfrec_format = {\n",
    "        'image'                        : tf.io.FixedLenFeature([], tf.string),\n",
    "        'image_name'                   : tf.io.FixedLenFeature([], tf.string),\n",
    "    }\n",
    "    example = tf.io.parse_single_example(example, tfrec_format)\n",
    "    return example['image'], example['image_name'] if return_image_name else 0\n",
    "\n",
    "def count_data_items(filenames):\n",
    "    n = [int(re.compile(r\"-([0-9]*)\\.\").search(filename).group(1)) \n",
    "         for filename in filenames]\n",
    "    return np.sum(n)"
   ]
  },
  {
   "cell_type": "code",
   "execution_count": 10,
   "metadata": {},
   "outputs": [],
   "source": [
    "# Function to stream datasets into model when training, validating and predicting\n",
    "def get_dataset(files, augment = False, shuffle = False, repeat = False, \n",
    "                labeled=True, return_image_names=True, batch_size=16, dim=256,\n",
    "                droprate=0, dropct=0, dropsize=0):\n",
    "    \n",
    "    ds = tf.data.TFRecordDataset(files, num_parallel_reads=AUTO)\n",
    "    ds = ds.cache()\n",
    "    \n",
    "    if repeat:\n",
    "        ds = ds.repeat()\n",
    "    \n",
    "    if shuffle: \n",
    "        ds = ds.shuffle(1024*8)\n",
    "        opt = tf.data.Options()\n",
    "        opt.experimental_deterministic = False\n",
    "        ds = ds.with_options(opt)\n",
    "        \n",
    "    if labeled: \n",
    "        ds = ds.map(read_labeled_tfrecord, num_parallel_calls=AUTO)\n",
    "    else:\n",
    "        ds = ds.map(lambda example: read_unlabeled_tfrecord(example, return_image_names), \n",
    "                    num_parallel_calls=AUTO)      \n",
    "    \n",
    "    ds = ds.map(lambda img, imgname_or_label: (prepare_image(img, augment=augment, dim=dim,\n",
    "                                               droprate=droprate, dropct=dropct, dropsize=dropsize),\n",
    "                                               imgname_or_label), \n",
    "                num_parallel_calls=AUTO)\n",
    "    \n",
    "    ds = ds.batch(batch_size * REPLICAS)\n",
    "    ds = ds.prefetch(AUTO)\n",
    "    return ds"
   ]
  },
  {
   "cell_type": "code",
   "execution_count": 11,
   "metadata": {},
   "outputs": [],
   "source": [
    "# Function to stream datasets into model when training, validating and predicting\n",
    "column_names = ['image_name', 'sex', 'age_approx', 'anatom', 'target']\n",
    "column_names_test = ['image_name', 'sex', 'age_approx', 'anatom']\n",
    "\n",
    "def get_meta(files, batch_size=16, test=0):\n",
    "    ds = tf.data.TFRecordDataset(files, num_parallel_reads=AUTO)\n",
    "    ds = ds.cache()\n",
    "    if test:\n",
    "        ds = ds.map(lambda example: read_meta_tfrecord_test(example), num_parallel_calls=AUTO)\n",
    "    else:\n",
    "        ds = ds.map(lambda example: read_meta_tfrecord(example), num_parallel_calls=AUTO)      \n",
    "    ds = ds.batch(batch_size * REPLICAS)\n",
    "    ds = ds.prefetch(AUTO)\n",
    "        \n",
    "    return ds\n",
    "\n",
    "def meta_unbatch(files, test=0):\n",
    "    if test:\n",
    "        meta_np = np.array([[img_name.numpy().decode(\"utf-8\"),\n",
    "                  sex.numpy(),\n",
    "                  age.numpy(),\n",
    "                  anatomy.numpy()]\n",
    "                for img_name, sex, age, anatomy in iter(files.unbatch())])\n",
    "        meta_df = pd.DataFrame(data = meta_np, columns=column_names_test)\n",
    "\n",
    "    else:        \n",
    "        meta_np = np.array([[img_name.numpy().decode(\"utf-8\"),\n",
    "                  sex.numpy(),\n",
    "                  age.numpy(),\n",
    "                  anatomy.numpy(),\n",
    "                  target.numpy()] \n",
    "                for img_name, sex, age, anatomy, target in iter(files.unbatch())])\n",
    "        \n",
    "        meta_df = pd.DataFrame(data = meta_np, columns=column_names)\n",
    "        meta_df = meta_df.astype({\"target\": int})\n",
    "    return meta_df"
   ]
  },
  {
   "cell_type": "markdown",
   "metadata": {},
   "source": [
    "### Step 2: Data Augmentation\n",
    "This notebook uses rotation, sheer, zoom, shift augmentation. This notebook also uses horizontal flip, saturation, contrast, brightness augmentation similar to last years winner."
   ]
  },
  {
   "cell_type": "code",
   "execution_count": 12,
   "metadata": {},
   "outputs": [],
   "source": [
    "# Assign variables\n",
    "ROT_ = 180.0\n",
    "SHR_ = 2.0\n",
    "HZOOM_ = 8.0\n",
    "WZOOM_ = 8.0\n",
    "HSHIFT_ = 8.0\n",
    "WSHIFT_ = 8.0"
   ]
  },
  {
   "cell_type": "code",
   "execution_count": 13,
   "metadata": {},
   "outputs": [],
   "source": [
    "def dropout(image, DIM=256, PROBABILITY = 0.75, CT = 8, SZ = 0.2):\n",
    "    # input image - is one image of size [dim,dim,3] not a batch of [b,dim,dim,3]\n",
    "    # output - image with CT squares of side size SZ*DIM removed\n",
    "    \n",
    "    # DO DROPOUT WITH PROBABILITY DEFINED ABOVE\n",
    "    P = tf.cast( tf.random.uniform([],0,1)<PROBABILITY, tf.int32)\n",
    "    if (P==0)|(CT==0)|(SZ==0): return image\n",
    "    \n",
    "    for k in range(CT):\n",
    "        # CHOOSE RANDOM LOCATION\n",
    "        x = tf.cast( tf.random.uniform([],0,DIM),tf.int32)\n",
    "        y = tf.cast( tf.random.uniform([],0,DIM),tf.int32)\n",
    "        # COMPUTE SQUARE \n",
    "        WIDTH = tf.cast( SZ*DIM,tf.int32) * P\n",
    "        ya = tf.math.maximum(0,y-WIDTH//2)\n",
    "        yb = tf.math.minimum(DIM,y+WIDTH//2)\n",
    "        xa = tf.math.maximum(0,x-WIDTH//2)\n",
    "        xb = tf.math.minimum(DIM,x+WIDTH//2)\n",
    "        # DROPOUT IMAGE\n",
    "        one = image[ya:yb,0:xa,:]\n",
    "        two = tf.zeros([yb-ya,xb-xa,3]) \n",
    "        three = image[ya:yb,xb:DIM,:]\n",
    "        middle = tf.concat([one,two,three],axis=1)\n",
    "        image = tf.concat([image[0:ya,:,:],middle,image[yb:DIM,:,:]],axis=0)\n",
    "            \n",
    "    # RESHAPE HACK SO TPU COMPILER KNOWS SHAPE OF OUTPUT TENSOR \n",
    "    image = tf.reshape(image,[DIM,DIM,3])\n",
    "    return image"
   ]
  },
  {
   "cell_type": "code",
   "execution_count": 14,
   "metadata": {},
   "outputs": [],
   "source": [
    "def get_mat(rotation, shear, height_zoom, width_zoom, height_shift, width_shift):\n",
    "    # returns 3x3 transformmatrix which transforms indicies\n",
    "        \n",
    "    # CONVERT DEGREES TO RADIANS\n",
    "    rotation = math.pi * rotation / 180.\n",
    "    shear    = math.pi * shear    / 180.\n",
    "\n",
    "    def get_3x3_mat(lst):\n",
    "        return tf.reshape(tf.concat([lst],axis=0), [3,3])\n",
    "    \n",
    "    # ROTATION MATRIX\n",
    "    c1   = tf.math.cos(rotation)\n",
    "    s1   = tf.math.sin(rotation)\n",
    "    one  = tf.constant([1],dtype='float32')\n",
    "    zero = tf.constant([0],dtype='float32')\n",
    "    \n",
    "    rotation_matrix = get_3x3_mat([c1,   s1,   zero, \n",
    "                                   -s1,  c1,   zero, \n",
    "                                   zero, zero, one])    \n",
    "    # SHEAR MATRIX\n",
    "    c2 = tf.math.cos(shear)\n",
    "    s2 = tf.math.sin(shear)    \n",
    "    \n",
    "    shear_matrix = get_3x3_mat([one,  s2,   zero, \n",
    "                                zero, c2,   zero, \n",
    "                                zero, zero, one])        \n",
    "    # ZOOM MATRIX\n",
    "    zoom_matrix = get_3x3_mat([one/height_zoom, zero,           zero, \n",
    "                               zero,            one/width_zoom, zero, \n",
    "                               zero,            zero,           one])    \n",
    "    # SHIFT MATRIX\n",
    "    shift_matrix = get_3x3_mat([one,  zero, height_shift, \n",
    "                                zero, one,  width_shift, \n",
    "                                zero, zero, one])\n",
    "    \n",
    "    return K.dot(K.dot(rotation_matrix, shear_matrix), \n",
    "                 K.dot(zoom_matrix,     shift_matrix))\n",
    "\n",
    "\n",
    "def transform(image, DIM=256):    \n",
    "    # input image - is one image of size [dim,dim,3] not a batch of [b,dim,dim,3]\n",
    "    # output - image randomly rotated, sheared, zoomed, and shifted\n",
    "    XDIM = DIM%2 #fix for size 331\n",
    "    \n",
    "    rot = ROT_ * tf.random.normal([1], dtype='float32')\n",
    "    shr = SHR_ * tf.random.normal([1], dtype='float32') \n",
    "    h_zoom = 1.0 + tf.random.normal([1], dtype='float32') / HZOOM_\n",
    "    w_zoom = 1.0 + tf.random.normal([1], dtype='float32') / WZOOM_\n",
    "    h_shift = HSHIFT_ * tf.random.normal([1], dtype='float32') \n",
    "    w_shift = WSHIFT_ * tf.random.normal([1], dtype='float32') \n",
    "\n",
    "    # GET TRANSFORMATION MATRIX\n",
    "    m = get_mat(rot,shr,h_zoom,w_zoom,h_shift,w_shift) \n",
    "\n",
    "    # LIST DESTINATION PIXEL INDICES\n",
    "    x   = tf.repeat(tf.range(DIM//2, -DIM//2,-1), DIM)\n",
    "    y   = tf.tile(tf.range(-DIM//2, DIM//2), [DIM])\n",
    "    z   = tf.ones([DIM*DIM], dtype='int32')\n",
    "    idx = tf.stack( [x,y,z] )\n",
    "    \n",
    "    # ROTATE DESTINATION PIXELS ONTO ORIGIN PIXELS\n",
    "    idx2 = K.dot(m, tf.cast(idx, dtype='float32'))\n",
    "    idx2 = K.cast(idx2, dtype='int32')\n",
    "    idx2 = K.clip(idx2, -DIM//2+XDIM+1, DIM//2)\n",
    "    \n",
    "    # FIND ORIGIN PIXEL VALUES           \n",
    "    idx3 = tf.stack([DIM//2-idx2[0,], DIM//2-1+idx2[1,]])\n",
    "    d    = tf.gather_nd(image, tf.transpose(idx3))\n",
    "        \n",
    "    return tf.reshape(d,[DIM, DIM,3])\n",
    "\n",
    "def prepare_image(img, augment=True, dim=256, droprate=0, dropct=0, dropsize=0):    \n",
    "    img = tf.image.decode_jpeg(img, channels=3)\n",
    "    img = tf.cast(img, tf.float32) / 255.0\n",
    "    \n",
    "    if augment:\n",
    "        img = transform(img,DIM=dim)\n",
    "        if (droprate!=0)&(dropct!=0)&(dropsize!=0): \n",
    "            img = dropout(img, DIM=dim, PROBABILITY=droprate, CT=dropct, SZ=dropsize)\n",
    "        img = tf.image.random_flip_left_right(img)\n",
    "        #img = tf.image.random_hue(img, 0.01)\n",
    "        img = tf.image.random_saturation(img, 0.7, 1.3)\n",
    "        img = tf.image.random_contrast(img, 0.8, 1.2)\n",
    "        img = tf.image.random_brightness(img, 0.1)\n",
    "                      \n",
    "    img = tf.reshape(img, [dim,dim, 3])\n",
    "            \n",
    "    return img"
   ]
  },
  {
   "cell_type": "markdown",
   "metadata": {},
   "source": [
    "### Step 3: Build Model\n",
    "This is a common model architecute. Consider experimenting with different backbones, custom heads, losses, and optimizers. Also consider inputing meta features into your CNN. Also consider different models to provide diversity of predictions which may benefit the final ensemble."
   ]
  },
  {
   "cell_type": "code",
   "execution_count": 15,
   "metadata": {},
   "outputs": [
    {
     "name": "stdout",
     "output_type": "stream",
     "text": [
      "Model: \"functional_1\"\n",
      "_________________________________________________________________\n",
      "Layer (type)                 Output Shape              Param #   \n",
      "=================================================================\n",
      "input_1 (InputLayer)         [(None, 512, 512, 3)]     0         \n",
      "_________________________________________________________________\n",
      "efficientnet-b6 (Functional) (None, 16, 16, 2304)      40960136  \n",
      "_________________________________________________________________\n",
      "global_average_pooling2d (Gl (None, 2304)              0         \n",
      "_________________________________________________________________\n",
      "dense (Dense)                (None, 1)                 2305      \n",
      "=================================================================\n",
      "Total params: 40,962,441\n",
      "Trainable params: 40,738,009\n",
      "Non-trainable params: 224,432\n",
      "_________________________________________________________________\n"
     ]
    },
    {
     "data": {
      "text/plain": [
       "<tensorflow.python.keras.engine.functional.Functional at 0x7f08405d4cd0>"
      ]
     },
     "execution_count": 15,
     "metadata": {},
     "output_type": "execute_result"
    }
   ],
   "source": [
    "EFNS = [efn.EfficientNetB0, efn.EfficientNetB1, efn.EfficientNetB2, efn.EfficientNetB3, \n",
    "        efn.EfficientNetB4, efn.EfficientNetB5, efn.EfficientNetB6, efn.EfficientNetB7]\n",
    "\n",
    "def build_model(dim=128, ef=0, v=0):\n",
    "    inputs = tf.keras.layers.Input(shape=(dim,dim,3))\n",
    "    \n",
    "    base = EFNS[ef](input_shape=(dim,dim,3),weights='noisy-student',include_top=False)\n",
    "    \n",
    "    x = base(inputs)\n",
    "    x = tf.keras.layers.GlobalAveragePooling2D()(x)\n",
    "    x = tf.keras.layers.Dense(1,activation='sigmoid')(x)\n",
    "    \n",
    "    model = tf.keras.Model(inputs=inputs,outputs=x)\n",
    "    \n",
    "    opt = tf.keras.optimizers.Adam(learning_rate=0.001)\n",
    "    opt = tf.train.experimental.enable_mixed_precision_graph_rewrite(opt)\n",
    "    loss = tf.keras.losses.BinaryCrossentropy(label_smoothing=0.05) \n",
    "    \n",
    "    model.compile(optimizer=opt,loss=loss,metrics=['AUC'])\n",
    "    \n",
    "    if v:\n",
    "        model.summary()\n",
    "    \n",
    "    return model\n",
    "\n",
    "# Visualise model in use\n",
    "build_model(dim=IMG_SIZES,ef=EFF_NETS,v=1)"
   ]
  },
  {
   "cell_type": "code",
   "execution_count": 16,
   "metadata": {},
   "outputs": [],
   "source": [
    "# META DATA FUNCTION\n",
    "\n",
    "# Function to get meta data\n",
    "def meta_model(meta_train, meta_val):\n",
    "    L = 15\n",
    "    feat = ['sex','age_approx','anatom']\n",
    "    M = meta_train.target.mean()\n",
    "    te = meta_train.groupby(feat)['target'].agg(['mean','count']).reset_index()\n",
    "    te['ll'] = ((te['mean']*te['count'])+(M*L))/(te['count']+L)\n",
    "    del te['mean'], te['count']\n",
    "    meta_val = meta_val.merge( te, on=feat, how='left' )\n",
    "    meta_val['ll'] = meta_val['ll'].fillna(M)\n",
    "    return meta_val\n"
   ]
  },
  {
   "cell_type": "markdown",
   "metadata": {},
   "source": [
    "### Step 4: Training"
   ]
  },
  {
   "cell_type": "markdown",
   "metadata": {},
   "source": [
    "#### Training Schedule\n",
    "Thism is a common train schedule for transfer learning. The learning rate starts near zero, then increases to a maximum, then decays over time. Consider changing the schedule and/or learning rates. Note how the learning rate max is larger with larger batches sizes. This is a good practice to follow."
   ]
  },
  {
   "cell_type": "code",
   "execution_count": 17,
   "metadata": {},
   "outputs": [],
   "source": [
    "TS_CFG = dict(\n",
    "    lr_start   = 0.000006, \n",
    "    lr_max     = 0.00000145 * REPLICAS * BATCH_SIZES,\n",
    "    lr_min     = 0.000001,\n",
    "    lr_ramp_ep = 5,\n",
    "    lr_sus_ep  = 0,\n",
    "    lr_decay   = 0.85\n",
    "    )"
   ]
  },
  {
   "cell_type": "code",
   "execution_count": 18,
   "metadata": {},
   "outputs": [],
   "source": [
    "def get_lr_callback(ts_cfg, batch_size=8):\n",
    "    lr_start   = ts_cfg['lr_start']\n",
    "    lr_max     = ts_cfg['lr_max']\n",
    "    lr_min     = ts_cfg['lr_min']\n",
    "    lr_ramp_ep = ts_cfg['lr_ramp_ep']\n",
    "    lr_sus_ep  = ts_cfg['lr_sus_ep']\n",
    "    lr_decay   = ts_cfg['lr_decay']\n",
    "   \n",
    "    def lrfn(epoch):\n",
    "        if epoch < lr_ramp_ep:\n",
    "            lr = (lr_max - lr_start) / lr_ramp_ep * epoch + lr_start\n",
    "            \n",
    "        elif epoch < lr_ramp_ep + lr_sus_ep:\n",
    "            lr = lr_max\n",
    "            \n",
    "        else:\n",
    "            lr = (lr_max - lr_min) * lr_decay**(epoch - lr_ramp_ep - lr_sus_ep) + lr_min\n",
    "            \n",
    "        return lr\n",
    "\n",
    "    lr_callback = tf.keras.callbacks.LearningRateScheduler(lrfn, verbose=False)\n",
    "    \n",
    "    return lr_callback"
   ]
  },
  {
   "cell_type": "markdown",
   "metadata": {},
   "source": [
    "#### Visualise Training Schedule"
   ]
  },
  {
   "cell_type": "code",
   "execution_count": 19,
   "metadata": {},
   "outputs": [
    {
     "data": {
      "image/png": "[encoded data removed]",
      "text/plain": [
       "<Figure size 432x288 with 1 Axes>"
      ]
     },
     "metadata": {
      "needs_background": "light"
     },
     "output_type": "display_data"
    }
   ],
   "source": [
    "# Quick test and visualisation of learning rate schedule\n",
    "# Important not to have a high learning rate which would destroy the pre-trained parameters\n",
    "lr_start   = TS_CFG['lr_start']\n",
    "lr_max     = TS_CFG['lr_max']\n",
    "lr_min     = TS_CFG['lr_min']\n",
    "lr_ramp_ep = TS_CFG['lr_ramp_ep']\n",
    "lr_sus_ep  = TS_CFG['lr_sus_ep']\n",
    "lr_decay   = TS_CFG['lr_decay']\n",
    "\n",
    "def lrfn_sched(epoch):\n",
    "    if epoch < lr_ramp_ep:\n",
    "        lr = (lr_max - lr_start) / lr_ramp_ep * epoch + lr_start\n",
    "\n",
    "    elif epoch < lr_ramp_ep + lr_sus_ep:\n",
    "        lr = lr_max\n",
    "\n",
    "    else:\n",
    "        lr = (lr_max - lr_min) * lr_decay**(epoch - lr_ramp_ep - lr_sus_ep) + lr_min\n",
    "\n",
    "    return lr\n",
    "\n",
    "# Visualise learning rate schedule\n",
    "rng = [i for i in range(20)]\n",
    "y = [lrfn_sched(x) for x in rng]\n",
    "plt.plot(rng, y)\n",
    "plt.xlabel('epoch', size=14); plt.ylabel('learning rate', size=14)\n",
    "plt.title('Training Schedule', size=16); plt.show()"
   ]
  },
  {
   "cell_type": "markdown",
   "metadata": {},
   "source": [
    "#### Class Imbalance Analysis"
   ]
  },
  {
   "cell_type": "code",
   "execution_count": 20,
   "metadata": {},
   "outputs": [
    {
     "name": "stdout",
     "output_type": "stream",
     "text": [
      "Weight for class 0: 0.51\n",
      "Weight for class 1: 35.24\n"
     ]
    }
   ],
   "source": [
    "# Analyze class imbalance in the targets\n",
    "# Number of positive samples in training data: 470 (1.77% of total 33126)\n",
    "# Scaling by total/2 helps keep the loss to a similar magnitude.\n",
    "# The sum of the weights of all examples stays the same.\n",
    "weight_for_0 = (1 / (33126-470))*(33126)/2.0 \n",
    "weight_for_1 = (1 / 470)*(33126)/2.0\n",
    "\n",
    "class_weight = {0: weight_for_0, 1: weight_for_1}\n",
    "\n",
    "print('Weight for class 0: {:.2f}'.format(weight_for_0))\n",
    "print('Weight for class 1: {:.2f}'.format(weight_for_1))"
   ]
  },
  {
   "cell_type": "markdown",
   "metadata": {},
   "source": [
    "#### Train Model\n",
    "Our model will be trained for the number of FOLDS and EPOCHS you chose in the configuration above. Each fold the model with lowest validation loss will be saved and used to predict OOF and test. Adjust the variables `VERBOSE` and `DISPLOY_PLOT` below to determine what output you want displayed. The variable `VERBOSE=1 or 2` will display the training and validation loss and auc for each epoch as text. The variable `DISPLAY_PLOT` shows this information as a plot. "
   ]
  },
  {
   "cell_type": "code",
   "execution_count": 21,
   "metadata": {},
   "outputs": [
    {
     "name": "stdout",
     "output_type": "stream",
     "text": [
      "#########################\n",
      "#### Image Size 512 with EfficientNet B6 and batch_size 8\n",
      "#### DropoutFreq 0.75 Count 8 Size 0.2\n",
      "#########################\n"
     ]
    }
   ],
   "source": [
    "# USE VERBOSE=0 for silent, VERBOSE=1 for interactive, VERBOSE=2 for commit\n",
    "VERBOSE = 1\n",
    "DISPLAY_PLOT = True\n",
    "    \n",
    "# DISPLAY FOLD INFO\n",
    "if DEVICE=='TPU':\n",
    "    if tpu: tf.tpu.experimental.initialize_tpu_system(tpu)\n",
    "\n",
    "print('#'*25)\n",
    "print(f'#### Image Size {IMG_SIZES} with EfficientNet B{EFF_NETS} and batch_size {BATCH_SIZES*REPLICAS}')\n",
    "print(f'#### DropoutFreq {DROP_FREQ} Count {DROP_CT} Size {DROP_SIZE}')\n",
    "print('#'*25)"
   ]
  },
  {
   "cell_type": "code",
   "execution_count": 22,
   "metadata": {},
   "outputs": [],
   "source": [
    "# CREATE TRAIN INDEX LIST\n",
    "idxT = np.asarray([x for x in range(0,15,1)])"
   ]
  },
  {
   "cell_type": "code",
   "execution_count": 23,
   "metadata": {},
   "outputs": [
    {
     "name": "stdout",
     "output_type": "stream",
     "text": [
      "#########################\n",
      "#### Using 2018+2017 external data\n",
      "#### Upsample MALIG-1 data (2020 comp)\n",
      "#### Upsample MALIG-4 data (2018 2017 comp)\n",
      "#########################\n"
     ]
    }
   ],
   "source": [
    "# CREATE TRAIN SET FROM VARIOUS SELECTED SOURCES\n",
    "print('#'*25)\n",
    "files_train = tf.io.gfile.glob([PATH + '/train%.2i*.tfrec'%x for x in idxT])\n",
    "if INC2019:\n",
    "    files_train += tf.io.gfile.glob([PATH2 + '/train%.2i*.tfrec'%x for x in idxT*2+1])\n",
    "    print('#### Using 2019 external data')\n",
    "if INC2018:\n",
    "    files_train += tf.io.gfile.glob([PATH2 + '/train%.2i*.tfrec'%x for x in idxT*2])\n",
    "    print('#### Using 2018+2017 external data')\n",
    "if M1:\n",
    "    files_train += tf.io.gfile.glob([PATH3 + '/train%.2i*.tfrec'%x for x in idxT])\n",
    "    print('#### Upsample MALIG-1 data (2020 comp)')\n",
    "if M2:\n",
    "    files_train += tf.io.gfile.glob([PATH3 + '/train%.2i*.tfrec'%x for x in idxT+15])\n",
    "    print('#### Upsample MALIG-2 data (ISIC website)')\n",
    "if M3:\n",
    "    files_train += tf.io.gfile.glob([PATH3 + '/train%.2i*.tfrec'%x for x in idxT*2+1+30])\n",
    "    print('#### Upsample MALIG-3 data (2019 comp)')\n",
    "if M4:\n",
    "    files_train += tf.io.gfile.glob([PATH3 + '/train%.2i*.tfrec'%x for x in idxT*2+30])\n",
    "    print('#### Upsample MALIG-4 data (2018 2017 comp)')        \n",
    "np.random.shuffle(files_train)\n",
    "print('#'*25)\n",
    "\n",
    "# CREATE TEST SET\n",
    "files_test = np.sort(np.array(tf.io.gfile.glob(PATH + '/test*.tfrec')))"
   ]
  },
  {
   "cell_type": "code",
   "execution_count": 24,
   "metadata": {},
   "outputs": [
    {
     "name": "stdout",
     "output_type": "stream",
     "text": [
      "#########################\n",
      "Weight for class 0: 0.55\n",
      "Weight for class 1: 5.39\n",
      "#########################\n"
     ]
    }
   ],
   "source": [
    "# DETERMINE CLASS WEIGHTS FROM TRAINING DATASET\n",
    "# Analyze class imbalance in the targets\n",
    "# Scaling by total/2 helps keep the loss to a similar magnitude.\n",
    "# The sum of the weights of all examples stays the same.\n",
    "ft = get_dataset(files_train, augment=False, repeat=False, dim=IMG_SIZES,\n",
    "        labeled=True, return_image_names=True)\n",
    "ott = np.array([target.numpy() for img, target in iter(ft.unbatch())])\n",
    "tot = len(ott)\n",
    "counts = np.bincount(ott[:])\n",
    "\n",
    "weight_for_0 = (1 / counts[0])*(tot)/2.0 \n",
    "weight_for_1 = (1 / counts[1])*(tot)/2.0\n",
    "class_weight = {0: weight_for_0, 1: weight_for_1}\n",
    "print('#'*25)\n",
    "print('Weight for class 0: {:.2f}'.format(weight_for_0))\n",
    "print('Weight for class 1: {:.2f}'.format(weight_for_1))\n",
    "print('#'*25)"
   ]
  },
  {
   "cell_type": "code",
   "execution_count": 25,
   "metadata": {},
   "outputs": [
    {
     "name": "stdout",
     "output_type": "stream",
     "text": [
      "INFO:tensorflow:Reduce to /job:localhost/replica:0/task:0/device:CPU:0 then broadcast to ('/job:localhost/replica:0/task:0/device:CPU:0',).\n",
      "INFO:tensorflow:Reduce to /job:localhost/replica:0/task:0/device:CPU:0 then broadcast to ('/job:localhost/replica:0/task:0/device:CPU:0',).\n",
      "INFO:tensorflow:Reduce to /job:localhost/replica:0/task:0/device:CPU:0 then broadcast to ('/job:localhost/replica:0/task:0/device:CPU:0',).\n",
      "INFO:tensorflow:Reduce to /job:localhost/replica:0/task:0/device:CPU:0 then broadcast to ('/job:localhost/replica:0/task:0/device:CPU:0',).\n",
      "INFO:tensorflow:Reduce to /job:localhost/replica:0/task:0/device:CPU:0 then broadcast to ('/job:localhost/replica:0/task:0/device:CPU:0',).\n",
      "INFO:tensorflow:Reduce to /job:localhost/replica:0/task:0/device:CPU:0 then broadcast to ('/job:localhost/replica:0/task:0/device:CPU:0',).\n",
      "INFO:tensorflow:Reduce to /job:localhost/replica:0/task:0/device:CPU:0 then broadcast to ('/job:localhost/replica:0/task:0/device:CPU:0',).\n",
      "INFO:tensorflow:Reduce to /job:localhost/replica:0/task:0/device:CPU:0 then broadcast to ('/job:localhost/replica:0/task:0/device:CPU:0',).\n",
      "INFO:tensorflow:Reduce to /job:localhost/replica:0/task:0/device:CPU:0 then broadcast to ('/job:localhost/replica:0/task:0/device:CPU:0',).\n",
      "INFO:tensorflow:Reduce to /job:localhost/replica:0/task:0/device:CPU:0 then broadcast to ('/job:localhost/replica:0/task:0/device:CPU:0',).\n",
      "Model: \"functional_1\"\n",
      "_________________________________________________________________\n",
      "Layer (type)                 Output Shape              Param #   \n",
      "=================================================================\n",
      "input_1 (InputLayer)         [(None, 512, 512, 3)]     0         \n",
      "_________________________________________________________________\n",
      "efficientnet-b6 (Functional) (None, 16, 16, 2304)      40960136  \n",
      "_________________________________________________________________\n",
      "global_average_pooling2d (Gl (None, 2304)              0         \n",
      "_________________________________________________________________\n",
      "dense (Dense)                (None, 1)                 2305      \n",
      "=================================================================\n",
      "Total params: 40,962,441\n",
      "Trainable params: 40,738,009\n",
      "Non-trainable params: 224,432\n",
      "_________________________________________________________________\n"
     ]
    }
   ],
   "source": [
    "# BUILD MODEL\n",
    "K.clear_session()\n",
    "with strategy.scope():\n",
    "    model = build_model(dim=IMG_SIZES,ef=EFF_NETS,v=1)"
   ]
  },
  {
   "cell_type": "code",
   "execution_count": 26,
   "metadata": {},
   "outputs": [],
   "source": [
    "# CALLBACKS - SAVE MODEL WEIGHTS AT EACH EPOCH\n",
    "WEIGHTS_FILE = f'{CV_FOLDS_PATH}EB{EFF_NETS}-{IMG_SIZES}-final.h5'\n",
    "svw = tf.keras.callbacks.ModelCheckpoint(WEIGHTS_FILE,\n",
    "                                         verbose=1,\n",
    "                                         save_weights_only=True)\n",
    "\n",
    "callback_list = [svw, get_lr_callback(TS_CFG, BATCH_SIZES)]"
   ]
  },
  {
   "cell_type": "code",
   "execution_count": 27,
   "metadata": {
    "scrolled": false
   },
   "outputs": [
    {
     "name": "stdout",
     "output_type": "stream",
     "text": [
      "Training...\n",
      "Epoch 1/16\n",
      "WARNING:tensorflow:From /home/phil/anaconda3/envs/tf37/lib/python3.7/site-packages/tensorflow/python/data/ops/multi_device_iterator_ops.py:601: get_next_as_optional (from tensorflow.python.data.ops.iterator_ops) is deprecated and will be removed in a future version.\n",
      "Instructions for updating:\n",
      "Use `tf.data.Iterator.get_next_as_optional()` instead.\n",
      "INFO:tensorflow:batch_all_reduce: 584 all-reduces with algorithm = nccl, num_packs = 1\n",
      "INFO:tensorflow:batch_all_reduce: 584 all-reduces with algorithm = nccl, num_packs = 1\n",
      "5968/5968 [==============================] - ETA: 0s - loss: 0.5921 - auc: 0.7924\n",
      "Epoch 00001: saving model to ./weights/EB6-512-final.h5\n",
      "5968/5968 [==============================] - 3328s 558ms/step - loss: 0.5921 - auc: 0.7924\n",
      "Epoch 2/16\n",
      "5968/5968 [==============================] - ETA: 0s - loss: 0.5193 - auc: 0.8385\n",
      "Epoch 00002: saving model to ./weights/EB6-512-final.h5\n",
      "5968/5968 [==============================] - 3306s 554ms/step - loss: 0.5193 - auc: 0.8385\n",
      "Epoch 3/16\n",
      "5968/5968 [==============================] - ETA: 0s - loss: 0.4962 - auc: 0.8583\n",
      "Epoch 00003: saving model to ./weights/EB6-512-final.h5\n",
      "5968/5968 [==============================] - 3288s 551ms/step - loss: 0.4962 - auc: 0.8583\n",
      "Epoch 4/16\n",
      "5968/5968 [==============================] - ETA: 0s - loss: 0.4813 - auc: 0.8707\n",
      "Epoch 00004: saving model to ./weights/EB6-512-final.h5\n",
      "5968/5968 [==============================] - 3272s 548ms/step - loss: 0.4813 - auc: 0.8707\n",
      "Epoch 5/16\n",
      "5968/5968 [==============================] - ETA: 0s - loss: 0.4636 - auc: 0.8812\n",
      "Epoch 00005: saving model to ./weights/EB6-512-final.h5\n",
      "5968/5968 [==============================] - 3276s 549ms/step - loss: 0.4636 - auc: 0.8812\n",
      "Epoch 6/16\n",
      "5968/5968 [==============================] - ETA: 0s - loss: 0.4535 - auc: 0.8892\n",
      "Epoch 00006: saving model to ./weights/EB6-512-final.h5\n",
      "5968/5968 [==============================] - 3260s 546ms/step - loss: 0.4535 - auc: 0.8892\n",
      "Epoch 7/16\n",
      "5968/5968 [==============================] - ETA: 0s - loss: 0.4404 - auc: 0.8979\n",
      "Epoch 00007: saving model to ./weights/EB6-512-final.h5\n",
      "5968/5968 [==============================] - 3260s 546ms/step - loss: 0.4404 - auc: 0.8979\n",
      "Epoch 8/16\n",
      "5968/5968 [==============================] - ETA: 0s - loss: 0.4273 - auc: 0.9052\n",
      "Epoch 00008: saving model to ./weights/EB6-512-final.h5\n",
      "5968/5968 [==============================] - 3260s 546ms/step - loss: 0.4273 - auc: 0.9052\n",
      "Epoch 9/16\n",
      "5968/5968 [==============================] - ETA: 0s - loss: 0.4125 - auc: 0.9132\n",
      "Epoch 00009: saving model to ./weights/EB6-512-final.h5\n",
      "5968/5968 [==============================] - 3260s 546ms/step - loss: 0.4125 - auc: 0.9132\n",
      "Epoch 10/16\n",
      "5968/5968 [==============================] - ETA: 0s - loss: 0.4062 - auc: 0.9191\n",
      "Epoch 00010: saving model to ./weights/EB6-512-final.h5\n",
      "5968/5968 [==============================] - 3258s 546ms/step - loss: 0.4062 - auc: 0.9191\n",
      "Epoch 11/16\n",
      "5968/5968 [==============================] - ETA: 0s - loss: 0.3964 - auc: 0.9218\n",
      "Epoch 00011: saving model to ./weights/EB6-512-final.h5\n",
      "5968/5968 [==============================] - 3259s 546ms/step - loss: 0.3964 - auc: 0.9218\n",
      "Epoch 12/16\n",
      "5968/5968 [==============================] - ETA: 0s - loss: 0.3936 - auc: 0.9243\n",
      "Epoch 00012: saving model to ./weights/EB6-512-final.h5\n",
      "5968/5968 [==============================] - 3258s 546ms/step - loss: 0.3936 - auc: 0.9243\n",
      "Epoch 13/16\n",
      "5968/5968 [==============================] - ETA: 0s - loss: 0.3849 - auc: 0.9294\n",
      "Epoch 00013: saving model to ./weights/EB6-512-final.h5\n",
      "5968/5968 [==============================] - 3393s 569ms/step - loss: 0.3849 - auc: 0.9294\n",
      "Epoch 14/16\n",
      "5968/5968 [==============================] - ETA: 0s - loss: 0.3854 - auc: 0.9286\n",
      "Epoch 00014: saving model to ./weights/EB6-512-final.h5\n",
      "5968/5968 [==============================] - 3465s 581ms/step - loss: 0.3854 - auc: 0.9286\n",
      "Epoch 15/16\n",
      "5968/5968 [==============================] - ETA: 0s - loss: 0.3794 - auc: 0.9317\n",
      "Epoch 00015: saving model to ./weights/EB6-512-final.h5\n",
      "5968/5968 [==============================] - 3495s 586ms/step - loss: 0.3794 - auc: 0.9317\n",
      "Epoch 16/16\n",
      "5968/5968 [==============================] - ETA: 0s - loss: 0.3774 - auc: 0.9336\n",
      "Epoch 00016: saving model to ./weights/EB6-512-final.h5\n",
      "5968/5968 [==============================] - 3485s 584ms/step - loss: 0.3774 - auc: 0.9336\n"
     ]
    }
   ],
   "source": [
    "# TRAIN\n",
    "# Use // on REPLICAS to divide with integral result (discard remainder)\n",
    "print('Training...')\n",
    "history = model.fit(\n",
    "    get_dataset(files_train, augment=True, shuffle=True, repeat=True,\n",
    "                dim=IMG_SIZES, batch_size = BATCH_SIZES,\n",
    "                droprate=DROP_FREQ, dropct=DROP_CT, dropsize=DROP_SIZE),\n",
    "    epochs=EPOCHS,\n",
    "    callbacks = callback_list, \n",
    "    steps_per_epoch=count_data_items(files_train)/BATCH_SIZES//REPLICAS,\n",
    "    class_weight=class_weight,\n",
    "    verbose=VERBOSE\n",
    ")"
   ]
  },
  {
   "cell_type": "code",
   "execution_count": 28,
   "metadata": {},
   "outputs": [
    {
     "name": "stdout",
     "output_type": "stream",
     "text": [
      "#########################\n",
      "Loading weights...\n",
      "Done.\n",
      "#########################\n"
     ]
    }
   ],
   "source": [
    "# RELOAD WEIGHTS\n",
    "print('#'*25)\n",
    "print('Loading weights...')\n",
    "model.load_weights(WEIGHTS_FILE)\n",
    "print('Done.')\n",
    "print('#'*25)"
   ]
  },
  {
   "cell_type": "code",
   "execution_count": 29,
   "metadata": {},
   "outputs": [
    {
     "data": {
      "text/plain": [
       "array(['../siim-isic-melanoma-classification/tfrecords512/test00-687.tfrec',\n",
       "       '../siim-isic-melanoma-classification/tfrecords512/test01-687.tfrec',\n",
       "       '../siim-isic-melanoma-classification/tfrecords512/test02-687.tfrec',\n",
       "       '../siim-isic-melanoma-classification/tfrecords512/test03-687.tfrec',\n",
       "       '../siim-isic-melanoma-classification/tfrecords512/test04-687.tfrec',\n",
       "       '../siim-isic-melanoma-classification/tfrecords512/test05-687.tfrec',\n",
       "       '../siim-isic-melanoma-classification/tfrecords512/test06-687.tfrec',\n",
       "       '../siim-isic-melanoma-classification/tfrecords512/test07-687.tfrec',\n",
       "       '../siim-isic-melanoma-classification/tfrecords512/test08-687.tfrec',\n",
       "       '../siim-isic-melanoma-classification/tfrecords512/test09-687.tfrec',\n",
       "       '../siim-isic-melanoma-classification/tfrecords512/test10-687.tfrec',\n",
       "       '../siim-isic-melanoma-classification/tfrecords512/test11-687.tfrec',\n",
       "       '../siim-isic-melanoma-classification/tfrecords512/test12-687.tfrec',\n",
       "       '../siim-isic-melanoma-classification/tfrecords512/test13-687.tfrec',\n",
       "       '../siim-isic-melanoma-classification/tfrecords512/test14-687.tfrec',\n",
       "       '../siim-isic-melanoma-classification/tfrecords512/test15-677.tfrec'],\n",
       "      dtype='<U66')"
      ]
     },
     "execution_count": 29,
     "metadata": {},
     "output_type": "execute_result"
    }
   ],
   "source": [
    "files_test"
   ]
  },
  {
   "cell_type": "code",
   "execution_count": 30,
   "metadata": {},
   "outputs": [
    {
     "name": "stdout",
     "output_type": "stream",
     "text": [
      "#########################\n",
      "Predicting Test with TTA...\n",
      "Number of test samples: 10982\n",
      "Number of steps in prediction: 8579.6875\n",
      "8580/8579 [==============================] - 2652s 309ms/step\n",
      "#########################\n"
     ]
    }
   ],
   "source": [
    "# PREDICT TEST USING TTA\n",
    "preds = np.zeros((count_data_items(files_test),1))\n",
    "\n",
    "print('#'*25)\n",
    "print('Predicting Test with TTA...')\n",
    "ds_test = get_dataset(files_test,labeled=False,return_image_names=False,augment=True,\n",
    "                     repeat=True,shuffle=False,dim=IMG_SIZES,batch_size=BATCH_SIZES*4,\n",
    "                     droprate=DROP_FREQ, dropct=DROP_CT, dropsize=DROP_SIZE)\n",
    "\n",
    "ct_test = count_data_items(files_test)\n",
    "print('Number of test samples:', ct_test)\n",
    "STEPS = TTA * ct_test/BATCH_SIZES/4/REPLICAS\n",
    "print('Number of steps in prediction:', STEPS)\n",
    "pred = model.predict(ds_test,steps=STEPS,verbose=VERBOSE)[:TTA*ct_test,]\n",
    "pred = np.mean(pred.reshape((ct_test,TTA),order='F'),axis=1)\n",
    "preds[:,0] += pred\n",
    "print('#'*25)"
   ]
  },
  {
   "cell_type": "code",
   "execution_count": 31,
   "metadata": {},
   "outputs": [
    {
     "name": "stdout",
     "output_type": "stream",
     "text": [
      "#########################\n",
      "Performing ensemble of image predictions with metadata probability model using meta weight of: 0.1\n",
      "#########################\n"
     ]
    }
   ],
   "source": [
    "# ENSEMBLE USING METADATA PROBABILITY MODEL\n",
    "preds_meta_ls = np.zeros((count_data_items(files_test),1))\n",
    "\n",
    "if META_ENSEMBLE:\n",
    "    print('#'*25)\n",
    "    print(\"Performing ensemble of image predictions with metadata probability model using meta weight of:\", META_WEIGHT)\n",
    "\n",
    "    dsp_ft = get_meta(files_train)\n",
    "    meta_train = meta_unbatch(dsp_ft)\n",
    "\n",
    "    ds_test_meta = get_meta(files_test, BATCH_SIZES, test=1)\n",
    "    meta_test = meta_unbatch(ds_test_meta, test=1)\n",
    "    meta_test = meta_model(meta_train, meta_test)\n",
    "\n",
    "    meta_test['preds'] = pred\n",
    "    meta_test['preds_meta'] = META_WEIGHT*meta_test.ll + (1-META_WEIGHT)*meta_test.preds\n",
    "\n",
    "    preds_meta = np.array([meta_test.preds_meta]).T\n",
    "    preds_meta_ls += preds_meta\n",
    "    print('#'*25)"
   ]
  },
  {
   "cell_type": "code",
   "execution_count": 32,
   "metadata": {},
   "outputs": [
    {
     "data": {
      "image/png": "[encoded data removed]",
      "text/plain": [
       "<Figure size 1080x360 with 2 Axes>"
      ]
     },
     "metadata": {
      "needs_background": "light"
     },
     "output_type": "display_data"
    }
   ],
   "source": [
    "# PLOT TRAINING\n",
    "COMPLETED_EPOCHS = len(history.history['loss'])\n",
    "if DISPLAY_PLOT:\n",
    "    plt.figure(figsize=(15,5))\n",
    "    plt.plot(np.arange(COMPLETED_EPOCHS),history.history['auc'],'-o',label='Train AUC',color='#ff7f0e')\n",
    "    x = np.argmax( history.history['auc'] )\n",
    "    y = np.max( history.history['auc'] )\n",
    "    xdist = plt.xlim()[1] - plt.xlim()[0]\n",
    "    ydist = plt.ylim()[1] - plt.ylim()[0]\n",
    "    plt.scatter(x,y,s=200,color='#1f77b4')\n",
    "    plt.text(x-0.03*xdist,y-0.13*ydist,'max auc\\n%.2f'%y,size=14)\n",
    "    plt.ylabel('AUC',size=14); plt.xlabel('Epoch',size=14)\n",
    "    plt.legend(loc=2)\n",
    "    plt2 = plt.gca().twinx()\n",
    "    plt2.plot(np.arange(COMPLETED_EPOCHS),history.history['loss'],'-o',label='Train Loss',color='#2ca02c')\n",
    "    x = np.argmin( history.history['loss'] )\n",
    "    y = np.min( history.history['loss'] )\n",
    "    ydist = plt.ylim()[1] - plt.ylim()[0]\n",
    "    plt.scatter(x,y,s=200,color='#d62728')\n",
    "    plt.text(x-0.03*xdist,y+0.05*ydist,'min loss',size=14)\n",
    "    plt.ylabel('Loss',size=14)\n",
    "    plt.title('Image Size %i, EfficientNet B%i, inc2019=%i, inc2018=%i, M1=%i, M2=%i, M3=%i, M4=%i\\n\\\n",
    "    batch_size %i, dropout_freq=%.2f count=%i size=%.3f'%\n",
    "            (IMG_SIZES,EFF_NETS,INC2019,INC2018,M1,M2,M3,\n",
    "             M4,BATCH_SIZES*REPLICAS,DROP_FREQ,DROP_CT,DROP_SIZE),size=18)\n",
    "    plt.legend(loc=3)\n",
    "    plt.show()  "
   ]
  },
  {
   "cell_type": "markdown",
   "metadata": {},
   "source": [
    "### Prepare Kaggle File"
   ]
  },
  {
   "cell_type": "code",
   "execution_count": 33,
   "metadata": {},
   "outputs": [],
   "source": [
    "ds = get_dataset(files_test, augment=False, repeat=False, dim=IMG_SIZES,\n",
    "                 labeled=False, return_image_names=True)\n",
    "\n",
    "image_names = np.array([img_name.numpy().decode(\"utf-8\") \n",
    "                        for img, img_name in iter(ds.unbatch())])"
   ]
  },
  {
   "cell_type": "code",
   "execution_count": 34,
   "metadata": {},
   "outputs": [
    {
     "data": {
      "text/html": [
       "<div>\n",
       "<style scoped>\n",
       "    .dataframe tbody tr th:only-of-type {\n",
       "        vertical-align: middle;\n",
       "    }\n",
       "\n",
       "    .dataframe tbody tr th {\n",
       "        vertical-align: top;\n",
       "    }\n",
       "\n",
       "    .dataframe thead th {\n",
       "        text-align: right;\n",
       "    }\n",
       "</style>\n",
       "<table border=\"1\" class=\"dataframe\">\n",
       "  <thead>\n",
       "    <tr style=\"text-align: right;\">\n",
       "      <th></th>\n",
       "      <th>image_name</th>\n",
       "      <th>target</th>\n",
       "    </tr>\n",
       "  </thead>\n",
       "  <tbody>\n",
       "    <tr>\n",
       "      <th>4953</th>\n",
       "      <td>ISIC_0052060</td>\n",
       "      <td>0.032139</td>\n",
       "    </tr>\n",
       "    <tr>\n",
       "      <th>723</th>\n",
       "      <td>ISIC_0052349</td>\n",
       "      <td>0.008808</td>\n",
       "    </tr>\n",
       "    <tr>\n",
       "      <th>1560</th>\n",
       "      <td>ISIC_0058510</td>\n",
       "      <td>0.018836</td>\n",
       "    </tr>\n",
       "    <tr>\n",
       "      <th>2438</th>\n",
       "      <td>ISIC_0073313</td>\n",
       "      <td>0.026485</td>\n",
       "    </tr>\n",
       "    <tr>\n",
       "      <th>2750</th>\n",
       "      <td>ISIC_0073502</td>\n",
       "      <td>0.034078</td>\n",
       "    </tr>\n",
       "  </tbody>\n",
       "</table>\n",
       "</div>"
      ],
      "text/plain": [
       "        image_name    target\n",
       "4953  ISIC_0052060  0.032139\n",
       "723   ISIC_0052349  0.008808\n",
       "1560  ISIC_0058510  0.018836\n",
       "2438  ISIC_0073313  0.026485\n",
       "2750  ISIC_0073502  0.034078"
      ]
     },
     "execution_count": 34,
     "metadata": {},
     "output_type": "execute_result"
    }
   ],
   "source": [
    "submission = pd.DataFrame(dict(image_name=image_names, target=preds[:,0]))\n",
    "submission = submission.sort_values('image_name') \n",
    "submission.to_csv(f'{CV_TEST_PREDS_PATH}EB{EFF_NETS}-{IMG_SIZES}-FINAL-submission.csv', index=False)\n",
    "submission.head()"
   ]
  },
  {
   "cell_type": "code",
   "execution_count": 35,
   "metadata": {},
   "outputs": [
    {
     "data": {
      "text/html": [
       "<div>\n",
       "<style scoped>\n",
       "    .dataframe tbody tr th:only-of-type {\n",
       "        vertical-align: middle;\n",
       "    }\n",
       "\n",
       "    .dataframe tbody tr th {\n",
       "        vertical-align: top;\n",
       "    }\n",
       "\n",
       "    .dataframe thead th {\n",
       "        text-align: right;\n",
       "    }\n",
       "</style>\n",
       "<table border=\"1\" class=\"dataframe\">\n",
       "  <thead>\n",
       "    <tr style=\"text-align: right;\">\n",
       "      <th></th>\n",
       "      <th>image_name</th>\n",
       "      <th>target</th>\n",
       "    </tr>\n",
       "  </thead>\n",
       "  <tbody>\n",
       "    <tr>\n",
       "      <th>4953</th>\n",
       "      <td>ISIC_0052060</td>\n",
       "      <td>0.050223</td>\n",
       "    </tr>\n",
       "    <tr>\n",
       "      <th>723</th>\n",
       "      <td>ISIC_0052349</td>\n",
       "      <td>0.010130</td>\n",
       "    </tr>\n",
       "    <tr>\n",
       "      <th>1560</th>\n",
       "      <td>ISIC_0058510</td>\n",
       "      <td>0.022135</td>\n",
       "    </tr>\n",
       "    <tr>\n",
       "      <th>2438</th>\n",
       "      <td>ISIC_0073313</td>\n",
       "      <td>0.027998</td>\n",
       "    </tr>\n",
       "    <tr>\n",
       "      <th>2750</th>\n",
       "      <td>ISIC_0073502</td>\n",
       "      <td>0.036463</td>\n",
       "    </tr>\n",
       "  </tbody>\n",
       "</table>\n",
       "</div>"
      ],
      "text/plain": [
       "        image_name    target\n",
       "4953  ISIC_0052060  0.050223\n",
       "723   ISIC_0052349  0.010130\n",
       "1560  ISIC_0058510  0.022135\n",
       "2438  ISIC_0073313  0.027998\n",
       "2750  ISIC_0073502  0.036463"
      ]
     },
     "execution_count": 35,
     "metadata": {},
     "output_type": "execute_result"
    }
   ],
   "source": [
    "submission_meta = pd.DataFrame(dict(image_name=image_names, target=preds_meta_ls[:,0]))\n",
    "submission_meta = submission_meta.sort_values('image_name') \n",
    "submission_meta.to_csv(f'{CV_TEST_PREDS_PATH}EB{EFF_NETS}-{IMG_SIZES}-FINAL-META-submission.csv', index=False)\n",
    "submission_meta.head()"
   ]
  },
  {
   "cell_type": "code",
   "execution_count": 36,
   "metadata": {},
   "outputs": [
    {
     "data": {
      "image/png": "[encoded data removed]",
      "text/plain": [
       "<Figure size 432x288 with 1 Axes>"
      ]
     },
     "metadata": {
      "needs_background": "light"
     },
     "output_type": "display_data"
    }
   ],
   "source": [
    "# PLOT DISTRIBUTION WITHOUT META\n",
    "plt.hist(submission.target,bins=100)\n",
    "plt.show()"
   ]
  },
  {
   "cell_type": "code",
   "execution_count": 37,
   "metadata": {},
   "outputs": [
    {
     "data": {
      "image/png": "[encoded data removed]",
      "text/plain": [
       "<Figure size 432x288 with 1 Axes>"
      ]
     },
     "metadata": {
      "needs_background": "light"
     },
     "output_type": "display_data"
    }
   ],
   "source": [
    "# PLOT DISTRIBUTION WITH META\n",
    "plt.hist(submission_meta.target,bins=100)\n",
    "plt.show()"
   ]
  },
  {
   "cell_type": "code",
   "execution_count": null,
   "metadata": {},
   "outputs": [],
   "source": []
  },
  {
   "cell_type": "code",
   "execution_count": null,
   "metadata": {},
   "outputs": [],
   "source": []
  },
  {
   "cell_type": "code",
   "execution_count": null,
   "metadata": {},
   "outputs": [],
   "source": []
  }
 ],
 "metadata": {
  "kernelspec": {
   "display_name": "Python 3",
   "language": "python",
   "name": "python3"
  },
  "language_info": {
   "codemirror_mode": {
    "name": "ipython",
    "version": 3
   },
   "file_extension": ".py",
   "mimetype": "text/x-python",
   "name": "python",
   "nbconvert_exporter": "python",
   "pygments_lexer": "ipython3",
   "version": "3.7.6"
  }
 },
 "nbformat": 4,
 "nbformat_minor": 4
}
