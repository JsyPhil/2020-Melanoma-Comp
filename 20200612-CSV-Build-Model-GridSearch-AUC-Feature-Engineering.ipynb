{
 "cells": [
  {
   "cell_type": "code",
   "execution_count": 74,
   "metadata": {},
   "outputs": [],
   "source": [
    "import pandas as pd\n",
    "import numpy as np\n",
    "import os\n",
    "import matplotlib.pyplot as plt\n",
    "import seaborn as sns\n",
    "\n",
    "from sklearn.compose import ColumnTransformer\n",
    "from sklearn.impute import SimpleImputer\n",
    "from sklearn.metrics import mean_absolute_error\n",
    "from sklearn.model_selection import cross_val_score\n",
    "from sklearn.model_selection import GridSearchCV\n",
    "from sklearn.pipeline import Pipeline\n",
    "from sklearn.preprocessing import StandardScaler, MinMaxScaler\n",
    "from sklearn.preprocessing import OneHotEncoder\n",
    "from sklearn.preprocessing import KBinsDiscretizer\n",
    "\n",
    "from xgboost import XGBRegressor\n",
    "\n",
    "from tqdm import tqdm\n",
    "import time"
   ]
  },
  {
   "cell_type": "code",
   "execution_count": 39,
   "metadata": {},
   "outputs": [],
   "source": [
    "# Read the data\n",
    "csv_train_file = pd.read_csv('./siim-isic-melanoma-classification/train.csv')\n",
    "csv_test_file = pd.read_csv('./siim-isic-melanoma-classification/test.csv')\n",
    "\n",
    "# Separate target from predictors\n",
    "y = csv_train_file.target\n",
    "csv_train_file.drop(['target', 'benign_malignant', 'diagnosis'], axis=1, inplace=True)\n",
    "\n",
    "X_train_load = csv_train_file\n",
    "X_test_load = csv_test_file"
   ]
  },
  {
   "cell_type": "code",
   "execution_count": 40,
   "metadata": {},
   "outputs": [
    {
     "name": "stdout",
     "output_type": "stream",
     "text": [
      "Number of Training Examples = 33126\n",
      "Number of Test Examples = 10982\n",
      "\n",
      "Training X Shape = (33126, 5)\n",
      "Training y Shape = (33126,)\n",
      "\n",
      "Test X Shape = (10982, 5)\n"
     ]
    }
   ],
   "source": [
    "print(f'Number of Training Examples = {X_train_load.shape[0]}')\n",
    "print(f'Number of Test Examples = {X_test_load.shape[0]}\\n')\n",
    "\n",
    "print(f'Training X Shape = {X_train_load.shape}')\n",
    "print(f'Training y Shape = {y.shape}\\n')\n",
    "\n",
    "print(f'Test X Shape = {X_test_load.shape}')"
   ]
  },
  {
   "cell_type": "code",
   "execution_count": 41,
   "metadata": {},
   "outputs": [],
   "source": [
    "def concat_df(X_train, X_test):\n",
    "    # Returns a concatenated df of training and test set\n",
    "    return pd.concat([X_train, X_test], sort=True).reset_index(drop=True)\n",
    "\n",
    "def divide_df(all_data):\n",
    "    # Returns divided dfs of training and test set\n",
    "    return all_data.loc[:33125], all_data.loc[33126:]"
   ]
  },
  {
   "cell_type": "markdown",
   "metadata": {},
   "source": [
    "#### New Feature - Image Size\n",
    "\n",
    "Inspired by https://www.kaggle.com/awsaf49/xgboost-tabular-data-ml-cv-85-lb-787"
   ]
  },
  {
   "cell_type": "code",
   "execution_count": 42,
   "metadata": {},
   "outputs": [
    {
     "name": "stderr",
     "output_type": "stream",
     "text": [
      "100%|██████████| 33126/33126 [00:00<00:00, 34182.02it/s]\n",
      "100%|██████████| 10982/10982 [00:00<00:00, 33425.84it/s]\n"
     ]
    }
   ],
   "source": [
    "train_images = X_train_load['image_name'].values\n",
    "train_sizes = np.zeros(train_images.shape[0])\n",
    "for i, img_path in enumerate(tqdm(train_images)):\n",
    "    train_sizes[i] = os.path.getsize(os.path.join('./siim-isic-melanoma-classification/jpeg/train/', f'{img_path}.jpg'))\n",
    "    \n",
    "X_train_load['image_size'] = train_sizes\n",
    "\n",
    "test_images = X_test_load['image_name'].values\n",
    "test_sizes = np.zeros(test_images.shape[0])\n",
    "for i, img_path in enumerate(tqdm(test_images)):\n",
    "    test_sizes[i] = os.path.getsize(os.path.join('./siim-isic-melanoma-classification/jpeg/test/', f'{img_path}.jpg'))\n",
    "    \n",
    "X_test_load['image_size'] = test_sizes"
   ]
  },
  {
   "cell_type": "code",
   "execution_count": 43,
   "metadata": {},
   "outputs": [
    {
     "data": {
      "text/plain": [
       "(44108, 6)"
      ]
     },
     "execution_count": 43,
     "metadata": {},
     "output_type": "execute_result"
    }
   ],
   "source": [
    "#Aggregate the X data for further pre-processing\n",
    "X_all = concat_df(X_train_load, X_test_load)\n",
    "\n",
    "X_all.shape"
   ]
  },
  {
   "cell_type": "markdown",
   "metadata": {},
   "source": [
    "#### New Feature - No of images per patient\n",
    "\n",
    "Inspired by https://www.kaggle.com/awsaf49/xgboost-tabular-data-ml-cv-85-lb-787"
   ]
  },
  {
   "cell_type": "code",
   "execution_count": 44,
   "metadata": {},
   "outputs": [],
   "source": [
    "X_all['n_images'] = X_all.patient_id.map(X_all.groupby(['patient_id']).image_name.count())"
   ]
  },
  {
   "cell_type": "code",
   "execution_count": 45,
   "metadata": {},
   "outputs": [
    {
     "data": {
      "text/plain": [
       "count    44108.000000\n",
       "mean        31.884647\n",
       "std         28.074315\n",
       "min          2.000000\n",
       "25%         14.000000\n",
       "50%         25.000000\n",
       "75%         40.000000\n",
       "max        240.000000\n",
       "Name: n_images, dtype: float64"
      ]
     },
     "execution_count": 45,
     "metadata": {},
     "output_type": "execute_result"
    }
   ],
   "source": [
    "X_all['n_images'].describe()"
   ]
  },
  {
   "cell_type": "code",
   "execution_count": 46,
   "metadata": {},
   "outputs": [],
   "source": [
    "#Bin the image numbers into 10 bins\n",
    "categorize_im_num = KBinsDiscretizer(n_bins = 10, encode = 'ordinal', strategy = 'uniform')\n",
    "\n",
    "X_all['n_images_enc'] = categorize_im_num.fit_transform(X_all['n_images'].values.reshape(-1, 1)).astype(int).squeeze()"
   ]
  },
  {
   "cell_type": "code",
   "execution_count": 47,
   "metadata": {},
   "outputs": [],
   "source": [
    "# Scale and bin image size\n",
    "scale = MinMaxScaler()\n",
    "X_all['image_size_scaled'] = scale.fit_transform(X_all['image_size'].values.reshape(-1, 1))\n",
    "\n",
    "categorize_im_size = KBinsDiscretizer(n_bins = 10, encode = 'ordinal', strategy = 'uniform')\n",
    "X_all['image_size_enc'] = categorize_im_size.fit_transform(X_all.image_size_scaled.values.reshape(-1, 1)).astype(int).squeeze()"
   ]
  },
  {
   "cell_type": "markdown",
   "metadata": {},
   "source": [
    "#### New Feature - Age Min/Max"
   ]
  },
  {
   "cell_type": "code",
   "execution_count": 48,
   "metadata": {},
   "outputs": [],
   "source": [
    "X_all['age_id_min']  = X_all['patient_id'].map(X_all.groupby(['patient_id']).age_approx.min())\n",
    "X_all['age_id_max']  = X_all['patient_id'].map(X_all.groupby(['patient_id']).age_approx.max())"
   ]
  },
  {
   "cell_type": "code",
   "execution_count": 53,
   "metadata": {},
   "outputs": [
    {
     "name": "stdout",
     "output_type": "stream",
     "text": [
      "<class 'pandas.core.frame.DataFrame'>\n",
      "RangeIndex: 44108 entries, 0 to 44107\n",
      "Data columns (total 12 columns):\n",
      " #   Column                         Non-Null Count  Dtype  \n",
      "---  ------                         --------------  -----  \n",
      " 0   age_approx                     44040 non-null  float64\n",
      " 1   anatom_site_general_challenge  43230 non-null  object \n",
      " 2   image_name                     44108 non-null  object \n",
      " 3   image_size                     44108 non-null  float64\n",
      " 4   patient_id                     44108 non-null  object \n",
      " 5   sex                            44043 non-null  object \n",
      " 6   n_images                       44108 non-null  int64  \n",
      " 7   n_images_enc                   44108 non-null  int64  \n",
      " 8   image_size_scaled              44108 non-null  float64\n",
      " 9   image_size_enc                 44108 non-null  int64  \n",
      " 10  age_id_min                     44040 non-null  float64\n",
      " 11  age_id_max                     44040 non-null  float64\n",
      "dtypes: float64(5), int64(3), object(4)\n",
      "memory usage: 4.0+ MB\n"
     ]
    }
   ],
   "source": [
    "X_all.info()"
   ]
  },
  {
   "cell_type": "markdown",
   "metadata": {},
   "source": [
    "#### Feature Selection"
   ]
  },
  {
   "cell_type": "code",
   "execution_count": 54,
   "metadata": {},
   "outputs": [
    {
     "data": {
      "text/plain": [
       "(44108, 7)"
      ]
     },
     "execution_count": 54,
     "metadata": {},
     "output_type": "execute_result"
    }
   ],
   "source": [
    "# Select categorical columns\n",
    "categorical_cols = ['sex', 'anatom_site_general_challenge']\n",
    "\n",
    "# Select numerical columns\n",
    "numerical_cols = ['age_approx','age_id_min','age_id_max', 'n_images', 'image_size_scaled']\n",
    "\n",
    "# Keep selected columns only\n",
    "my_cols = categorical_cols + numerical_cols\n",
    "X_all_card = X_all[my_cols].copy()\n",
    "\n",
    "X_all_card.shape"
   ]
  },
  {
   "cell_type": "code",
   "execution_count": 55,
   "metadata": {},
   "outputs": [
    {
     "name": "stdout",
     "output_type": "stream",
     "text": [
      "Number of Training Examples = 33126\n",
      "Number of Test Examples = 10982\n"
     ]
    }
   ],
   "source": [
    "X_train, X_test = divide_df(X_all_card)\n",
    "\n",
    "print(f'Number of Training Examples = {X_train.shape[0]}')\n",
    "print(f'Number of Test Examples = {X_test.shape[0]}')"
   ]
  },
  {
   "cell_type": "code",
   "execution_count": 56,
   "metadata": {},
   "outputs": [],
   "source": [
    "# Preprocessing for numerical data\n",
    "numerical_transformer = Pipeline(steps=[\n",
    "                                ('imputern', SimpleImputer(strategy='constant')),\n",
    "                                ('scaler', StandardScaler())\n",
    "                                 ])\n",
    "\n",
    "# Preprocessing for categorical data\n",
    "categorical_transformer = Pipeline(steps=[\n",
    "                                ('imputerc', SimpleImputer(strategy='constant')),\n",
    "                                ('onehot', OneHotEncoder(handle_unknown='ignore', sparse=False))\n",
    "                                ])\n",
    "\n",
    "# Bundle preprocessing for numerical and categorical data\n",
    "preprocessor = ColumnTransformer(\n",
    "    transformers=[\n",
    "        ('num', numerical_transformer, numerical_cols),\n",
    "        ('cat', categorical_transformer, categorical_cols)\n",
    "    ])"
   ]
  },
  {
   "cell_type": "code",
   "execution_count": 64,
   "metadata": {},
   "outputs": [],
   "source": [
    "xgb_gs = XGBRegressor(base_score=0.5, booster=None, colsample_bylevel=1,\n",
    "             colsample_bynode=1, colsample_bytree=0.8, gamma=1, gpu_id=-1,\n",
    "             importance_type='gain', interaction_constraints=None,\n",
    "             learning_rate=0.002, max_delta_step=0, max_depth=10,\n",
    "             min_child_weight=1, missing=None, monotone_constraints=None,\n",
    "             n_estimators=700, n_jobs=-1, nthread=-1, num_parallel_tree=1,\n",
    "             objective='binary:logistic', random_state=0, reg_alpha=0,\n",
    "             reg_lambda=1, scale_pos_weight=1, silent=True, subsample=0.8,\n",
    "             tree_method=None, validate_parameters=False, verbosity=None)"
   ]
  },
  {
   "cell_type": "code",
   "execution_count": 65,
   "metadata": {},
   "outputs": [],
   "source": [
    "def get_score(param_grid):\n",
    "\n",
    "    score_pipeline = Pipeline(steps=[\n",
    "        ('preprocessor', preprocessor),\n",
    "        ('model', xgb_gs)])\n",
    "  \n",
    "    \n",
    "    search = GridSearchCV(score_pipeline, \n",
    "                          param_grid, \n",
    "                          #n_jobs=4,\n",
    "                          cv=5,\n",
    "                          verbose=3,\n",
    "                          scoring='roc_auc'\n",
    "                         )\n",
    "    \n",
    "    search.fit(X_train, y)\n",
    "    \n",
    "    print(\"Best parameter (CV score=%0.3f):\" % search.best_score_)\n",
    "    print(search.best_params_)\n",
    "    return search"
   ]
  },
  {
   "cell_type": "code",
   "execution_count": 66,
   "metadata": {},
   "outputs": [
    {
     "name": "stdout",
     "output_type": "stream",
     "text": [
      "Fitting 5 folds for each of 5 candidates, totalling 25 fits\n",
      "[CV] model__learning_rate=0.01 .......................................\n"
     ]
    },
    {
     "name": "stderr",
     "output_type": "stream",
     "text": [
      "[Parallel(n_jobs=1)]: Using backend SequentialBackend with 1 concurrent workers.\n"
     ]
    },
    {
     "name": "stdout",
     "output_type": "stream",
     "text": [
      "[CV] ........... model__learning_rate=0.01, score=0.857, total=  21.9s\n",
      "[CV] model__learning_rate=0.01 .......................................\n"
     ]
    },
    {
     "name": "stderr",
     "output_type": "stream",
     "text": [
      "[Parallel(n_jobs=1)]: Done   1 out of   1 | elapsed:   21.9s remaining:    0.0s\n"
     ]
    },
    {
     "name": "stdout",
     "output_type": "stream",
     "text": [
      "[CV] ........... model__learning_rate=0.01, score=0.856, total=  21.5s\n",
      "[CV] model__learning_rate=0.01 .......................................\n"
     ]
    },
    {
     "name": "stderr",
     "output_type": "stream",
     "text": [
      "[Parallel(n_jobs=1)]: Done   2 out of   2 | elapsed:   43.3s remaining:    0.0s\n"
     ]
    },
    {
     "name": "stdout",
     "output_type": "stream",
     "text": [
      "[CV] ........... model__learning_rate=0.01, score=0.840, total=  21.9s\n",
      "[CV] model__learning_rate=0.01 .......................................\n",
      "[CV] ........... model__learning_rate=0.01, score=0.828, total=  21.9s\n",
      "[CV] model__learning_rate=0.01 .......................................\n",
      "[CV] ........... model__learning_rate=0.01, score=0.850, total=  22.3s\n",
      "[CV] model__learning_rate=0.002 ......................................\n",
      "[CV] .......... model__learning_rate=0.002, score=0.846, total=  16.1s\n",
      "[CV] model__learning_rate=0.002 ......................................\n",
      "[CV] .......... model__learning_rate=0.002, score=0.837, total=  15.5s\n",
      "[CV] model__learning_rate=0.002 ......................................\n",
      "[CV] .......... model__learning_rate=0.002, score=0.833, total=  15.6s\n",
      "[CV] model__learning_rate=0.002 ......................................\n",
      "[CV] .......... model__learning_rate=0.002, score=0.823, total=  15.6s\n",
      "[CV] model__learning_rate=0.002 ......................................\n",
      "[CV] .......... model__learning_rate=0.002, score=0.844, total=  16.0s\n",
      "[CV] model__learning_rate=0.001 ......................................\n",
      "[CV] .......... model__learning_rate=0.001, score=0.840, total=  14.9s\n",
      "[CV] model__learning_rate=0.001 ......................................\n",
      "[CV] .......... model__learning_rate=0.001, score=0.823, total=  14.5s\n",
      "[CV] model__learning_rate=0.001 ......................................\n",
      "[CV] .......... model__learning_rate=0.001, score=0.832, total=  14.6s\n",
      "[CV] model__learning_rate=0.001 ......................................\n",
      "[CV] .......... model__learning_rate=0.001, score=0.815, total=  14.5s\n",
      "[CV] model__learning_rate=0.001 ......................................\n",
      "[CV] .......... model__learning_rate=0.001, score=0.832, total=  14.9s\n",
      "[CV] model__learning_rate=0.002 ......................................\n",
      "[CV] .......... model__learning_rate=0.002, score=0.846, total=  16.5s\n",
      "[CV] model__learning_rate=0.002 ......................................\n",
      "[CV] .......... model__learning_rate=0.002, score=0.837, total=  15.7s\n",
      "[CV] model__learning_rate=0.002 ......................................\n",
      "[CV] .......... model__learning_rate=0.002, score=0.833, total=  16.1s\n",
      "[CV] model__learning_rate=0.002 ......................................\n",
      "[CV] .......... model__learning_rate=0.002, score=0.823, total=  15.5s\n",
      "[CV] model__learning_rate=0.002 ......................................\n",
      "[CV] .......... model__learning_rate=0.002, score=0.844, total=  16.0s\n",
      "[CV] model__learning_rate=0.003 ......................................\n",
      "[CV] .......... model__learning_rate=0.003, score=0.851, total=  17.5s\n",
      "[CV] model__learning_rate=0.003 ......................................\n",
      "[CV] .......... model__learning_rate=0.003, score=0.857, total=  17.1s\n",
      "[CV] model__learning_rate=0.003 ......................................\n",
      "[CV] .......... model__learning_rate=0.003, score=0.838, total=  17.3s\n",
      "[CV] model__learning_rate=0.003 ......................................\n",
      "[CV] .......... model__learning_rate=0.003, score=0.827, total=  16.9s\n",
      "[CV] model__learning_rate=0.003 ......................................\n",
      "[CV] .......... model__learning_rate=0.003, score=0.853, total=  17.4s\n"
     ]
    },
    {
     "name": "stderr",
     "output_type": "stream",
     "text": [
      "[Parallel(n_jobs=1)]: Done  25 out of  25 | elapsed:  7.1min finished\n"
     ]
    },
    {
     "name": "stdout",
     "output_type": "stream",
     "text": [
      "Best parameter (CV score=0.846):\n",
      "{'model__learning_rate': 0.01}\n",
      "Time taken:  454.9312767982483\n"
     ]
    }
   ],
   "source": [
    "param_grid = {'model__learning_rate':[0.01,0.002,0.001,0.002,0.003]}\n",
    "\n",
    "start = time.time()\n",
    "grid = get_score(param_grid)\n",
    "elapsed = time.time() - start\n",
    "\n",
    "print(\"Time taken: \", elapsed)"
   ]
  },
  {
   "cell_type": "markdown",
   "metadata": {},
   "source": [
    "#### Final Model"
   ]
  },
  {
   "cell_type": "code",
   "execution_count": 69,
   "metadata": {},
   "outputs": [],
   "source": [
    "xgb_final = XGBRegressor(base_score=0.5, booster=None, colsample_bylevel=1,\n",
    "             colsample_bynode=1, colsample_bytree=0.8, gamma=1, \n",
    "             importance_type='gain', interaction_constraints=None,\n",
    "             learning_rate=0.01, max_delta_step=0, max_depth=10,\n",
    "             min_child_weight=1, missing=None, monotone_constraints=None,\n",
    "             n_estimators=700, num_parallel_tree=1,\n",
    "             objective='binary:logistic', random_state=0, reg_alpha=0,\n",
    "             reg_lambda=1, scale_pos_weight=1, silent=True, subsample=0.8,\n",
    "             tree_method=None, validate_parameters=False, verbosity=None)"
   ]
  },
  {
   "cell_type": "code",
   "execution_count": 70,
   "metadata": {},
   "outputs": [
    {
     "name": "stdout",
     "output_type": "stream",
     "text": [
      "Time taken:  27.08568501472473\n"
     ]
    }
   ],
   "source": [
    "# Build final model based on best parameters\n",
    "\n",
    "start = time.time()\n",
    "submission_pipeline = Pipeline(steps=[\n",
    "    ('preprocessor', preprocessor),\n",
    "    ('model', xgb_final)\n",
    "    ])\n",
    "\n",
    "submission_pipeline.fit(X_train, y)\n",
    "elapsed = time.time() - start\n",
    "print(\"Time taken: \", elapsed)"
   ]
  },
  {
   "cell_type": "markdown",
   "metadata": {},
   "source": [
    "#### Feature Importance"
   ]
  },
  {
   "cell_type": "code",
   "execution_count": 75,
   "metadata": {},
   "outputs": [
    {
     "data": {
      "text/plain": [
       "<matplotlib.axes._subplots.AxesSubplot at 0x7faa9ab6aa90>"
      ]
     },
     "execution_count": 75,
     "metadata": {},
     "output_type": "execute_result"
    },
    {
     "data": {
      "image/png": "[encoded data removed]",
      "text/plain": [
       "<Figure size 864x720 with 1 Axes>"
      ]
     },
     "metadata": {
      "needs_background": "light"
     },
     "output_type": "display_data"
    }
   ],
   "source": [
    "feature_important = xgb_final.get_booster().get_score(importance_type='weight')\n",
    "keys = list(feature_important.keys())\n",
    "values = list(feature_important.values())\n",
    "\n",
    "data = pd.DataFrame(data=values, index=keys, columns=[\"score\"]).sort_values(by = \"score\", ascending=False)\n",
    "plt.figure(figsize= (12,10))\n",
    "sns.barplot(x = data.score , y = data.index, orient = 'h', palette = 'Blues_r')"
   ]
  },
  {
   "cell_type": "markdown",
   "metadata": {},
   "source": [
    "#### Prediction and Submission"
   ]
  },
  {
   "cell_type": "code",
   "execution_count": 76,
   "metadata": {},
   "outputs": [],
   "source": [
    "preds_test = submission_pipeline.predict(X_test)"
   ]
  },
  {
   "cell_type": "code",
   "execution_count": 77,
   "metadata": {},
   "outputs": [],
   "source": [
    "# Save test predictions to file\n",
    "output = pd.DataFrame({'image_name': X_test_load.image_name,\n",
    "                       'target': preds_test})\n",
    "output.to_csv('./cleaned_csvs/csv_only_submission.csv', index=False)"
   ]
  },
  {
   "cell_type": "code",
   "execution_count": null,
   "metadata": {},
   "outputs": [],
   "source": []
  }
 ],
 "metadata": {
  "kernelspec": {
   "display_name": "Python 3",
   "language": "python",
   "name": "python3"
  },
  "language_info": {
   "codemirror_mode": {
    "name": "ipython",
    "version": 3
   },
   "file_extension": ".py",
   "mimetype": "text/x-python",
   "name": "python",
   "nbconvert_exporter": "python",
   "pygments_lexer": "ipython3",
   "version": "3.7.4"
  }
 },
 "nbformat": 4,
 "nbformat_minor": 4
}
