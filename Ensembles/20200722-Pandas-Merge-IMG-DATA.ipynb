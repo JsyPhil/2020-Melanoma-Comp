{
 "cells": [
  {
   "cell_type": "code",
   "execution_count": 1,
   "metadata": {},
   "outputs": [],
   "source": [
    "import pandas as pd"
   ]
  },
  {
   "cell_type": "code",
   "execution_count": 2,
   "metadata": {},
   "outputs": [],
   "source": [
    "sub768 = pd.read_csv('20200721-Pandas-Merge-768-EB7-3F-Ensemble-Submission.csv').rename({'target':'target1'},axis=1)\n",
    "sub512 = pd.read_csv('submission-512-EB6-3F.csv').rename({'target':'target2'},axis=1)\n",
    "sub384 = pd.read_csv('20200722 IMG EB5 384.csv').rename({'target':'target3'},axis=1)\n",
    "#sub_data = pd.read_csv('20200721-test-data-submission.csv').rename({'target':'target4'},axis=1)\n",
    "sub_data = pd.read_csv('SKL_XGB_data_only_submission.csv').rename({'target':'target4'},axis=1)"
   ]
  },
  {
   "cell_type": "code",
   "execution_count": 3,
   "metadata": {},
   "outputs": [
    {
     "data": {
      "text/html": [
       "<div>\n",
       "<style scoped>\n",
       "    .dataframe tbody tr th:only-of-type {\n",
       "        vertical-align: middle;\n",
       "    }\n",
       "\n",
       "    .dataframe tbody tr th {\n",
       "        vertical-align: top;\n",
       "    }\n",
       "\n",
       "    .dataframe thead th {\n",
       "        text-align: right;\n",
       "    }\n",
       "</style>\n",
       "<table border=\"1\" class=\"dataframe\">\n",
       "  <thead>\n",
       "    <tr style=\"text-align: right;\">\n",
       "      <th></th>\n",
       "      <th>image_name</th>\n",
       "      <th>target1</th>\n",
       "      <th>target2</th>\n",
       "    </tr>\n",
       "  </thead>\n",
       "  <tbody>\n",
       "    <tr>\n",
       "      <th>0</th>\n",
       "      <td>ISIC_0052060</td>\n",
       "      <td>0.023440</td>\n",
       "      <td>0.027555</td>\n",
       "    </tr>\n",
       "    <tr>\n",
       "      <th>1</th>\n",
       "      <td>ISIC_0052349</td>\n",
       "      <td>0.021552</td>\n",
       "      <td>0.022967</td>\n",
       "    </tr>\n",
       "    <tr>\n",
       "      <th>2</th>\n",
       "      <td>ISIC_0058510</td>\n",
       "      <td>0.024231</td>\n",
       "      <td>0.027024</td>\n",
       "    </tr>\n",
       "    <tr>\n",
       "      <th>3</th>\n",
       "      <td>ISIC_0073313</td>\n",
       "      <td>0.026245</td>\n",
       "      <td>0.028699</td>\n",
       "    </tr>\n",
       "    <tr>\n",
       "      <th>4</th>\n",
       "      <td>ISIC_0073502</td>\n",
       "      <td>0.051212</td>\n",
       "      <td>0.029710</td>\n",
       "    </tr>\n",
       "  </tbody>\n",
       "</table>\n",
       "</div>"
      ],
      "text/plain": [
       "     image_name   target1   target2\n",
       "0  ISIC_0052060  0.023440  0.027555\n",
       "1  ISIC_0052349  0.021552  0.022967\n",
       "2  ISIC_0058510  0.024231  0.027024\n",
       "3  ISIC_0073313  0.026245  0.028699\n",
       "4  ISIC_0073502  0.051212  0.029710"
      ]
     },
     "execution_count": 3,
     "metadata": {},
     "output_type": "execute_result"
    }
   ],
   "source": [
    "ensemble = sub768.merge(sub512,on='image_name',how='left')\n",
    "ensemble.head()"
   ]
  },
  {
   "cell_type": "code",
   "execution_count": 4,
   "metadata": {},
   "outputs": [
    {
     "data": {
      "text/html": [
       "<div>\n",
       "<style scoped>\n",
       "    .dataframe tbody tr th:only-of-type {\n",
       "        vertical-align: middle;\n",
       "    }\n",
       "\n",
       "    .dataframe tbody tr th {\n",
       "        vertical-align: top;\n",
       "    }\n",
       "\n",
       "    .dataframe thead th {\n",
       "        text-align: right;\n",
       "    }\n",
       "</style>\n",
       "<table border=\"1\" class=\"dataframe\">\n",
       "  <thead>\n",
       "    <tr style=\"text-align: right;\">\n",
       "      <th></th>\n",
       "      <th>image_name</th>\n",
       "      <th>target1</th>\n",
       "      <th>target2</th>\n",
       "      <th>target3</th>\n",
       "    </tr>\n",
       "  </thead>\n",
       "  <tbody>\n",
       "    <tr>\n",
       "      <th>0</th>\n",
       "      <td>ISIC_0052060</td>\n",
       "      <td>0.023440</td>\n",
       "      <td>0.027555</td>\n",
       "      <td>0.049933</td>\n",
       "    </tr>\n",
       "    <tr>\n",
       "      <th>1</th>\n",
       "      <td>ISIC_0052349</td>\n",
       "      <td>0.021552</td>\n",
       "      <td>0.022967</td>\n",
       "      <td>0.030573</td>\n",
       "    </tr>\n",
       "    <tr>\n",
       "      <th>2</th>\n",
       "      <td>ISIC_0058510</td>\n",
       "      <td>0.024231</td>\n",
       "      <td>0.027024</td>\n",
       "      <td>0.023258</td>\n",
       "    </tr>\n",
       "    <tr>\n",
       "      <th>3</th>\n",
       "      <td>ISIC_0073313</td>\n",
       "      <td>0.026245</td>\n",
       "      <td>0.028699</td>\n",
       "      <td>0.022494</td>\n",
       "    </tr>\n",
       "    <tr>\n",
       "      <th>4</th>\n",
       "      <td>ISIC_0073502</td>\n",
       "      <td>0.051212</td>\n",
       "      <td>0.029710</td>\n",
       "      <td>0.038520</td>\n",
       "    </tr>\n",
       "  </tbody>\n",
       "</table>\n",
       "</div>"
      ],
      "text/plain": [
       "     image_name   target1   target2   target3\n",
       "0  ISIC_0052060  0.023440  0.027555  0.049933\n",
       "1  ISIC_0052349  0.021552  0.022967  0.030573\n",
       "2  ISIC_0058510  0.024231  0.027024  0.023258\n",
       "3  ISIC_0073313  0.026245  0.028699  0.022494\n",
       "4  ISIC_0073502  0.051212  0.029710  0.038520"
      ]
     },
     "execution_count": 4,
     "metadata": {},
     "output_type": "execute_result"
    }
   ],
   "source": [
    "ensemble = ensemble.merge(sub384,on='image_name',how='left')\n",
    "ensemble.head()"
   ]
  },
  {
   "cell_type": "code",
   "execution_count": 5,
   "metadata": {},
   "outputs": [
    {
     "data": {
      "text/html": [
       "<div>\n",
       "<style scoped>\n",
       "    .dataframe tbody tr th:only-of-type {\n",
       "        vertical-align: middle;\n",
       "    }\n",
       "\n",
       "    .dataframe tbody tr th {\n",
       "        vertical-align: top;\n",
       "    }\n",
       "\n",
       "    .dataframe thead th {\n",
       "        text-align: right;\n",
       "    }\n",
       "</style>\n",
       "<table border=\"1\" class=\"dataframe\">\n",
       "  <thead>\n",
       "    <tr style=\"text-align: right;\">\n",
       "      <th></th>\n",
       "      <th>image_name</th>\n",
       "      <th>target1</th>\n",
       "      <th>target2</th>\n",
       "      <th>target3</th>\n",
       "      <th>target4</th>\n",
       "    </tr>\n",
       "  </thead>\n",
       "  <tbody>\n",
       "    <tr>\n",
       "      <th>0</th>\n",
       "      <td>ISIC_0052060</td>\n",
       "      <td>0.023440</td>\n",
       "      <td>0.027555</td>\n",
       "      <td>0.049933</td>\n",
       "      <td>0.126534</td>\n",
       "    </tr>\n",
       "    <tr>\n",
       "      <th>1</th>\n",
       "      <td>ISIC_0052349</td>\n",
       "      <td>0.021552</td>\n",
       "      <td>0.022967</td>\n",
       "      <td>0.030573</td>\n",
       "      <td>0.125917</td>\n",
       "    </tr>\n",
       "    <tr>\n",
       "      <th>2</th>\n",
       "      <td>ISIC_0058510</td>\n",
       "      <td>0.024231</td>\n",
       "      <td>0.027024</td>\n",
       "      <td>0.023258</td>\n",
       "      <td>0.125996</td>\n",
       "    </tr>\n",
       "    <tr>\n",
       "      <th>3</th>\n",
       "      <td>ISIC_0073313</td>\n",
       "      <td>0.026245</td>\n",
       "      <td>0.028699</td>\n",
       "      <td>0.022494</td>\n",
       "      <td>0.125938</td>\n",
       "    </tr>\n",
       "    <tr>\n",
       "      <th>4</th>\n",
       "      <td>ISIC_0073502</td>\n",
       "      <td>0.051212</td>\n",
       "      <td>0.029710</td>\n",
       "      <td>0.038520</td>\n",
       "      <td>0.137150</td>\n",
       "    </tr>\n",
       "  </tbody>\n",
       "</table>\n",
       "</div>"
      ],
      "text/plain": [
       "     image_name   target1   target2   target3   target4\n",
       "0  ISIC_0052060  0.023440  0.027555  0.049933  0.126534\n",
       "1  ISIC_0052349  0.021552  0.022967  0.030573  0.125917\n",
       "2  ISIC_0058510  0.024231  0.027024  0.023258  0.125996\n",
       "3  ISIC_0073313  0.026245  0.028699  0.022494  0.125938\n",
       "4  ISIC_0073502  0.051212  0.029710  0.038520  0.137150"
      ]
     },
     "execution_count": 5,
     "metadata": {},
     "output_type": "execute_result"
    }
   ],
   "source": [
    "ensemble = ensemble.merge(sub_data,on='image_name',how='left')\n",
    "ensemble.head()"
   ]
  },
  {
   "cell_type": "code",
   "execution_count": 7,
   "metadata": {},
   "outputs": [
    {
     "data": {
      "text/html": [
       "<div>\n",
       "<style scoped>\n",
       "    .dataframe tbody tr th:only-of-type {\n",
       "        vertical-align: middle;\n",
       "    }\n",
       "\n",
       "    .dataframe tbody tr th {\n",
       "        vertical-align: top;\n",
       "    }\n",
       "\n",
       "    .dataframe thead th {\n",
       "        text-align: right;\n",
       "    }\n",
       "</style>\n",
       "<table border=\"1\" class=\"dataframe\">\n",
       "  <thead>\n",
       "    <tr style=\"text-align: right;\">\n",
       "      <th></th>\n",
       "      <th>image_name</th>\n",
       "      <th>target1</th>\n",
       "      <th>target2</th>\n",
       "      <th>target3</th>\n",
       "      <th>target4</th>\n",
       "      <th>target</th>\n",
       "    </tr>\n",
       "  </thead>\n",
       "  <tbody>\n",
       "    <tr>\n",
       "      <th>0</th>\n",
       "      <td>ISIC_0052060</td>\n",
       "      <td>0.023440</td>\n",
       "      <td>0.027555</td>\n",
       "      <td>0.049933</td>\n",
       "      <td>0.126534</td>\n",
       "      <td>0.035601</td>\n",
       "    </tr>\n",
       "    <tr>\n",
       "      <th>1</th>\n",
       "      <td>ISIC_0052349</td>\n",
       "      <td>0.021552</td>\n",
       "      <td>0.022967</td>\n",
       "      <td>0.030573</td>\n",
       "      <td>0.125917</td>\n",
       "      <td>0.032626</td>\n",
       "    </tr>\n",
       "    <tr>\n",
       "      <th>2</th>\n",
       "      <td>ISIC_0058510</td>\n",
       "      <td>0.024231</td>\n",
       "      <td>0.027024</td>\n",
       "      <td>0.023258</td>\n",
       "      <td>0.125996</td>\n",
       "      <td>0.035664</td>\n",
       "    </tr>\n",
       "    <tr>\n",
       "      <th>3</th>\n",
       "      <td>ISIC_0073313</td>\n",
       "      <td>0.026245</td>\n",
       "      <td>0.028699</td>\n",
       "      <td>0.022494</td>\n",
       "      <td>0.125938</td>\n",
       "      <td>0.037319</td>\n",
       "    </tr>\n",
       "    <tr>\n",
       "      <th>4</th>\n",
       "      <td>ISIC_0073502</td>\n",
       "      <td>0.051212</td>\n",
       "      <td>0.029710</td>\n",
       "      <td>0.038520</td>\n",
       "      <td>0.137150</td>\n",
       "      <td>0.050130</td>\n",
       "    </tr>\n",
       "  </tbody>\n",
       "</table>\n",
       "</div>"
      ],
      "text/plain": [
       "     image_name   target1   target2   target3   target4    target\n",
       "0  ISIC_0052060  0.023440  0.027555  0.049933  0.126534  0.035601\n",
       "1  ISIC_0052349  0.021552  0.022967  0.030573  0.125917  0.032626\n",
       "2  ISIC_0058510  0.024231  0.027024  0.023258  0.125996  0.035664\n",
       "3  ISIC_0073313  0.026245  0.028699  0.022494  0.125938  0.037319\n",
       "4  ISIC_0073502  0.051212  0.029710  0.038520  0.137150  0.050130"
      ]
     },
     "execution_count": 7,
     "metadata": {},
     "output_type": "execute_result"
    }
   ],
   "source": [
    "WGT_IMG_1 = 0.9*(1/2)\n",
    "WGT_IMG_2 = 0.9*(1/2)\n",
    "WGT_IMG_3 = 0.0*(1/2)\n",
    "WGT_DATA = 0.1\n",
    "\n",
    "ensemble['target'] = WGT_IMG_1*ensemble.target1 + WGT_IMG_2*ensemble.target2 + WGT_IMG_3*ensemble.target3 + WGT_DATA*ensemble.target4\n",
    "ensemble.head()"
   ]
  },
  {
   "cell_type": "code",
   "execution_count": 8,
   "metadata": {},
   "outputs": [
    {
     "data": {
      "text/plain": [
       "1.0"
      ]
     },
     "execution_count": 8,
     "metadata": {},
     "output_type": "execute_result"
    }
   ],
   "source": [
    "WGT_IMG_1+WGT_IMG_2+WGT_IMG_3+WGT_DATA"
   ]
  },
  {
   "cell_type": "code",
   "execution_count": 9,
   "metadata": {},
   "outputs": [],
   "source": [
    "ensemble[['image_name','target']].to_csv('20200722-Pandas-Merge-Submission-TEST.csv',index=False)"
   ]
  },
  {
   "cell_type": "code",
   "execution_count": null,
   "metadata": {},
   "outputs": [],
   "source": []
  }
 ],
 "metadata": {
  "kernelspec": {
   "display_name": "Python 3",
   "language": "python",
   "name": "python3"
  },
  "language_info": {
   "codemirror_mode": {
    "name": "ipython",
    "version": 3
   },
   "file_extension": ".py",
   "mimetype": "text/x-python",
   "name": "python",
   "nbconvert_exporter": "python",
   "pygments_lexer": "ipython3",
   "version": "3.7.4"
  }
 },
 "nbformat": 4,
 "nbformat_minor": 2
}
