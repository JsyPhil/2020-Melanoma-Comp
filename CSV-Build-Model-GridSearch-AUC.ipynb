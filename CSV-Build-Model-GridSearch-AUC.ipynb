{
 "cells": [
  {
   "cell_type": "code",
   "execution_count": 1,
   "metadata": {},
   "outputs": [],
   "source": [
    "import pandas as pd\n",
    "\n",
    "from sklearn.compose import ColumnTransformer\n",
    "from sklearn.impute import SimpleImputer\n",
    "from sklearn.metrics import mean_absolute_error\n",
    "from sklearn.model_selection import cross_val_score\n",
    "from sklearn.model_selection import GridSearchCV\n",
    "from sklearn.pipeline import Pipeline\n",
    "from sklearn.preprocessing import StandardScaler\n",
    "from sklearn.preprocessing import OneHotEncoder\n",
    "\n",
    "from xgboost import XGBRegressor\n",
    "\n",
    "import time"
   ]
  },
  {
   "cell_type": "code",
   "execution_count": 2,
   "metadata": {},
   "outputs": [],
   "source": [
    "# Read the data\n",
    "csv_train_file = pd.read_csv('./siim-isic-melanoma-classification/train.csv')\n",
    "csv_test_file = pd.read_csv('./siim-isic-melanoma-classification/test.csv')\n",
    "\n",
    "# Separate target from predictors\n",
    "y = csv_train_file.target\n",
    "csv_train_file.drop(['target', 'benign_malignant', 'diagnosis'], axis=1, inplace=True)\n",
    "\n",
    "X_train_load = csv_train_file\n",
    "X_test_load = csv_test_file"
   ]
  },
  {
   "cell_type": "code",
   "execution_count": 3,
   "metadata": {},
   "outputs": [
    {
     "name": "stdout",
     "output_type": "stream",
     "text": [
      "Number of Training Examples = 33126\n",
      "Number of Test Examples = 10982\n",
      "\n",
      "Training X Shape = (33126, 5)\n",
      "Training y Shape = (33126,)\n",
      "\n",
      "Test X Shape = (10982, 5)\n"
     ]
    }
   ],
   "source": [
    "print(f'Number of Training Examples = {X_train_load.shape[0]}')\n",
    "print(f'Number of Test Examples = {X_test_load.shape[0]}\\n')\n",
    "\n",
    "print(f'Training X Shape = {X_train_load.shape}')\n",
    "print(f'Training y Shape = {y.shape}\\n')\n",
    "\n",
    "print(f'Test X Shape = {X_test_load.shape}')"
   ]
  },
  {
   "cell_type": "code",
   "execution_count": 4,
   "metadata": {},
   "outputs": [],
   "source": [
    "def concat_df(X_train, X_test):\n",
    "    # Returns a concatenated df of training and test set\n",
    "    return pd.concat([X_train, X_test], sort=True).reset_index(drop=True)\n",
    "\n",
    "def divide_df(all_data):\n",
    "    # Returns divided dfs of training and test set\n",
    "    return all_data.loc[:33125], all_data.loc[33126:]"
   ]
  },
  {
   "cell_type": "code",
   "execution_count": 5,
   "metadata": {},
   "outputs": [
    {
     "data": {
      "text/plain": [
       "(44108, 5)"
      ]
     },
     "execution_count": 5,
     "metadata": {},
     "output_type": "execute_result"
    }
   ],
   "source": [
    "X_all = concat_df(X_train_load, X_test_load)\n",
    "\n",
    "X_all.shape"
   ]
  },
  {
   "cell_type": "code",
   "execution_count": 6,
   "metadata": {},
   "outputs": [
    {
     "data": {
      "text/plain": [
       "(44108, 5)"
      ]
     },
     "execution_count": 6,
     "metadata": {},
     "output_type": "execute_result"
    }
   ],
   "source": [
    "# Select categorical columns\n",
    "categorical_cols = [cname for cname in X_all.columns if\n",
    "                    X_all[cname].dtype == \"object\"]\n",
    "\n",
    "# Select numerical columns\n",
    "numerical_cols = [cname for cname in X_all.columns if \n",
    "                X_all[cname].dtype in ['int64', 'float64']]\n",
    "\n",
    "# Keep selected columns only - only relevant if we want to discard any columns on X_train (unlikely)\n",
    "my_cols = categorical_cols + numerical_cols\n",
    "X_all_card = X_all[my_cols].copy()\n",
    "\n",
    "X_all_card.shape"
   ]
  },
  {
   "cell_type": "code",
   "execution_count": 7,
   "metadata": {},
   "outputs": [
    {
     "name": "stdout",
     "output_type": "stream",
     "text": [
      "Number of Training Examples = 33126\n",
      "Number of Test Examples = 10982\n"
     ]
    }
   ],
   "source": [
    "X_train, X_test = divide_df(X_all_card)\n",
    "\n",
    "print(f'Number of Training Examples = {X_train.shape[0]}')\n",
    "print(f'Number of Test Examples = {X_test.shape[0]}')"
   ]
  },
  {
   "cell_type": "code",
   "execution_count": 8,
   "metadata": {},
   "outputs": [],
   "source": [
    "# Preprocessing for numerical data\n",
    "numerical_transformer = Pipeline(steps=[\n",
    "                                ('imputern', SimpleImputer(strategy='constant')),\n",
    "                                ('scaler', StandardScaler())\n",
    "                                 ])\n",
    "\n",
    "# Preprocessing for categorical data\n",
    "categorical_transformer = Pipeline(steps=[\n",
    "                                ('imputerc', SimpleImputer(strategy='constant')),\n",
    "                                ('onehot', OneHotEncoder(handle_unknown='ignore', sparse=False))\n",
    "                                ])\n",
    "\n",
    "# Bundle preprocessing for numerical and categorical data\n",
    "preprocessor = ColumnTransformer(\n",
    "    transformers=[\n",
    "        ('num', numerical_transformer, numerical_cols),\n",
    "        ('cat', categorical_transformer, categorical_cols)\n",
    "    ])"
   ]
  },
  {
   "cell_type": "code",
   "execution_count": 17,
   "metadata": {},
   "outputs": [],
   "source": [
    "def get_score(param_grid):\n",
    "\n",
    "    score_pipeline = Pipeline(steps=[\n",
    "        ('preprocessor', preprocessor),\n",
    "        ('model', XGBRegressor(objective='binary:logistic',\n",
    "                               learning_rate=0.01,\n",
    "                               tree_method='gpu_hist'\n",
    "                              ))])\n",
    "  \n",
    "    \n",
    "    search = GridSearchCV(score_pipeline, \n",
    "                          param_grid, \n",
    "                          #n_jobs=4,\n",
    "                          cv=5,\n",
    "                          verbose=3,\n",
    "                          scoring='roc_auc'\n",
    "                         )\n",
    "    \n",
    "    search.fit(X_train, y)\n",
    "    \n",
    "    print(\"Best parameter (CV score=%0.3f):\" % search.best_score_)\n",
    "    print(search.best_params_)\n",
    "    return search"
   ]
  },
  {
   "cell_type": "code",
   "execution_count": 15,
   "metadata": {},
   "outputs": [
    {
     "name": "stdout",
     "output_type": "stream",
     "text": [
      "Fitting 5 folds for each of 4 candidates, totalling 20 fits\n",
      "[CV] model__n_estimators=100, preprocessor__cat__imputerc__strategy=constant, preprocessor__num__imputern__strategy=constant \n"
     ]
    },
    {
     "name": "stderr",
     "output_type": "stream",
     "text": [
      "[Parallel(n_jobs=1)]: Using backend SequentialBackend with 1 concurrent workers.\n"
     ]
    },
    {
     "name": "stdout",
     "output_type": "stream",
     "text": [
      "[CV]  model__n_estimators=100, preprocessor__cat__imputerc__strategy=constant, preprocessor__num__imputern__strategy=constant, score=0.682, total=  31.3s\n",
      "[CV] model__n_estimators=100, preprocessor__cat__imputerc__strategy=constant, preprocessor__num__imputern__strategy=constant \n"
     ]
    },
    {
     "name": "stderr",
     "output_type": "stream",
     "text": [
      "[Parallel(n_jobs=1)]: Done   1 out of   1 | elapsed:   31.3s remaining:    0.0s\n"
     ]
    },
    {
     "name": "stdout",
     "output_type": "stream",
     "text": [
      "[CV]  model__n_estimators=100, preprocessor__cat__imputerc__strategy=constant, preprocessor__num__imputern__strategy=constant, score=0.719, total=  30.4s\n",
      "[CV] model__n_estimators=100, preprocessor__cat__imputerc__strategy=constant, preprocessor__num__imputern__strategy=constant \n"
     ]
    },
    {
     "name": "stderr",
     "output_type": "stream",
     "text": [
      "[Parallel(n_jobs=1)]: Done   2 out of   2 | elapsed:  1.0min remaining:    0.0s\n"
     ]
    },
    {
     "name": "stdout",
     "output_type": "stream",
     "text": [
      "[CV]  model__n_estimators=100, preprocessor__cat__imputerc__strategy=constant, preprocessor__num__imputern__strategy=constant, score=0.657, total=  30.3s\n",
      "[CV] model__n_estimators=100, preprocessor__cat__imputerc__strategy=constant, preprocessor__num__imputern__strategy=constant \n",
      "[CV]  model__n_estimators=100, preprocessor__cat__imputerc__strategy=constant, preprocessor__num__imputern__strategy=constant, score=0.659, total=  30.4s\n",
      "[CV] model__n_estimators=100, preprocessor__cat__imputerc__strategy=constant, preprocessor__num__imputern__strategy=constant \n",
      "[CV]  model__n_estimators=100, preprocessor__cat__imputerc__strategy=constant, preprocessor__num__imputern__strategy=constant, score=0.726, total=  30.0s\n",
      "[CV] model__n_estimators=100, preprocessor__cat__imputerc__strategy=constant, preprocessor__num__imputern__strategy=most_frequent \n",
      "[CV]  model__n_estimators=100, preprocessor__cat__imputerc__strategy=constant, preprocessor__num__imputern__strategy=most_frequent, score=0.682, total=  30.8s\n",
      "[CV] model__n_estimators=100, preprocessor__cat__imputerc__strategy=constant, preprocessor__num__imputern__strategy=most_frequent \n",
      "[CV]  model__n_estimators=100, preprocessor__cat__imputerc__strategy=constant, preprocessor__num__imputern__strategy=most_frequent, score=0.718, total=  30.8s\n",
      "[CV] model__n_estimators=100, preprocessor__cat__imputerc__strategy=constant, preprocessor__num__imputern__strategy=most_frequent \n",
      "[CV]  model__n_estimators=100, preprocessor__cat__imputerc__strategy=constant, preprocessor__num__imputern__strategy=most_frequent, score=0.650, total=  30.0s\n",
      "[CV] model__n_estimators=100, preprocessor__cat__imputerc__strategy=constant, preprocessor__num__imputern__strategy=most_frequent \n",
      "[CV]  model__n_estimators=100, preprocessor__cat__imputerc__strategy=constant, preprocessor__num__imputern__strategy=most_frequent, score=0.655, total=  30.5s\n",
      "[CV] model__n_estimators=100, preprocessor__cat__imputerc__strategy=constant, preprocessor__num__imputern__strategy=most_frequent \n",
      "[CV]  model__n_estimators=100, preprocessor__cat__imputerc__strategy=constant, preprocessor__num__imputern__strategy=most_frequent, score=0.719, total=  29.6s\n",
      "[CV] model__n_estimators=100, preprocessor__cat__imputerc__strategy=most_frequent, preprocessor__num__imputern__strategy=constant \n",
      "[CV]  model__n_estimators=100, preprocessor__cat__imputerc__strategy=most_frequent, preprocessor__num__imputern__strategy=constant, score=0.685, total=  30.6s\n",
      "[CV] model__n_estimators=100, preprocessor__cat__imputerc__strategy=most_frequent, preprocessor__num__imputern__strategy=constant \n",
      "[CV]  model__n_estimators=100, preprocessor__cat__imputerc__strategy=most_frequent, preprocessor__num__imputern__strategy=constant, score=0.711, total=  31.4s\n",
      "[CV] model__n_estimators=100, preprocessor__cat__imputerc__strategy=most_frequent, preprocessor__num__imputern__strategy=constant \n",
      "[CV]  model__n_estimators=100, preprocessor__cat__imputerc__strategy=most_frequent, preprocessor__num__imputern__strategy=constant, score=0.653, total=  30.6s\n",
      "[CV] model__n_estimators=100, preprocessor__cat__imputerc__strategy=most_frequent, preprocessor__num__imputern__strategy=constant \n",
      "[CV]  model__n_estimators=100, preprocessor__cat__imputerc__strategy=most_frequent, preprocessor__num__imputern__strategy=constant, score=0.654, total=  31.4s\n",
      "[CV] model__n_estimators=100, preprocessor__cat__imputerc__strategy=most_frequent, preprocessor__num__imputern__strategy=constant \n",
      "[CV]  model__n_estimators=100, preprocessor__cat__imputerc__strategy=most_frequent, preprocessor__num__imputern__strategy=constant, score=0.729, total=  29.7s\n",
      "[CV] model__n_estimators=100, preprocessor__cat__imputerc__strategy=most_frequent, preprocessor__num__imputern__strategy=most_frequent \n",
      "[CV]  model__n_estimators=100, preprocessor__cat__imputerc__strategy=most_frequent, preprocessor__num__imputern__strategy=most_frequent, score=0.680, total=  31.0s\n",
      "[CV] model__n_estimators=100, preprocessor__cat__imputerc__strategy=most_frequent, preprocessor__num__imputern__strategy=most_frequent \n",
      "[CV]  model__n_estimators=100, preprocessor__cat__imputerc__strategy=most_frequent, preprocessor__num__imputern__strategy=most_frequent, score=0.718, total=  30.3s\n",
      "[CV] model__n_estimators=100, preprocessor__cat__imputerc__strategy=most_frequent, preprocessor__num__imputern__strategy=most_frequent \n",
      "[CV]  model__n_estimators=100, preprocessor__cat__imputerc__strategy=most_frequent, preprocessor__num__imputern__strategy=most_frequent, score=0.649, total=  31.2s\n",
      "[CV] model__n_estimators=100, preprocessor__cat__imputerc__strategy=most_frequent, preprocessor__num__imputern__strategy=most_frequent \n",
      "[CV]  model__n_estimators=100, preprocessor__cat__imputerc__strategy=most_frequent, preprocessor__num__imputern__strategy=most_frequent, score=0.655, total=  31.1s\n",
      "[CV] model__n_estimators=100, preprocessor__cat__imputerc__strategy=most_frequent, preprocessor__num__imputern__strategy=most_frequent \n",
      "[CV]  model__n_estimators=100, preprocessor__cat__imputerc__strategy=most_frequent, preprocessor__num__imputern__strategy=most_frequent, score=0.722, total=  29.9s\n"
     ]
    },
    {
     "name": "stderr",
     "output_type": "stream",
     "text": [
      "[Parallel(n_jobs=1)]: Done  20 out of  20 | elapsed: 10.2min finished\n"
     ]
    },
    {
     "name": "stdout",
     "output_type": "stream",
     "text": [
      "Best parameter (CV score=0.688):\n",
      "{'model__n_estimators': 100, 'preprocessor__cat__imputerc__strategy': 'constant', 'preprocessor__num__imputern__strategy': 'constant'}\n",
      "Time taken:  652.7218263149261\n"
     ]
    }
   ],
   "source": [
    "param_grid = {\n",
    "'preprocessor__num__imputern__strategy': ['constant', 'most_frequent'],\n",
    "'preprocessor__cat__imputerc__strategy': ['constant', 'most_frequent'],\n",
    "'model__n_estimators': range(100, 200, 100)\n",
    "}\n",
    "\n",
    "start = time.time()\n",
    "grid = get_score(param_grid)\n",
    "elapsed = time.time() - start\n",
    "\n",
    "print(\"Time taken: \", elapsed)"
   ]
  },
  {
   "cell_type": "code",
   "execution_count": 18,
   "metadata": {},
   "outputs": [
    {
     "name": "stdout",
     "output_type": "stream",
     "text": [
      "Time taken:  42.81570482254028\n"
     ]
    }
   ],
   "source": [
    "# Build final model based on best parameters\n",
    "\n",
    "start = time.time()\n",
    "submission_pipeline = Pipeline(steps=[\n",
    "    ('preprocessor', preprocessor),\n",
    "    ('model', XGBRegressor(objective ='binary:logistic',\n",
    "                           random_state=0,\n",
    "                           n_estimators=100,\n",
    "                           learning_rate=0.01,\n",
    "                           tree_method='gpu_hist'\n",
    "                          ))\n",
    "    ])\n",
    "\n",
    "submission_pipeline.fit(X_train, y)\n",
    "elapsed = time.time() - start\n",
    "print(\"Time taken: \", elapsed)"
   ]
  },
  {
   "cell_type": "code",
   "execution_count": 19,
   "metadata": {},
   "outputs": [],
   "source": [
    "preds_test = submission_pipeline.predict(X_test)"
   ]
  },
  {
   "cell_type": "code",
   "execution_count": 20,
   "metadata": {},
   "outputs": [],
   "source": [
    "# Save test predictions to file\n",
    "output = pd.DataFrame({'image_name': X_test.image_name,\n",
    "                       'target': preds_test})\n",
    "output.to_csv('./cleaned_csvs/csv_only_submission.csv', index=False)"
   ]
  },
  {
   "cell_type": "code",
   "execution_count": null,
   "metadata": {},
   "outputs": [],
   "source": []
  }
 ],
 "metadata": {
  "kernelspec": {
   "display_name": "Python 3",
   "language": "python",
   "name": "python3"
  },
  "language_info": {
   "codemirror_mode": {
    "name": "ipython",
    "version": 3
   },
   "file_extension": ".py",
   "mimetype": "text/x-python",
   "name": "python",
   "nbconvert_exporter": "python",
   "pygments_lexer": "ipython3",
   "version": "3.7.6"
  }
 },
 "nbformat": 4,
 "nbformat_minor": 4
}
